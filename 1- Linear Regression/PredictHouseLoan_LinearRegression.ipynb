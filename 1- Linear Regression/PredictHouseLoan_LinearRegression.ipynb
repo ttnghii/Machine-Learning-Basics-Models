{
 "cells": [
  {
   "cell_type": "markdown",
   "metadata": {},
   "source": [
    "<br>"
   ]
  },
  {
   "cell_type": "markdown",
   "metadata": {},
   "source": [
    "<h1 align='center'>\n",
    "<p style='color:orange'>\n",
    "<b>\n",
    "USING LINEAR REGRESSION MODEL PREDICT FINAL HOUSE LOAN\n",
    "</b>\n",
    "</p>\n",
    "</h1>"
   ]
  },
  {
   "cell_type": "markdown",
   "metadata": {},
   "source": [
    "### **| Process**"
   ]
  },
  {
   "cell_type": "markdown",
   "metadata": {},
   "source": [
    "1. Read and Load data\n",
    "2. Visualization\n",
    "3. Data Preprocessing\n",
    "4. Feature Enginering\n",
    "5. Build and Training Linear Regression model \n",
    "6. Show the model's intercepts, coeficients by using Ridge, Lasso and ElasticNet and compare the error of 3 algorithms\n",
    "6. Let's try Polynomial of order 2 to compare the previous results. What will the result be if we choose the n order too high?"
   ]
  },
  {
   "cell_type": "markdown",
   "metadata": {},
   "source": [
    "<br>\n",
    "\n",
    "In this notebook, we will evaluate our model by using Mean Absolute Error (MAE)."
   ]
  },
  {
   "cell_type": "markdown",
   "metadata": {},
   "source": [
    "<br>\n",
    "\n",
    "<h2 align='center'>\n",
    "<p style='background-color: black'>\n",
    "<span style='color:orange'>\n",
    "<b>\n",
    "1 | Read and Load data\n",
    "</b>\n",
    "</span>\n",
    "</p>\n",
    "</h2>"
   ]
  },
  {
   "cell_type": "markdown",
   "metadata": {},
   "source": [
    "This is a dataset related to how much money a person can get from a mortgage on his or her home, includes the following features:\n",
    "\n",
    "- **Gender**: Gender of the borrower (including two values 'F' and 'M')\n",
    "- **Age**: Age of the customer applying for a loan (including positive integer values)\n",
    "- **Income (USD)**: Customer's income in USD (value is a positive number)\n",
    "- **Income Stability**: The level of customer's income stability (including three values of Low and High)\n",
    "- **Property Age**: Life expectancy of the house in days (including positive integer values)\n",
    "- **Property Location**: Location of the house (including 'Rural', 'Urban', and 'Semi-Urban')\n",
    "- **Property Price**: The value of the house in USD (including positive real values)\n",
    "- **Loan Sanction Amount** (USD): Amount that customers can borrow in USD (target value)"
   ]
  },
  {
   "cell_type": "code",
   "execution_count": 2,
   "metadata": {},
   "outputs": [],
   "source": [
    "import numpy as np\n",
    "import pandas as pd"
   ]
  },
  {
   "cell_type": "markdown",
   "metadata": {},
   "source": [
    "<br>"
   ]
  },
  {
   "cell_type": "markdown",
   "metadata": {},
   "source": [
    "### **Load and Describe Data**"
   ]
  },
  {
   "cell_type": "code",
   "execution_count": 3,
   "metadata": {},
   "outputs": [
    {
     "data": {
      "text/html": [
       "<div>\n",
       "<style scoped>\n",
       "    .dataframe tbody tr th:only-of-type {\n",
       "        vertical-align: middle;\n",
       "    }\n",
       "\n",
       "    .dataframe tbody tr th {\n",
       "        vertical-align: top;\n",
       "    }\n",
       "\n",
       "    .dataframe thead th {\n",
       "        text-align: right;\n",
       "    }\n",
       "</style>\n",
       "<table border=\"1\" class=\"dataframe\">\n",
       "  <thead>\n",
       "    <tr style=\"text-align: right;\">\n",
       "      <th></th>\n",
       "      <th>Gender</th>\n",
       "      <th>Age</th>\n",
       "      <th>Income (USD)</th>\n",
       "      <th>Income Stability</th>\n",
       "      <th>Property Age</th>\n",
       "      <th>Property Location</th>\n",
       "      <th>Property Price</th>\n",
       "      <th>Loan Sanction Amount (USD)</th>\n",
       "    </tr>\n",
       "  </thead>\n",
       "  <tbody>\n",
       "    <tr>\n",
       "      <th>0</th>\n",
       "      <td>F</td>\n",
       "      <td>19</td>\n",
       "      <td>1641.25</td>\n",
       "      <td>Low</td>\n",
       "      <td>1651.25</td>\n",
       "      <td>Rural</td>\n",
       "      <td>59641.82</td>\n",
       "      <td>21026.420753</td>\n",
       "    </tr>\n",
       "    <tr>\n",
       "      <th>1</th>\n",
       "      <td>M</td>\n",
       "      <td>29</td>\n",
       "      <td>1989.71</td>\n",
       "      <td>Low</td>\n",
       "      <td>1990.71</td>\n",
       "      <td>Urban</td>\n",
       "      <td>179858.51</td>\n",
       "      <td>60595.183366</td>\n",
       "    </tr>\n",
       "    <tr>\n",
       "      <th>2</th>\n",
       "      <td>F</td>\n",
       "      <td>37</td>\n",
       "      <td>1849.91</td>\n",
       "      <td>Low</td>\n",
       "      <td>1856.91</td>\n",
       "      <td>Rural</td>\n",
       "      <td>117297.62</td>\n",
       "      <td>39181.648002</td>\n",
       "    </tr>\n",
       "  </tbody>\n",
       "</table>\n",
       "</div>"
      ],
      "text/plain": [
       "  Gender  Age  Income (USD) Income Stability  Property Age Property Location  \\\n",
       "0      F   19       1641.25              Low       1651.25             Rural   \n",
       "1      M   29       1989.71              Low       1990.71             Urban   \n",
       "2      F   37       1849.91              Low       1856.91             Rural   \n",
       "\n",
       "   Property Price  Loan Sanction Amount (USD)  \n",
       "0        59641.82                21026.420753  \n",
       "1       179858.51                60595.183366  \n",
       "2       117297.62                39181.648002  "
      ]
     },
     "execution_count": 3,
     "metadata": {},
     "output_type": "execute_result"
    }
   ],
   "source": [
    "df = pd.read_csv('final_house_loan.csv')\n",
    "df.head(3)"
   ]
  },
  {
   "cell_type": "code",
   "execution_count": 4,
   "metadata": {},
   "outputs": [
    {
     "data": {
      "text/html": [
       "<div>\n",
       "<style scoped>\n",
       "    .dataframe tbody tr th:only-of-type {\n",
       "        vertical-align: middle;\n",
       "    }\n",
       "\n",
       "    .dataframe tbody tr th {\n",
       "        vertical-align: top;\n",
       "    }\n",
       "\n",
       "    .dataframe thead th {\n",
       "        text-align: right;\n",
       "    }\n",
       "</style>\n",
       "<table border=\"1\" class=\"dataframe\">\n",
       "  <thead>\n",
       "    <tr style=\"text-align: right;\">\n",
       "      <th></th>\n",
       "      <th>count</th>\n",
       "      <th>mean</th>\n",
       "      <th>std</th>\n",
       "      <th>min</th>\n",
       "      <th>25%</th>\n",
       "      <th>50%</th>\n",
       "      <th>75%</th>\n",
       "      <th>max</th>\n",
       "    </tr>\n",
       "  </thead>\n",
       "  <tbody>\n",
       "    <tr>\n",
       "      <th>Age</th>\n",
       "      <td>47297.0</td>\n",
       "      <td>40.000063</td>\n",
       "      <td>16.086128</td>\n",
       "      <td>18.000000</td>\n",
       "      <td>24.000000</td>\n",
       "      <td>40.000000</td>\n",
       "      <td>55.000000</td>\n",
       "      <td>6.500000e+01</td>\n",
       "    </tr>\n",
       "    <tr>\n",
       "      <th>Income (USD)</th>\n",
       "      <td>47265.0</td>\n",
       "      <td>2586.684384</td>\n",
       "      <td>1558.768809</td>\n",
       "      <td>372.700000</td>\n",
       "      <td>1653.740000</td>\n",
       "      <td>2245.480000</td>\n",
       "      <td>3128.560000</td>\n",
       "      <td>5.466275e+04</td>\n",
       "    </tr>\n",
       "    <tr>\n",
       "      <th>Property Age</th>\n",
       "      <td>47263.0</td>\n",
       "      <td>2586.611058</td>\n",
       "      <td>1558.842286</td>\n",
       "      <td>370.700000</td>\n",
       "      <td>1652.820000</td>\n",
       "      <td>2244.810000</td>\n",
       "      <td>3128.380000</td>\n",
       "      <td>5.464775e+04</td>\n",
       "    </tr>\n",
       "    <tr>\n",
       "      <th>Property Price</th>\n",
       "      <td>47297.0</td>\n",
       "      <td>135088.045810</td>\n",
       "      <td>94578.752770</td>\n",
       "      <td>7859.620000</td>\n",
       "      <td>62504.080000</td>\n",
       "      <td>113093.600000</td>\n",
       "      <td>181954.630000</td>\n",
       "      <td>1.077967e+06</td>\n",
       "    </tr>\n",
       "    <tr>\n",
       "      <th>Loan Sanction Amount (USD)</th>\n",
       "      <td>47297.0</td>\n",
       "      <td>46487.229765</td>\n",
       "      <td>32549.905634</td>\n",
       "      <td>254.586578</td>\n",
       "      <td>21782.822159</td>\n",
       "      <td>38822.132402</td>\n",
       "      <td>62612.236905</td>\n",
       "      <td>3.661312e+05</td>\n",
       "    </tr>\n",
       "  </tbody>\n",
       "</table>\n",
       "</div>"
      ],
      "text/plain": [
       "                              count           mean           std          min  \\\n",
       "Age                         47297.0      40.000063     16.086128    18.000000   \n",
       "Income (USD)                47265.0    2586.684384   1558.768809   372.700000   \n",
       "Property Age                47263.0    2586.611058   1558.842286   370.700000   \n",
       "Property Price              47297.0  135088.045810  94578.752770  7859.620000   \n",
       "Loan Sanction Amount (USD)  47297.0   46487.229765  32549.905634   254.586578   \n",
       "\n",
       "                                     25%            50%            75%  \\\n",
       "Age                            24.000000      40.000000      55.000000   \n",
       "Income (USD)                 1653.740000    2245.480000    3128.560000   \n",
       "Property Age                 1652.820000    2244.810000    3128.380000   \n",
       "Property Price              62504.080000  113093.600000  181954.630000   \n",
       "Loan Sanction Amount (USD)  21782.822159   38822.132402   62612.236905   \n",
       "\n",
       "                                     max  \n",
       "Age                         6.500000e+01  \n",
       "Income (USD)                5.466275e+04  \n",
       "Property Age                5.464775e+04  \n",
       "Property Price              1.077967e+06  \n",
       "Loan Sanction Amount (USD)  3.661312e+05  "
      ]
     },
     "execution_count": 4,
     "metadata": {},
     "output_type": "execute_result"
    }
   ],
   "source": [
    "df.describe().T"
   ]
  },
  {
   "cell_type": "markdown",
   "metadata": {},
   "source": [
    "<br>\n",
    "\n",
    "<h2 align='center'>\n",
    "<p style='background-color: black'>\n",
    "<span style='color:orange'>\n",
    "<b>\n",
    "2 | Visualization\n",
    "</b>\n",
    "</span>\n",
    "</p>\n",
    "</h2>"
   ]
  },
  {
   "cell_type": "code",
   "execution_count": 5,
   "metadata": {},
   "outputs": [],
   "source": [
    "# for ploting:\n",
    "import matplotlib.pyplot as plt\n",
    "import seaborn as sns\n",
    "\n",
    "# optional\n",
    "import warnings\n",
    "warnings.filterwarnings('ignore')"
   ]
  },
  {
   "cell_type": "code",
   "execution_count": 6,
   "metadata": {},
   "outputs": [],
   "source": [
    "# set font for ploting\n",
    "font = {'fontsize': 16,\n",
    "        'fontstyle': 'italic',\n",
    "        'backgroundcolor': 'black',\n",
    "        'color': 'white'}\n",
    "\n",
    "%matplotlib inline\n",
    "\n",
    "plt.style.use('_mpl-gallery')\n",
    "plt.style.use('seaborn-v0_8')"
   ]
  },
  {
   "cell_type": "markdown",
   "metadata": {},
   "source": [
    "<br>\n",
    "<h3 align='center'>\n",
    "<p style='background-color: lightyellow'>\n",
    "<span style='color:orange'>\n",
    "<b>\n",
    "2.1 | For Categorical columns\n",
    "</b>\n",
    "</span>\n",
    "</p>\n",
    "</h3>"
   ]
  },
  {
   "cell_type": "code",
   "execution_count": 7,
   "metadata": {},
   "outputs": [
    {
     "data": {
      "text/html": [
       "<div>\n",
       "<style scoped>\n",
       "    .dataframe tbody tr th:only-of-type {\n",
       "        vertical-align: middle;\n",
       "    }\n",
       "\n",
       "    .dataframe tbody tr th {\n",
       "        vertical-align: top;\n",
       "    }\n",
       "\n",
       "    .dataframe thead th {\n",
       "        text-align: right;\n",
       "    }\n",
       "</style>\n",
       "<table border=\"1\" class=\"dataframe\">\n",
       "  <thead>\n",
       "    <tr style=\"text-align: right;\">\n",
       "      <th></th>\n",
       "      <th>Gender</th>\n",
       "      <th>Income Stability</th>\n",
       "      <th>Property Location</th>\n",
       "    </tr>\n",
       "  </thead>\n",
       "  <tbody>\n",
       "    <tr>\n",
       "      <th>0</th>\n",
       "      <td>F</td>\n",
       "      <td>Low</td>\n",
       "      <td>Rural</td>\n",
       "    </tr>\n",
       "    <tr>\n",
       "      <th>1</th>\n",
       "      <td>M</td>\n",
       "      <td>Low</td>\n",
       "      <td>Urban</td>\n",
       "    </tr>\n",
       "    <tr>\n",
       "      <th>2</th>\n",
       "      <td>F</td>\n",
       "      <td>Low</td>\n",
       "      <td>Rural</td>\n",
       "    </tr>\n",
       "  </tbody>\n",
       "</table>\n",
       "</div>"
      ],
      "text/plain": [
       "  Gender Income Stability Property Location\n",
       "0      F              Low             Rural\n",
       "1      M              Low             Urban\n",
       "2      F              Low             Rural"
      ]
     },
     "execution_count": 7,
     "metadata": {},
     "output_type": "execute_result"
    }
   ],
   "source": [
    "categorical_df = df.select_dtypes('object')\n",
    "categorical_df.head(3)"
   ]
  },
  {
   "cell_type": "code",
   "execution_count": 8,
   "metadata": {},
   "outputs": [
    {
     "data": {
      "image/png": "[encoded data removed]",
      "text/plain": [
       "<Figure size 1500x500 with 3 Axes>"
      ]
     },
     "metadata": {},
     "output_type": "display_data"
    }
   ],
   "source": [
    "fig, axes = plt.subplots(1, len(categorical_df.columns),\n",
    "                         figsize=(15, 5))\n",
    "\n",
    "for ax, col in zip(axes, categorical_df.columns):\n",
    "    \n",
    "    ax.pie(categorical_df[col].value_counts(),\n",
    "           labels=categorical_df[col].value_counts().index,\n",
    "           colors=sns.color_palette('dark'),\n",
    "           autopct='%1.1f%%', \n",
    "           shadow=True, startangle=90)\n",
    "    \n",
    "    ax.set_title(f'Distribution of {col}', fontdict=font, pad=15)\n",
    "    \n",
    "plt.tight_layout()\n",
    "plt.show()"
   ]
  },
  {
   "cell_type": "markdown",
   "metadata": {},
   "source": [
    "<br>\n",
    "<h3 align='center'>\n",
    "<p style='background-color: lightyellow'>\n",
    "<span style='color:orange'>\n",
    "<b>\n",
    "2.2 | For Numerical columns\n",
    "</b>\n",
    "</span>\n",
    "</p>\n",
    "</h3>"
   ]
  },
  {
   "cell_type": "code",
   "execution_count": 9,
   "metadata": {},
   "outputs": [
    {
     "data": {
      "text/html": [
       "<div>\n",
       "<style scoped>\n",
       "    .dataframe tbody tr th:only-of-type {\n",
       "        vertical-align: middle;\n",
       "    }\n",
       "\n",
       "    .dataframe tbody tr th {\n",
       "        vertical-align: top;\n",
       "    }\n",
       "\n",
       "    .dataframe thead th {\n",
       "        text-align: right;\n",
       "    }\n",
       "</style>\n",
       "<table border=\"1\" class=\"dataframe\">\n",
       "  <thead>\n",
       "    <tr style=\"text-align: right;\">\n",
       "      <th></th>\n",
       "      <th>Age</th>\n",
       "      <th>Income (USD)</th>\n",
       "      <th>Property Age</th>\n",
       "      <th>Property Price</th>\n",
       "      <th>Loan Sanction Amount (USD)</th>\n",
       "    </tr>\n",
       "  </thead>\n",
       "  <tbody>\n",
       "    <tr>\n",
       "      <th>0</th>\n",
       "      <td>19</td>\n",
       "      <td>1641.25</td>\n",
       "      <td>1651.25</td>\n",
       "      <td>59641.82</td>\n",
       "      <td>21026.420753</td>\n",
       "    </tr>\n",
       "    <tr>\n",
       "      <th>1</th>\n",
       "      <td>29</td>\n",
       "      <td>1989.71</td>\n",
       "      <td>1990.71</td>\n",
       "      <td>179858.51</td>\n",
       "      <td>60595.183366</td>\n",
       "    </tr>\n",
       "    <tr>\n",
       "      <th>2</th>\n",
       "      <td>37</td>\n",
       "      <td>1849.91</td>\n",
       "      <td>1856.91</td>\n",
       "      <td>117297.62</td>\n",
       "      <td>39181.648002</td>\n",
       "    </tr>\n",
       "  </tbody>\n",
       "</table>\n",
       "</div>"
      ],
      "text/plain": [
       "   Age  Income (USD)  Property Age  Property Price  Loan Sanction Amount (USD)\n",
       "0   19       1641.25       1651.25        59641.82                21026.420753\n",
       "1   29       1989.71       1990.71       179858.51                60595.183366\n",
       "2   37       1849.91       1856.91       117297.62                39181.648002"
      ]
     },
     "execution_count": 9,
     "metadata": {},
     "output_type": "execute_result"
    }
   ],
   "source": [
    "numerical_df = df.select_dtypes('number')\n",
    "numerical_df.head(3)"
   ]
  },
  {
   "cell_type": "code",
   "execution_count": 10,
   "metadata": {},
   "outputs": [
    {
     "data": {
      "image/png": "[encoded data removed]",
      "text/plain": [
       "<Figure size 2000x400 with 5 Axes>"
      ]
     },
     "metadata": {},
     "output_type": "display_data"
    }
   ],
   "source": [
    "fig, axes = plt.subplots(1, len(numerical_df.columns), \n",
    "                         figsize=(20, 4))\n",
    "\n",
    "colors = sns.color_palette('Set2', len(numerical_df.columns))\n",
    "\n",
    "for ax, col, color in zip(axes, numerical_df.columns, colors):    \n",
    "    sns.histplot(numerical_df[col],\n",
    "                 ax=ax,\n",
    "                 kde=True,\n",
    "                 color=color)\n",
    "    ax.set_title(f'Distribution of {col}', fontdict=font, pad=15)\n",
    "    \n",
    "plt.tight_layout()\n",
    "plt.show()"
   ]
  },
  {
   "cell_type": "markdown",
   "metadata": {},
   "source": [
    "<br>\n",
    "\n",
    "<h2 align='center'>\n",
    "<p style='background-color: black'>\n",
    "<span style='color:orange'>\n",
    "<b>\n",
    "3| Preprocess Data\n",
    "</b>\n",
    "</span>\n",
    "</p>\n",
    "</h2>"
   ]
  },
  {
   "cell_type": "code",
   "execution_count": 11,
   "metadata": {},
   "outputs": [],
   "source": [
    "filtered_df = df.copy()"
   ]
  },
  {
   "cell_type": "markdown",
   "metadata": {},
   "source": [
    "<br>\n",
    "<h3 align='center'>\n",
    "<p style='background-color: lightyellow'>\n",
    "<span style='color:orange'>\n",
    "<b>\n",
    "3.1 | Clean Data\n",
    "</b>\n",
    "</span>\n",
    "</p>\n",
    "</h3>"
   ]
  },
  {
   "cell_type": "code",
   "execution_count": 12,
   "metadata": {},
   "outputs": [
    {
     "data": {
      "text/plain": [
       "Gender                         0\n",
       "Age                            0\n",
       "Income (USD)                  32\n",
       "Income Stability              12\n",
       "Property Age                  34\n",
       "Property Location              3\n",
       "Property Price                 0\n",
       "Loan Sanction Amount (USD)     0\n",
       "dtype: int64"
      ]
     },
     "execution_count": 12,
     "metadata": {},
     "output_type": "execute_result"
    }
   ],
   "source": [
    "missing_value = filtered_df.isnull().sum()\n",
    "missing_value"
   ]
  },
  {
   "cell_type": "markdown",
   "metadata": {},
   "source": [
    "Calculate the percentage of missing_value per total dataset:"
   ]
  },
  {
   "cell_type": "code",
   "execution_count": 13,
   "metadata": {},
   "outputs": [
    {
     "name": "stdout",
     "output_type": "stream",
     "text": [
      "The percentage of missing values in 'Gender' column per total dataset: 0.0%\n",
      "The percentage of missing values in 'Age' column per total dataset: 0.0%\n",
      "The percentage of missing values in 'Income (USD)' column per total dataset: 0.06765756813328541%\n",
      "The percentage of missing values in 'Income Stability' column per total dataset: 0.02537158804998203%\n",
      "The percentage of missing values in 'Property Age' column per total dataset: 0.07188616614161575%\n",
      "The percentage of missing values in 'Property Location' column per total dataset: 0.006342897012495507%\n",
      "The percentage of missing values in 'Property Price' column per total dataset: 0.0%\n",
      "The percentage of missing values in 'Loan Sanction Amount (USD)' column per total dataset: 0.0%\n"
     ]
    }
   ],
   "source": [
    "for i in range(missing_value.size):\n",
    "    print(f'The percentage of missing values in \\'{filtered_df.columns[i]}\\' column per total dataset: {missing_value[i]/len(filtered_df) * 100}%')"
   ]
  },
  {
   "cell_type": "markdown",
   "metadata": {},
   "source": [
    "<br>\n",
    "\n",
    "Because all parameters are very low, so we drop all missing values."
   ]
  },
  {
   "cell_type": "code",
   "execution_count": 14,
   "metadata": {},
   "outputs": [],
   "source": [
    "for column in filtered_df.columns:\n",
    "    filtered_df.dropna(subset=[column], axis=0, inplace=True)"
   ]
  },
  {
   "cell_type": "code",
   "execution_count": 15,
   "metadata": {},
   "outputs": [
    {
     "data": {
      "text/plain": [
       "Gender                        0\n",
       "Age                           0\n",
       "Income (USD)                  0\n",
       "Income Stability              0\n",
       "Property Age                  0\n",
       "Property Location             0\n",
       "Property Price                0\n",
       "Loan Sanction Amount (USD)    0\n",
       "dtype: int64"
      ]
     },
     "execution_count": 15,
     "metadata": {},
     "output_type": "execute_result"
    }
   ],
   "source": [
    "filtered_df.isnull().sum()"
   ]
  },
  {
   "cell_type": "markdown",
   "metadata": {},
   "source": [
    "<br>\n",
    "<h3 align='center'>\n",
    "<p style='background-color: lightyellow'>\n",
    "<span style='color:orange'>\n",
    "<b>\n",
    "3.2 | Detect Outlier\n",
    "</b>\n",
    "</span>\n",
    "</p>\n",
    "</h3>"
   ]
  },
  {
   "cell_type": "code",
   "execution_count": 16,
   "metadata": {},
   "outputs": [],
   "source": [
    "def remove_outliers(df: pd.DataFrame, col: str, thresh: float=1.5):\n",
    "    \n",
    "    q1, q3 = df[col].quantile(0.25), df[col].quantile(0.75)\n",
    "    iqr = q3 - q1\n",
    "    \n",
    "    lower_bound, upper_bound = q1 - (thresh * iqr), q3 + (thresh * iqr)\n",
    "    \n",
    "    df_filtered = df[ df[col] >= lower_bound ]\n",
    "    df_filtered = df_filtered[ df_filtered[col] <= upper_bound ]\n",
    "    \n",
    "    return df_filtered    "
   ]
  },
  {
   "cell_type": "code",
   "execution_count": 17,
   "metadata": {},
   "outputs": [
    {
     "name": "stdout",
     "output_type": "stream",
     "text": [
      "The shape of data before preprocessing: (47297, 8)\n",
      "The shape of data after preprocessing: (42995, 8)\n"
     ]
    }
   ],
   "source": [
    "for col in numerical_df.columns:\n",
    "    filtered_df = remove_outliers(filtered_df, col)\n",
    "\n",
    "print(f'The shape of data before preprocessing: {df.shape}')\n",
    "print(f'The shape of data after preprocessing: {filtered_df.shape}')"
   ]
  },
  {
   "cell_type": "markdown",
   "metadata": {},
   "source": [
    "Update subset dataframe:"
   ]
  },
  {
   "cell_type": "code",
   "execution_count": 18,
   "metadata": {},
   "outputs": [],
   "source": [
    "categorical_df = filtered_df.select_dtypes(include=[object])\n",
    "numerical_df = filtered_df.select_dtypes(include=[np.number])"
   ]
  },
  {
   "cell_type": "markdown",
   "metadata": {},
   "source": [
    "<br>\n",
    "<h2 align='center'>\n",
    "<p style='background-color: black'>\n",
    "<span style='color:orange'>\n",
    "<b>\n",
    "4| Feature Enginering\n",
    "</b>\n",
    "</span>\n",
    "</p>\n",
    "</h2>"
   ]
  },
  {
   "cell_type": "code",
   "execution_count": 19,
   "metadata": {},
   "outputs": [],
   "source": [
    "# for scaling:\n",
    "from sklearn.preprocessing import MinMaxScaler"
   ]
  },
  {
   "cell_type": "markdown",
   "metadata": {},
   "source": [
    "<br>\n",
    "<h3 align='center'>\n",
    "<p style='background-color: lightyellow'>\n",
    "<span style='color:orange'>\n",
    "<b>\n",
    "4.1 | Discrete data (Categorical columns)\n",
    "</b>\n",
    "</span>\n",
    "</p>\n",
    "</h3>"
   ]
  },
  {
   "cell_type": "code",
   "execution_count": 20,
   "metadata": {},
   "outputs": [
    {
     "data": {
      "text/html": [
       "<div>\n",
       "<style scoped>\n",
       "    .dataframe tbody tr th:only-of-type {\n",
       "        vertical-align: middle;\n",
       "    }\n",
       "\n",
       "    .dataframe tbody tr th {\n",
       "        vertical-align: top;\n",
       "    }\n",
       "\n",
       "    .dataframe thead th {\n",
       "        text-align: right;\n",
       "    }\n",
       "</style>\n",
       "<table border=\"1\" class=\"dataframe\">\n",
       "  <thead>\n",
       "    <tr style=\"text-align: right;\">\n",
       "      <th></th>\n",
       "      <th>Gender_M</th>\n",
       "      <th>Income Stability_Low</th>\n",
       "      <th>Property Location_Semi-Urban</th>\n",
       "      <th>Property Location_Urban</th>\n",
       "    </tr>\n",
       "  </thead>\n",
       "  <tbody>\n",
       "    <tr>\n",
       "      <th>0</th>\n",
       "      <td>0</td>\n",
       "      <td>1</td>\n",
       "      <td>0</td>\n",
       "      <td>0</td>\n",
       "    </tr>\n",
       "    <tr>\n",
       "      <th>1</th>\n",
       "      <td>1</td>\n",
       "      <td>1</td>\n",
       "      <td>0</td>\n",
       "      <td>1</td>\n",
       "    </tr>\n",
       "    <tr>\n",
       "      <th>2</th>\n",
       "      <td>0</td>\n",
       "      <td>1</td>\n",
       "      <td>0</td>\n",
       "      <td>0</td>\n",
       "    </tr>\n",
       "  </tbody>\n",
       "</table>\n",
       "</div>"
      ],
      "text/plain": [
       "   Gender_M  Income Stability_Low  Property Location_Semi-Urban  \\\n",
       "0         0                     1                             0   \n",
       "1         1                     1                             0   \n",
       "2         0                     1                             0   \n",
       "\n",
       "   Property Location_Urban  \n",
       "0                        0  \n",
       "1                        1  \n",
       "2                        0  "
      ]
     },
     "execution_count": 20,
     "metadata": {},
     "output_type": "execute_result"
    }
   ],
   "source": [
    "scaled_discrete_df = categorical_df.copy()\n",
    "\n",
    "scaled_discrete_df = pd.get_dummies(categorical_df,\n",
    "                                    columns=categorical_df.columns,\n",
    "                                    drop_first=True,\n",
    "                                    dtype=int)\n",
    "\n",
    "scaled_discrete_df.head(3)"
   ]
  },
  {
   "cell_type": "markdown",
   "metadata": {},
   "source": [
    "`drop_first=True`: Drop 1st category in each columns to avoid multicollinearity issues in some models (like linear regression)."
   ]
  },
  {
   "cell_type": "markdown",
   "metadata": {},
   "source": [
    "<br>\n",
    "<h3 align='center'>\n",
    "<p style='background-color: lightyellow'>\n",
    "<span style='color:orange'>\n",
    "<b>\n",
    "4.2 | Continuos data (Numerical columns)\n",
    "</b>\n",
    "</span>\n",
    "</p>\n",
    "</h3>"
   ]
  },
  {
   "cell_type": "code",
   "execution_count": 21,
   "metadata": {},
   "outputs": [
    {
     "data": {
      "text/html": [
       "<div>\n",
       "<style scoped>\n",
       "    .dataframe tbody tr th:only-of-type {\n",
       "        vertical-align: middle;\n",
       "    }\n",
       "\n",
       "    .dataframe tbody tr th {\n",
       "        vertical-align: top;\n",
       "    }\n",
       "\n",
       "    .dataframe thead th {\n",
       "        text-align: right;\n",
       "    }\n",
       "</style>\n",
       "<table border=\"1\" class=\"dataframe\">\n",
       "  <thead>\n",
       "    <tr style=\"text-align: right;\">\n",
       "      <th></th>\n",
       "      <th>Age</th>\n",
       "      <th>Income (USD)</th>\n",
       "      <th>Property Age</th>\n",
       "      <th>Property Price</th>\n",
       "      <th>Loan Sanction Amount (USD)</th>\n",
       "    </tr>\n",
       "  </thead>\n",
       "  <tbody>\n",
       "    <tr>\n",
       "      <th>0</th>\n",
       "      <td>0.021277</td>\n",
       "      <td>0.272677</td>\n",
       "      <td>0.275282</td>\n",
       "      <td>0.156941</td>\n",
       "      <td>0.186052</td>\n",
       "    </tr>\n",
       "    <tr>\n",
       "      <th>1</th>\n",
       "      <td>0.234043</td>\n",
       "      <td>0.347580</td>\n",
       "      <td>0.348256</td>\n",
       "      <td>0.521292</td>\n",
       "      <td>0.540466</td>\n",
       "    </tr>\n",
       "    <tr>\n",
       "      <th>2</th>\n",
       "      <td>0.404255</td>\n",
       "      <td>0.317529</td>\n",
       "      <td>0.319493</td>\n",
       "      <td>0.331684</td>\n",
       "      <td>0.348666</td>\n",
       "    </tr>\n",
       "  </tbody>\n",
       "</table>\n",
       "</div>"
      ],
      "text/plain": [
       "        Age  Income (USD)  Property Age  Property Price  \\\n",
       "0  0.021277      0.272677      0.275282        0.156941   \n",
       "1  0.234043      0.347580      0.348256        0.521292   \n",
       "2  0.404255      0.317529      0.319493        0.331684   \n",
       "\n",
       "   Loan Sanction Amount (USD)  \n",
       "0                    0.186052  \n",
       "1                    0.540466  \n",
       "2                    0.348666  "
      ]
     },
     "execution_count": 21,
     "metadata": {},
     "output_type": "execute_result"
    }
   ],
   "source": [
    "scaled_continous_df = numerical_df.copy()\n",
    "\n",
    "scaled_continous_df[numerical_df.columns] = MinMaxScaler().fit_transform(filtered_df[numerical_df.columns])\n",
    "\n",
    "scaled_continous_df.head(3)"
   ]
  },
  {
   "cell_type": "markdown",
   "metadata": {},
   "source": [
    "<br>\n",
    "<h3 align='center'>\n",
    "<p style='background-color: lightyellow'>\n",
    "<span style='color:orange'>\n",
    "<b>\n",
    "4.3 | For all data\n",
    "</b>\n",
    "</span>\n",
    "</p>\n",
    "</h3>"
   ]
  },
  {
   "cell_type": "code",
   "execution_count": 22,
   "metadata": {},
   "outputs": [
    {
     "data": {
      "text/html": [
       "<div>\n",
       "<style scoped>\n",
       "    .dataframe tbody tr th:only-of-type {\n",
       "        vertical-align: middle;\n",
       "    }\n",
       "\n",
       "    .dataframe tbody tr th {\n",
       "        vertical-align: top;\n",
       "    }\n",
       "\n",
       "    .dataframe thead th {\n",
       "        text-align: right;\n",
       "    }\n",
       "</style>\n",
       "<table border=\"1\" class=\"dataframe\">\n",
       "  <thead>\n",
       "    <tr style=\"text-align: right;\">\n",
       "      <th></th>\n",
       "      <th>Gender_M</th>\n",
       "      <th>Income Stability_Low</th>\n",
       "      <th>Property Location_Semi-Urban</th>\n",
       "      <th>Property Location_Urban</th>\n",
       "      <th>Age</th>\n",
       "      <th>Income (USD)</th>\n",
       "      <th>Property Age</th>\n",
       "      <th>Property Price</th>\n",
       "      <th>Loan Sanction Amount (USD)</th>\n",
       "    </tr>\n",
       "  </thead>\n",
       "  <tbody>\n",
       "    <tr>\n",
       "      <th>0</th>\n",
       "      <td>0</td>\n",
       "      <td>1</td>\n",
       "      <td>0</td>\n",
       "      <td>0</td>\n",
       "      <td>0.021277</td>\n",
       "      <td>0.272677</td>\n",
       "      <td>0.275282</td>\n",
       "      <td>0.156941</td>\n",
       "      <td>0.186052</td>\n",
       "    </tr>\n",
       "    <tr>\n",
       "      <th>1</th>\n",
       "      <td>1</td>\n",
       "      <td>1</td>\n",
       "      <td>0</td>\n",
       "      <td>1</td>\n",
       "      <td>0.234043</td>\n",
       "      <td>0.347580</td>\n",
       "      <td>0.348256</td>\n",
       "      <td>0.521292</td>\n",
       "      <td>0.540466</td>\n",
       "    </tr>\n",
       "    <tr>\n",
       "      <th>2</th>\n",
       "      <td>0</td>\n",
       "      <td>1</td>\n",
       "      <td>0</td>\n",
       "      <td>0</td>\n",
       "      <td>0.404255</td>\n",
       "      <td>0.317529</td>\n",
       "      <td>0.319493</td>\n",
       "      <td>0.331684</td>\n",
       "      <td>0.348666</td>\n",
       "    </tr>\n",
       "  </tbody>\n",
       "</table>\n",
       "</div>"
      ],
      "text/plain": [
       "   Gender_M  Income Stability_Low  Property Location_Semi-Urban  \\\n",
       "0         0                     1                             0   \n",
       "1         1                     1                             0   \n",
       "2         0                     1                             0   \n",
       "\n",
       "   Property Location_Urban       Age  Income (USD)  Property Age  \\\n",
       "0                        0  0.021277      0.272677      0.275282   \n",
       "1                        1  0.234043      0.347580      0.348256   \n",
       "2                        0  0.404255      0.317529      0.319493   \n",
       "\n",
       "   Property Price  Loan Sanction Amount (USD)  \n",
       "0        0.156941                    0.186052  \n",
       "1        0.521292                    0.540466  \n",
       "2        0.331684                    0.348666  "
      ]
     },
     "execution_count": 22,
     "metadata": {},
     "output_type": "execute_result"
    }
   ],
   "source": [
    "scaled_df = pd.concat([scaled_discrete_df, scaled_continous_df], axis=1)\n",
    "\n",
    "scaled_df.head(3)"
   ]
  },
  {
   "cell_type": "markdown",
   "metadata": {},
   "source": [
    "Now we draw heatmap to see the correlation between all features in our dataset."
   ]
  },
  {
   "cell_type": "code",
   "execution_count": 23,
   "metadata": {},
   "outputs": [
    {
     "data": {
      "image/png": "[encoded data removed]",
      "text/plain": [
       "<Figure size 800x550 with 2 Axes>"
      ]
     },
     "metadata": {},
     "output_type": "display_data"
    }
   ],
   "source": [
    "sns.heatmap(scaled_df.corr(), annot=True, cmap=sns.color_palette('Set2'))\n",
    "plt.show()"
   ]
  },
  {
   "cell_type": "markdown",
   "metadata": {},
   "source": [
    "<br>\n",
    "\n",
    "<h2 align='center'>\n",
    "<p style='background-color: black'>\n",
    "<span style='color:orange'>\n",
    "<b>\n",
    "5| Build and Train model\n",
    "</b>\n",
    "</span>\n",
    "</p>\n",
    "</h2>"
   ]
  },
  {
   "cell_type": "markdown",
   "metadata": {},
   "source": [
    "<h3 align='center'>\n",
    "<p style='background-color: lightyellow'>\n",
    "<span style='color:orange'>\n",
    "<b>\n",
    "5.1 | Split data\n",
    "</b>\n",
    "</span>\n",
    "</p>\n",
    "</h3>"
   ]
  },
  {
   "cell_type": "code",
   "execution_count": 24,
   "metadata": {},
   "outputs": [],
   "source": [
    "# for split train-test:\n",
    "from sklearn.model_selection import train_test_split\n",
    "from sklearn.metrics import mean_absolute_error"
   ]
  },
  {
   "cell_type": "code",
   "execution_count": 25,
   "metadata": {},
   "outputs": [],
   "source": [
    "X, y = scaled_df.drop(columns=['Loan Sanction Amount (USD)']), scaled_df['Loan Sanction Amount (USD)']"
   ]
  },
  {
   "cell_type": "code",
   "execution_count": 26,
   "metadata": {},
   "outputs": [],
   "source": [
    "def split_train_test(X, y: float, train_size: float=0.7):\n",
    "    \n",
    "    train_X, test_X, train_y, test_y = train_test_split(X, y,\n",
    "                                                        train_size=train_size,\n",
    "                                                        random_state=24,\n",
    "                                                        shuffle=True)\n",
    "    print(f'Training: {str(train_X.shape)}')\n",
    "    print(f'Test: {str(test_X.shape)}')\n",
    "    \n",
    "    return train_X, test_X, train_y, test_y"
   ]
  },
  {
   "cell_type": "code",
   "execution_count": 27,
   "metadata": {},
   "outputs": [
    {
     "name": "stdout",
     "output_type": "stream",
     "text": [
      "Training: (30096, 8)\n",
      "Test: (12899, 8)\n"
     ]
    }
   ],
   "source": [
    "TRAIN_SIZE = 0.7\n",
    "\n",
    "X_train, X_test ,y_train, y_test = split_train_test(X, y, train_size=TRAIN_SIZE)"
   ]
  },
  {
   "cell_type": "markdown",
   "metadata": {},
   "source": [
    "<br>\n",
    "<h3 align='center'>\n",
    "<p style='background-color: lightyellow'>\n",
    "<span style='color:orange'>\n",
    "<b>\n",
    "5.2 | Apply Linear Regression Model\n",
    "</b>\n",
    "</span>\n",
    "</p>\n",
    "</h3>"
   ]
  },
  {
   "cell_type": "markdown",
   "metadata": {},
   "source": [
    "Show the model's intercept and coeficent:"
   ]
  },
  {
   "cell_type": "code",
   "execution_count": 28,
   "metadata": {},
   "outputs": [],
   "source": [
    "def show_predict_params(model, X_train=X_train, X_test=X_test, y_train=y_train, y_test=y_test):\n",
    "    \n",
    "    print(f'MAE of {model} model on Training set: {mean_absolute_error(y_pred=model.predict(X_train), y_true=y_train)}')\n",
    "    print(f'MAE of {model} model on Testing set: {mean_absolute_error(y_pred=model.predict(X_test), y_true=y_test)}\\n')\n",
    "\n",
    "    # Model's intercept and coeficient:\n",
    "    print(f'Model\\'s Intercept: {model.intercept_}')\n",
    "    print(f'Model\\'s Coeficient: {model.coef_}')"
   ]
  },
  {
   "cell_type": "markdown",
   "metadata": {},
   "source": [
    "<br>\n",
    "\n",
    "Build our Linear Regression model:"
   ]
  },
  {
   "cell_type": "code",
   "execution_count": 29,
   "metadata": {},
   "outputs": [],
   "source": [
    "# for modeling:\n",
    "from sklearn.linear_model import LinearRegression"
   ]
  },
  {
   "cell_type": "code",
   "execution_count": 30,
   "metadata": {},
   "outputs": [],
   "source": [
    "def build_linear_model(X, y):\n",
    "\n",
    "    model = LinearRegression()\n",
    "    model.fit(X, y)\n",
    "    \n",
    "    return model"
   ]
  },
  {
   "cell_type": "code",
   "execution_count": 31,
   "metadata": {},
   "outputs": [
    {
     "name": "stdout",
     "output_type": "stream",
     "text": [
      "MAE of LinearRegression() model on Training set: 0.0008123334446083036\n",
      "MAE of LinearRegression() model on Testing set: 0.0007647815902235231\n",
      "\n",
      "Model's Intercept: 0.11959415869124282\n",
      "Model's Coeficient: [-0.00204323 -0.10013464 -0.00256543 -0.00119619 -0.03336023  0.02169647\n",
      "  0.02143111  0.99287175]\n"
     ]
    }
   ],
   "source": [
    "linear_model = build_linear_model(X_train, y_train)\n",
    "\n",
    "show_predict_params(model=linear_model)"
   ]
  },
  {
   "cell_type": "markdown",
   "metadata": {},
   "source": [
    "<br>\n",
    "\n",
    "<h2 align='center'>\n",
    "<p style='background-color: black'>\n",
    "<span style='color:orange'>\n",
    "<b>\n",
    "6 | Using evaluation metrics\n",
    "</b>\n",
    "</span>\n",
    "</p>\n",
    "</h2>"
   ]
  },
  {
   "cell_type": "code",
   "execution_count": 32,
   "metadata": {},
   "outputs": [],
   "source": [
    "from sklearn.linear_model import Ridge, Lasso, ElasticNet\n",
    "from sklearn.model_selection import GridSearchCV"
   ]
  },
  {
   "cell_type": "markdown",
   "metadata": {},
   "source": [
    "<br>\n",
    "<h3 align='center'>\n",
    "<p style='background-color: lightyellow'>\n",
    "<span style='color:orange'>\n",
    "<b>\n",
    "6.1 | Ridge algorithm\n",
    "</b>\n",
    "</span>\n",
    "</p>\n",
    "</h3>"
   ]
  },
  {
   "cell_type": "markdown",
   "metadata": {},
   "source": [
    "<br>\n",
    "\n",
    "Linear least squares with l2 regularization. Minimizes the objective function:\n",
    "\n",
    "$$||y - Xw||^2_2 + alpha * ||w||^2_2$$\n",
    "\n",
    "`alpha: {float=[0, inf) or ndarray of shape (n_targets,), default=1.0`: When **alpha=0** it became Linear Regression problem."
   ]
  },
  {
   "cell_type": "markdown",
   "metadata": {},
   "source": [
    "This estimator has built-in support for multi-variate regression (i.e., **when y is a 2D-array of shape (n_samples, n_targets)**)."
   ]
  },
  {
   "cell_type": "code",
   "execution_count": 33,
   "metadata": {},
   "outputs": [],
   "source": [
    "def choose_alpha(model, alpha, X_train=X_train, y_train=y_train, X_test=X_test):\n",
    "\n",
    "    param_grid = {'alpha': alpha}\n",
    "    \n",
    "    grid_search = GridSearchCV(model,\n",
    "                               param_grid=param_grid,\n",
    "                               cv=5,  # fold, default=5\n",
    "                               scoring='neg_mean_absolute_error')\n",
    "    grid_search.fit(X_train, y_train)\n",
    "    \n",
    "    y_pred = grid_search.predict(X_test)\n",
    "    \n",
    "    mae = mean_absolute_error(y_test, y_pred)\n",
    "    \n",
    "    print(\"Mean Absolute Error:\", mae)\n",
    "    print(\"Best alpha:\", grid_search.best_params_['alpha'])\n",
    "    print(\"Coefficients:\", grid_search.best_estimator_.coef_)"
   ]
  },
  {
   "cell_type": "code",
   "execution_count": 34,
   "metadata": {},
   "outputs": [
    {
     "name": "stdout",
     "output_type": "stream",
     "text": [
      "Mean Absolute Error: 0.0007646735682725361\n",
      "Best alpha: 0.1\n",
      "Coefficients: [-0.00204291 -0.10012941 -0.00256553 -0.00119598 -0.03335718  0.02160323\n",
      "  0.0215471   0.99279694]\n"
     ]
    }
   ],
   "source": [
    "alpha = [1e-5, 1e-4, 1e-3, 1e-2, 0.1, 1.0]\n",
    "choose_alpha(Ridge(), alpha)"
   ]
  },
  {
   "cell_type": "markdown",
   "metadata": {},
   "source": [
    "<br>\n",
    "\n",
    "Build Ridge model and show model's intercept and coeficient:"
   ]
  },
  {
   "cell_type": "code",
   "execution_count": 35,
   "metadata": {},
   "outputs": [
    {
     "name": "stdout",
     "output_type": "stream",
     "text": [
      "MAE of Ridge(alpha=0.1) model on Training set: 0.0008122954981643146\n",
      "MAE of Ridge(alpha=0.1) model on Testing set: 0.0007646735682725361\n",
      "\n",
      "Model's Intercept: 0.11960354937511078\n",
      "Model's Coeficient: [-0.00204291 -0.10012941 -0.00256553 -0.00119598 -0.03335718  0.02160323\n",
      "  0.0215471   0.99279694]\n"
     ]
    }
   ],
   "source": [
    "def build_ridge_model(X, y, alpha):\n",
    "    model = Ridge(alpha=alpha)\n",
    "    model.fit(X, y)\n",
    "    return model\n",
    "\n",
    "ridge_model = build_ridge_model(X_train, y_train, 0.1)\n",
    "show_predict_params(model=ridge_model)"
   ]
  },
  {
   "cell_type": "markdown",
   "metadata": {},
   "source": [
    "<br>\n",
    "<h3 align='center'>\n",
    "<p style='background-color: lightyellow'>\n",
    "<span style='color:orange'>\n",
    "<b>\n",
    "6.2 | Lasso algorithm\n",
    "</b>\n",
    "</span>\n",
    "</p>\n",
    "</h3>"
   ]
  },
  {
   "cell_type": "markdown",
   "metadata": {},
   "source": [
    "<br>\n",
    "\n",
    "The Lasso is a linear model that estimates sparse coefficients. The objective function to minimize is:\n",
    "\n",
    "$$min_w \\ \\frac{1}{2 \\ n_{samples}} ||Xw - y||^2_2 + alpha ||w||_1 $$\n",
    "\n",
    "The lasso estimate thus solves the minimization of the least-squares penalty with $alpha ||w||_1$ added, where: `alpha=const` and $||w||_1$ is the l1-norm of the **coefficient vector**."
   ]
  },
  {
   "cell_type": "code",
   "execution_count": 36,
   "metadata": {},
   "outputs": [
    {
     "name": "stdout",
     "output_type": "stream",
     "text": [
      "Mean Absolute Error: 0.0007654165818198839\n",
      "Best alpha: 1e-08\n",
      "Coefficients: [-0.00204427 -0.10013267 -0.00256539 -0.00119689 -0.03335937  0.04151382\n",
      "  0.00161698  0.99287233]\n"
     ]
    }
   ],
   "source": [
    "alpha = [1e-8, 1e-6, 1e-4, 1e-3, 1e-2, 0.1, 1.0]\n",
    "choose_alpha(Lasso(), alpha)"
   ]
  },
  {
   "cell_type": "markdown",
   "metadata": {},
   "source": [
    "<br>\n",
    "\n",
    "Build Lasso model and show model's intercept and coeficient:"
   ]
  },
  {
   "cell_type": "code",
   "execution_count": 37,
   "metadata": {},
   "outputs": [
    {
     "name": "stdout",
     "output_type": "stream",
     "text": [
      "MAE of Lasso(alpha=1e-08) model on Training set: 0.000812654830157602\n",
      "MAE of Lasso(alpha=1e-08) model on Testing set: 0.0007654165818198839\n",
      "\n",
      "Model's Intercept: 0.11960035484879267\n",
      "Model's Coeficient: [-0.00204427 -0.10013267 -0.00256539 -0.00119689 -0.03335937  0.04151382\n",
      "  0.00161698  0.99287233]\n"
     ]
    }
   ],
   "source": [
    "def build_lasso_model(X, y, alpha):\n",
    "    model = Lasso(alpha=alpha)\n",
    "    model.fit(X, y)\n",
    "    return model\n",
    "\n",
    "lasso_model = build_lasso_model(X_train, y_train, 1e-8)\n",
    "show_predict_params(lasso_model)"
   ]
  },
  {
   "cell_type": "markdown",
   "metadata": {},
   "source": [
    "<br>\n",
    "<h3 align='center'>\n",
    "<p style='background-color: lightyellow'>\n",
    "<span style='color:orange'>\n",
    "<b>\n",
    "6.3 | ElasticNet algorithm\n",
    "</b>\n",
    "</span>\n",
    "</p>\n",
    "</h3>"
   ]
  },
  {
   "cell_type": "markdown",
   "metadata": {},
   "source": [
    "<br>\n",
    "\n",
    "ElasticNet is regression model combine Ridge Regression (L2) and Lasso Regression (L1).\n",
    "\n",
    "The objective function to minimize is in this case:\n",
    "\n",
    "$$min_w \\ \\frac{1}{2 \\ n_{samples}} ||Xw - y||^2_2 + alpha \\ \\rho ||w||_1 + \\frac{alpha (1 - \\rho)}{2} ||w||^2_2 $$"
   ]
  },
  {
   "cell_type": "code",
   "execution_count": 38,
   "metadata": {},
   "outputs": [],
   "source": [
    "def choose_param(model, alpha, l1_ratio,X_train=X_train, y_train=y_train, X_test=X_test):\n",
    "    \n",
    "    param_grid = {\n",
    "        'alpha': alpha,\n",
    "        'l1_ratio': l1_ratio\n",
    "    }\n",
    "    \n",
    "    grid_search = GridSearchCV(model,\n",
    "                               param_grid=param_grid,\n",
    "                               cv=5,  # fold, default=5\n",
    "                               scoring='neg_mean_absolute_error')\n",
    "    grid_search.fit(X_train, y_train)\n",
    "    \n",
    "    y_pred = grid_search.predict(X_test)\n",
    "    \n",
    "    mae = mean_absolute_error(y_test, y_pred)\n",
    "    print(\"Mean Absolute Error:\", mae)\n",
    "    print(\"Best params:\", grid_search.best_params_)\n",
    "    print(\"Coefficients:\", grid_search.best_estimator_.coef_)"
   ]
  },
  {
   "cell_type": "code",
   "execution_count": 39,
   "metadata": {},
   "outputs": [
    {
     "name": "stdout",
     "output_type": "stream",
     "text": [
      "Mean Absolute Error: 0.0007650667288726855\n",
      "Best params: {'alpha': 1e-05, 'l1_ratio': 1e-08}\n",
      "Coefficients: [-0.00204296 -0.10011802 -0.00256578 -0.00119604 -0.03335063  0.03382159\n",
      "  0.00937989  0.99264618]\n"
     ]
    }
   ],
   "source": [
    "alpha = [1e-5, 1e-4, 1e-3, 1e-2, 0.1, 1.0]\n",
    "l1_ratio = [1e-8, 1e-6, 1e-4, 1e-3, 1e-2, 0.1]\n",
    "\n",
    "choose_param(ElasticNet(), alpha, l1_ratio)"
   ]
  },
  {
   "cell_type": "markdown",
   "metadata": {},
   "source": [
    "<br>\n",
    "\n",
    "Build ElasticNet model and show model's intercept, coeficient:"
   ]
  },
  {
   "cell_type": "code",
   "execution_count": 40,
   "metadata": {},
   "outputs": [
    {
     "name": "stdout",
     "output_type": "stream",
     "text": [
      "MAE of ElasticNet(alpha=1e-05, l1_ratio=1e-08) model on Training set: 0.0008126097844787848\n",
      "MAE of ElasticNet(alpha=1e-05, l1_ratio=1e-08) model on Testing set: 0.0007650667288726855\n",
      "\n",
      "Model's Intercept: 0.1196255868229969\n",
      "Model's Coeficient: [-0.00204296 -0.10011802 -0.00256578 -0.00119604 -0.03335063  0.03382159\n",
      "  0.00937989  0.99264618]\n"
     ]
    }
   ],
   "source": [
    "def build_elasticNet_model(X, y, alpha, l1_ratio):\n",
    "    \n",
    "    model = ElasticNet(alpha=alpha, l1_ratio=l1_ratio)\n",
    "    model.fit(X, y)\n",
    "    \n",
    "    return model\n",
    "\n",
    "elasticNet_model = build_elasticNet_model(X_train, y_train, 1e-05, 1e-08)\n",
    "show_predict_params(elasticNet_model)"
   ]
  },
  {
   "cell_type": "markdown",
   "metadata": {},
   "source": [
    "<br>\n",
    "<h2 align='center'>\n",
    "<p style='background-color: black'>\n",
    "<span style='color:orange'>\n",
    "<b>\n",
    "7 | Polynomial Transform\n",
    "</b>\n",
    "</span>\n",
    "</p>\n",
    "</h2>"
   ]
  },
  {
   "cell_type": "code",
   "execution_count": 41,
   "metadata": {},
   "outputs": [],
   "source": [
    "# Linear Regression with Polynomial Transform\n",
    "from sklearn.preprocessing import PolynomialFeatures\n",
    "from sklearn.pipeline import make_pipeline"
   ]
  },
  {
   "cell_type": "markdown",
   "metadata": {},
   "source": [
    "When the data feature does not conform to a linear function, a linear regression cannot be applied directly to the original data. Scikit-Learn supports converting data features to polynomials through `PolynomialFeatures`.\n",
    "\n",
    "$$y = a_0 + a_1 x + a_2 x^2 + a_3 x^3 + \\cdots$$\n",
    "\n",
    "The formula above uses the transformation $x$ from 1-D to the other, with the aim of being able to use linear regression to find complex relationships between $x$ and $y$."
   ]
  },
  {
   "cell_type": "code",
   "execution_count": 42,
   "metadata": {},
   "outputs": [],
   "source": [
    "def build_pipeline(X, y, dimension):\n",
    "    \n",
    "    poly_model = make_pipeline(PolynomialFeatures(dimension, include_bias=False), \n",
    "                               LinearRegression())\n",
    "    poly_model.fit(X, y)\n",
    "\n",
    "    return poly_model"
   ]
  },
  {
   "cell_type": "markdown",
   "metadata": {},
   "source": [
    "We use `make_pipeline` to apply PolynomialFeatures and a Regression model train your dataset and compare the predict value:"
   ]
  },
  {
   "cell_type": "code",
   "execution_count": 43,
   "metadata": {},
   "outputs": [
    {
     "name": "stdout",
     "output_type": "stream",
     "text": [
      "MAE of linear model (with poly transform) on Training set: 0.0009629777029943566\n",
      "\n",
      "MAE of linear model (with poly transform) on Testing set: 0.000917919877546803\n"
     ]
    }
   ],
   "source": [
    "poly_model = build_pipeline(X_train, y_train, 2)\n",
    "\n",
    "poly_pred = poly_model.predict(X_train)\n",
    "print(f'MAE of linear model (with poly transform) on Training set: {mean_absolute_error(y_pred=poly_pred, y_true=y_train)}\\n' )\n",
    "\n",
    "poly_pred = poly_model.predict(X_test)\n",
    "print(f'MAE of linear model (with poly transform) on Testing set: {mean_absolute_error(y_pred=poly_pred, y_true=y_test)}')"
   ]
  },
  {
   "cell_type": "markdown",
   "metadata": {},
   "source": [
    "<br>"
   ]
  },
  {
   "cell_type": "markdown",
   "metadata": {},
   "source": [
    "<div class='alert alert-warning' role='alert'>\n",
    "<strong>What will the result be if we choose the n order too high?</strong>\n",
    "\n",
    "Choosing a polynomial order that is too high can lead to overfitting, increased variance, and computational complexity. It's crucial to use techniques like cross-validation to select an appropriate polynomial degree that balances bias and variance, ensuring good generalization to new, unseen data.\n",
    "</div>"
   ]
  }
 ],
 "metadata": {
  "kernelspec": {
   "display_name": "Python 3",
   "language": "python",
   "name": "python3"
  },
  "language_info": {
   "codemirror_mode": {
    "name": "ipython",
    "version": 3
   },
   "file_extension": ".py",
   "mimetype": "text/x-python",
   "name": "python",
   "nbconvert_exporter": "python",
   "pygments_lexer": "ipython3",
   "version": "3.12.4"
  }
 },
 "nbformat": 4,
 "nbformat_minor": 2
}
