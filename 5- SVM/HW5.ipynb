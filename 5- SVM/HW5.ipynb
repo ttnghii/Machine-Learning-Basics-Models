{
 "cells": [
  {
   "cell_type": "markdown",
   "id": "bcba0912",
   "metadata": {},
   "source": [
    "# BTTH - Machine Learning"
   ]
  },
  {
   "cell_type": "markdown",
   "id": "1dba6d19",
   "metadata": {
    "id": "_GIq8Io_8Koq",
    "papermill": {
     "duration": 0.020997,
     "end_time": "2024-06-05T17:24:25.902970",
     "exception": false,
     "start_time": "2024-06-05T17:24:25.881973",
     "status": "completed"
    },
    "tags": []
   },
   "source": [
    "1. Analyze\n",
    "2. Preprocess data\n",
    "3. Feature Engineering\n",
    "4. Build Model Pipeline\n",
    "5. Measure performance of the model.\n",
    "6. Which metric is your main metric for this problem and why? What is your main model as well as their params and why? Your comment\n",
    "\n",
    "How can I measure your point:\n",
    "\n",
    "1. Your function is callable and runs correctly\n",
    "2. The performance of your model (in full pipeline) is acceptable.\n",
    "3. Data Analysis is correct or make sense\n",
    "4. The data preprocessing is correct or make sense\n",
    "5. The Feature engineering is correct or make sense\n",
    "6. Model pipeline\n",
    "7. Any other additional process will be considered a small plus point.\n"
   ]
  },
  {
   "cell_type": "markdown",
   "id": "bd6710a6",
   "metadata": {
    "id": "SjhjJmx68Kou",
    "papermill": {
     "duration": 0.018896,
     "end_time": "2024-06-05T17:24:25.940821",
     "exception": false,
     "start_time": "2024-06-05T17:24:25.921925",
     "status": "completed"
    },
    "tags": []
   },
   "source": [
    "Churn rate is a marketing metric that describes the number of customers who leave a business over a specific time period. Every user is assigned a prediction value that estimates their state of churn at any given time. This value is based on:\n",
    "\n",
    "User demographic information\n",
    "Browsing behavior\n",
    "Historical purchase data among other information\n",
    "It factors in our unique and proprietary predictions of how long a user will remain a customer. This score is updated every day for all users who have a minimum of one conversion. The values assigned are between 1 and 5.\n"
   ]
  },
  {
   "cell_type": "markdown",
   "id": "559dcebd",
   "metadata": {
    "id": "iDJN7fbU8Kov",
    "papermill": {
     "duration": 0.019141,
     "end_time": "2024-06-05T17:24:25.979362",
     "exception": false,
     "start_time": "2024-06-05T17:24:25.960221",
     "status": "completed"
    },
    "tags": []
   },
   "source": [
    "## Load Dataset\n"
   ]
  },
  {
   "cell_type": "code",
   "execution_count": 1,
   "id": "29d14bf4",
   "metadata": {
    "execution": {
     "iopub.execute_input": "2024-06-05T17:24:26.021005Z",
     "iopub.status.busy": "2024-06-05T17:24:26.020509Z",
     "iopub.status.idle": "2024-06-05T17:24:28.654275Z",
     "shell.execute_reply": "2024-06-05T17:24:28.652912Z"
    },
    "executionInfo": {
     "elapsed": 3007,
     "status": "ok",
     "timestamp": 1717575090146,
     "user": {
      "displayName": "Huy Quoc",
      "userId": "08351271106189983839"
     },
     "user_tz": -420
    },
    "id": "YfmW1_KdudmQ",
    "outputId": "6cbd234c-b88c-4ec3-db1d-3bd6874ed86f",
    "papermill": {
     "duration": 2.658573,
     "end_time": "2024-06-05T17:24:28.657364",
     "exception": false,
     "start_time": "2024-06-05T17:24:25.998791",
     "status": "completed"
    },
    "tags": []
   },
   "outputs": [],
   "source": [
    "import pandas as pd\n",
    "import numpy as np\n",
    "import matplotlib.pyplot as plt\n",
    "import seaborn as sns\n",
    "import warnings\n",
    "\n",
    "plt.style.use(\"seaborn-v0_8\")\n",
    "warnings.filterwarnings(\"ignore\")"
   ]
  },
  {
   "cell_type": "code",
   "execution_count": 2,
   "id": "7c43566e",
   "metadata": {
    "execution": {
     "iopub.execute_input": "2024-06-05T17:24:28.696458Z",
     "iopub.status.busy": "2024-06-05T17:24:28.695889Z",
     "iopub.status.idle": "2024-06-05T17:24:28.883809Z",
     "shell.execute_reply": "2024-06-05T17:24:28.882656Z"
    },
    "executionInfo": {
     "elapsed": 15,
     "status": "ok",
     "timestamp": 1717575090146,
     "user": {
      "displayName": "Huy Quoc",
      "userId": "08351271106189983839"
     },
     "user_tz": -420
    },
    "id": "G8aJO4Rj8Kov",
    "outputId": "5275a0b0-3468-477d-f46a-4c30cdc8da58",
    "papermill": {
     "duration": 0.210091,
     "end_time": "2024-06-05T17:24:28.886345",
     "exception": false,
     "start_time": "2024-06-05T17:24:28.676254",
     "status": "completed"
    },
    "tags": []
   },
   "outputs": [
    {
     "data": {
      "text/html": [
       "<div>\n",
       "<style scoped>\n",
       "    .dataframe tbody tr th:only-of-type {\n",
       "        vertical-align: middle;\n",
       "    }\n",
       "\n",
       "    .dataframe tbody tr th {\n",
       "        vertical-align: top;\n",
       "    }\n",
       "\n",
       "    .dataframe thead th {\n",
       "        text-align: right;\n",
       "    }\n",
       "</style>\n",
       "<table border=\"1\" class=\"dataframe\">\n",
       "  <thead>\n",
       "    <tr style=\"text-align: right;\">\n",
       "      <th></th>\n",
       "      <th>ID</th>\n",
       "      <th>GENDER</th>\n",
       "      <th>CAR</th>\n",
       "      <th>REALITY</th>\n",
       "      <th>NO_OF_CHILD</th>\n",
       "      <th>INCOME</th>\n",
       "      <th>INCOME_TYPE</th>\n",
       "      <th>EDUCATION_TYPE</th>\n",
       "      <th>FAMILY_TYPE</th>\n",
       "      <th>HOUSE_TYPE</th>\n",
       "      <th>FLAG_MOBIL</th>\n",
       "      <th>WORK_PHONE</th>\n",
       "      <th>PHONE</th>\n",
       "      <th>E_MAIL</th>\n",
       "      <th>FAMILY SIZE</th>\n",
       "      <th>BEGIN_MONTH</th>\n",
       "      <th>AGE</th>\n",
       "      <th>YEARS_EMPLOYED</th>\n",
       "      <th>TARGET</th>\n",
       "    </tr>\n",
       "  </thead>\n",
       "  <tbody>\n",
       "    <tr>\n",
       "      <th>0</th>\n",
       "      <td>5008806</td>\n",
       "      <td>M</td>\n",
       "      <td>Y</td>\n",
       "      <td>Y</td>\n",
       "      <td>0</td>\n",
       "      <td>112500.0</td>\n",
       "      <td>Working</td>\n",
       "      <td>Secondary / secondary special</td>\n",
       "      <td>Married</td>\n",
       "      <td>House / apartment</td>\n",
       "      <td>1</td>\n",
       "      <td>0</td>\n",
       "      <td>0</td>\n",
       "      <td>0</td>\n",
       "      <td>2.0</td>\n",
       "      <td>29</td>\n",
       "      <td>59</td>\n",
       "      <td>3</td>\n",
       "      <td>0</td>\n",
       "    </tr>\n",
       "    <tr>\n",
       "      <th>1</th>\n",
       "      <td>5008808</td>\n",
       "      <td>F</td>\n",
       "      <td>N</td>\n",
       "      <td>Y</td>\n",
       "      <td>0</td>\n",
       "      <td>270000.0</td>\n",
       "      <td>Commercial associate</td>\n",
       "      <td>Secondary / secondary special</td>\n",
       "      <td>Single / not married</td>\n",
       "      <td>House / apartment</td>\n",
       "      <td>1</td>\n",
       "      <td>0</td>\n",
       "      <td>1</td>\n",
       "      <td>1</td>\n",
       "      <td>1.0</td>\n",
       "      <td>4</td>\n",
       "      <td>52</td>\n",
       "      <td>8</td>\n",
       "      <td>0</td>\n",
       "    </tr>\n",
       "    <tr>\n",
       "      <th>2</th>\n",
       "      <td>5008809</td>\n",
       "      <td>F</td>\n",
       "      <td>N</td>\n",
       "      <td>Y</td>\n",
       "      <td>0</td>\n",
       "      <td>270000.0</td>\n",
       "      <td>Commercial associate</td>\n",
       "      <td>Secondary / secondary special</td>\n",
       "      <td>Single / not married</td>\n",
       "      <td>House / apartment</td>\n",
       "      <td>1</td>\n",
       "      <td>0</td>\n",
       "      <td>1</td>\n",
       "      <td>1</td>\n",
       "      <td>1.0</td>\n",
       "      <td>26</td>\n",
       "      <td>52</td>\n",
       "      <td>8</td>\n",
       "      <td>0</td>\n",
       "    </tr>\n",
       "    <tr>\n",
       "      <th>3</th>\n",
       "      <td>5008810</td>\n",
       "      <td>F</td>\n",
       "      <td>N</td>\n",
       "      <td>Y</td>\n",
       "      <td>0</td>\n",
       "      <td>270000.0</td>\n",
       "      <td>Commercial associate</td>\n",
       "      <td>Secondary / secondary special</td>\n",
       "      <td>Single / not married</td>\n",
       "      <td>House / apartment</td>\n",
       "      <td>1</td>\n",
       "      <td>0</td>\n",
       "      <td>1</td>\n",
       "      <td>1</td>\n",
       "      <td>1.0</td>\n",
       "      <td>26</td>\n",
       "      <td>52</td>\n",
       "      <td>8</td>\n",
       "      <td>0</td>\n",
       "    </tr>\n",
       "    <tr>\n",
       "      <th>4</th>\n",
       "      <td>5008811</td>\n",
       "      <td>F</td>\n",
       "      <td>N</td>\n",
       "      <td>Y</td>\n",
       "      <td>0</td>\n",
       "      <td>270000.0</td>\n",
       "      <td>Commercial associate</td>\n",
       "      <td>Secondary / secondary special</td>\n",
       "      <td>Single / not married</td>\n",
       "      <td>House / apartment</td>\n",
       "      <td>1</td>\n",
       "      <td>0</td>\n",
       "      <td>1</td>\n",
       "      <td>1</td>\n",
       "      <td>1.0</td>\n",
       "      <td>38</td>\n",
       "      <td>52</td>\n",
       "      <td>8</td>\n",
       "      <td>0</td>\n",
       "    </tr>\n",
       "  </tbody>\n",
       "</table>\n",
       "</div>"
      ],
      "text/plain": [
       "        ID GENDER CAR REALITY  NO_OF_CHILD    INCOME           INCOME_TYPE  \\\n",
       "0  5008806      M   Y       Y            0  112500.0               Working   \n",
       "1  5008808      F   N       Y            0  270000.0  Commercial associate   \n",
       "2  5008809      F   N       Y            0  270000.0  Commercial associate   \n",
       "3  5008810      F   N       Y            0  270000.0  Commercial associate   \n",
       "4  5008811      F   N       Y            0  270000.0  Commercial associate   \n",
       "\n",
       "                  EDUCATION_TYPE           FAMILY_TYPE         HOUSE_TYPE  \\\n",
       "0  Secondary / secondary special               Married  House / apartment   \n",
       "1  Secondary / secondary special  Single / not married  House / apartment   \n",
       "2  Secondary / secondary special  Single / not married  House / apartment   \n",
       "3  Secondary / secondary special  Single / not married  House / apartment   \n",
       "4  Secondary / secondary special  Single / not married  House / apartment   \n",
       "\n",
       "   FLAG_MOBIL  WORK_PHONE  PHONE  E_MAIL  FAMILY SIZE  BEGIN_MONTH  AGE  \\\n",
       "0           1           0      0       0          2.0           29   59   \n",
       "1           1           0      1       1          1.0            4   52   \n",
       "2           1           0      1       1          1.0           26   52   \n",
       "3           1           0      1       1          1.0           26   52   \n",
       "4           1           0      1       1          1.0           38   52   \n",
       "\n",
       "   YEARS_EMPLOYED  TARGET  \n",
       "0               3       0  \n",
       "1               8       0  \n",
       "2               8       0  \n",
       "3               8       0  \n",
       "4               8       0  "
      ]
     },
     "execution_count": 2,
     "metadata": {},
     "output_type": "execute_result"
    }
   ],
   "source": [
    "PATH = \"/kaggle/input/credit-fraud/credit_fraud.csv\"  # Path to your file\n",
    "\n",
    "df = pd.read_csv(PATH, index_col=0)\n",
    "df.head()\n",
    "# ToDo: Show histogram of dataframe"
   ]
  },
  {
   "cell_type": "markdown",
   "id": "5515b166",
   "metadata": {
    "id": "mk4IrtwS8Kow",
    "papermill": {
     "duration": 0.018188,
     "end_time": "2024-06-05T17:24:28.923906",
     "exception": false,
     "start_time": "2024-06-05T17:24:28.905718",
     "status": "completed"
    },
    "tags": []
   },
   "source": [
    "## Data Analysis\n"
   ]
  },
  {
   "cell_type": "code",
   "execution_count": 3,
   "id": "586051af",
   "metadata": {
    "execution": {
     "iopub.execute_input": "2024-06-05T17:24:28.962539Z",
     "iopub.status.busy": "2024-06-05T17:24:28.962099Z",
     "iopub.status.idle": "2024-06-05T17:24:29.003180Z",
     "shell.execute_reply": "2024-06-05T17:24:29.001793Z"
    },
    "executionInfo": {
     "elapsed": 12,
     "status": "ok",
     "timestamp": 1717575090147,
     "user": {
      "displayName": "Huy Quoc",
      "userId": "08351271106189983839"
     },
     "user_tz": -420
    },
    "id": "Z4z7vGmJ8Kox",
    "outputId": "a2d4067d-2cb2-4d05-aae1-a52d23a2db16",
    "papermill": {
     "duration": 0.063646,
     "end_time": "2024-06-05T17:24:29.005952",
     "exception": false,
     "start_time": "2024-06-05T17:24:28.942306",
     "status": "completed"
    },
    "tags": []
   },
   "outputs": [
    {
     "name": "stdout",
     "output_type": "stream",
     "text": [
      "<class 'pandas.core.frame.DataFrame'>\n",
      "Index: 25134 entries, 0 to 25133\n",
      "Data columns (total 19 columns):\n",
      " #   Column          Non-Null Count  Dtype  \n",
      "---  ------          --------------  -----  \n",
      " 0   ID              25134 non-null  int64  \n",
      " 1   GENDER          25134 non-null  object \n",
      " 2   CAR             25134 non-null  object \n",
      " 3   REALITY         25134 non-null  object \n",
      " 4   NO_OF_CHILD     25134 non-null  int64  \n",
      " 5   INCOME          25134 non-null  float64\n",
      " 6   INCOME_TYPE     25134 non-null  object \n",
      " 7   EDUCATION_TYPE  25134 non-null  object \n",
      " 8   FAMILY_TYPE     25134 non-null  object \n",
      " 9   HOUSE_TYPE      25134 non-null  object \n",
      " 10  FLAG_MOBIL      25134 non-null  int64  \n",
      " 11  WORK_PHONE      25134 non-null  int64  \n",
      " 12  PHONE           25134 non-null  int64  \n",
      " 13  E_MAIL          25134 non-null  int64  \n",
      " 14  FAMILY SIZE     25134 non-null  float64\n",
      " 15  BEGIN_MONTH     25134 non-null  int64  \n",
      " 16  AGE             25134 non-null  int64  \n",
      " 17  YEARS_EMPLOYED  25134 non-null  int64  \n",
      " 18  TARGET          25134 non-null  int64  \n",
      "dtypes: float64(2), int64(10), object(7)\n",
      "memory usage: 3.8+ MB\n"
     ]
    }
   ],
   "source": [
    "# Data analysis\n",
    "# Todo: analyze your data here\n",
    "\n",
    "df.info()  # Non-null dataframe"
   ]
  },
  {
   "cell_type": "code",
   "execution_count": 4,
   "id": "9340159a",
   "metadata": {
    "execution": {
     "iopub.execute_input": "2024-06-05T17:24:29.045665Z",
     "iopub.status.busy": "2024-06-05T17:24:29.045265Z",
     "iopub.status.idle": "2024-06-05T17:24:29.099990Z",
     "shell.execute_reply": "2024-06-05T17:24:29.098885Z"
    },
    "executionInfo": {
     "elapsed": 10,
     "status": "ok",
     "timestamp": 1717575090147,
     "user": {
      "displayName": "Huy Quoc",
      "userId": "08351271106189983839"
     },
     "user_tz": -420
    },
    "id": "vfHfQDYYAjrd",
    "outputId": "1dba6fe5-810c-47cd-9c98-0011ea668d5d",
    "papermill": {
     "duration": 0.077235,
     "end_time": "2024-06-05T17:24:29.102516",
     "exception": false,
     "start_time": "2024-06-05T17:24:29.025281",
     "status": "completed"
    },
    "tags": []
   },
   "outputs": [
    {
     "data": {
      "text/html": [
       "<div>\n",
       "<style scoped>\n",
       "    .dataframe tbody tr th:only-of-type {\n",
       "        vertical-align: middle;\n",
       "    }\n",
       "\n",
       "    .dataframe tbody tr th {\n",
       "        vertical-align: top;\n",
       "    }\n",
       "\n",
       "    .dataframe thead th {\n",
       "        text-align: right;\n",
       "    }\n",
       "</style>\n",
       "<table border=\"1\" class=\"dataframe\">\n",
       "  <thead>\n",
       "    <tr style=\"text-align: right;\">\n",
       "      <th></th>\n",
       "      <th>ID</th>\n",
       "      <th>NO_OF_CHILD</th>\n",
       "      <th>INCOME</th>\n",
       "      <th>FLAG_MOBIL</th>\n",
       "      <th>WORK_PHONE</th>\n",
       "      <th>PHONE</th>\n",
       "      <th>E_MAIL</th>\n",
       "      <th>FAMILY SIZE</th>\n",
       "      <th>BEGIN_MONTH</th>\n",
       "      <th>AGE</th>\n",
       "      <th>YEARS_EMPLOYED</th>\n",
       "      <th>TARGET</th>\n",
       "    </tr>\n",
       "  </thead>\n",
       "  <tbody>\n",
       "    <tr>\n",
       "      <th>count</th>\n",
       "      <td>2.513400e+04</td>\n",
       "      <td>25134.000000</td>\n",
       "      <td>2.513400e+04</td>\n",
       "      <td>25134.0</td>\n",
       "      <td>25134.000000</td>\n",
       "      <td>25134.000000</td>\n",
       "      <td>25134.000000</td>\n",
       "      <td>25134.000000</td>\n",
       "      <td>25134.000000</td>\n",
       "      <td>25134.000000</td>\n",
       "      <td>25134.000000</td>\n",
       "      <td>25134.000000</td>\n",
       "    </tr>\n",
       "    <tr>\n",
       "      <th>mean</th>\n",
       "      <td>5.078838e+06</td>\n",
       "      <td>0.512334</td>\n",
       "      <td>1.948339e+05</td>\n",
       "      <td>1.0</td>\n",
       "      <td>0.273812</td>\n",
       "      <td>0.292791</td>\n",
       "      <td>0.100660</td>\n",
       "      <td>2.294064</td>\n",
       "      <td>26.120594</td>\n",
       "      <td>40.536166</td>\n",
       "      <td>7.204106</td>\n",
       "      <td>0.016790</td>\n",
       "    </tr>\n",
       "    <tr>\n",
       "      <th>std</th>\n",
       "      <td>4.194102e+04</td>\n",
       "      <td>0.787785</td>\n",
       "      <td>1.045110e+05</td>\n",
       "      <td>0.0</td>\n",
       "      <td>0.445923</td>\n",
       "      <td>0.455052</td>\n",
       "      <td>0.300885</td>\n",
       "      <td>0.947590</td>\n",
       "      <td>16.439658</td>\n",
       "      <td>9.559474</td>\n",
       "      <td>6.414231</td>\n",
       "      <td>0.128486</td>\n",
       "    </tr>\n",
       "    <tr>\n",
       "      <th>min</th>\n",
       "      <td>5.008806e+06</td>\n",
       "      <td>0.000000</td>\n",
       "      <td>2.700000e+04</td>\n",
       "      <td>1.0</td>\n",
       "      <td>0.000000</td>\n",
       "      <td>0.000000</td>\n",
       "      <td>0.000000</td>\n",
       "      <td>1.000000</td>\n",
       "      <td>0.000000</td>\n",
       "      <td>21.000000</td>\n",
       "      <td>0.000000</td>\n",
       "      <td>0.000000</td>\n",
       "    </tr>\n",
       "    <tr>\n",
       "      <th>25%</th>\n",
       "      <td>5.042228e+06</td>\n",
       "      <td>0.000000</td>\n",
       "      <td>1.350000e+05</td>\n",
       "      <td>1.0</td>\n",
       "      <td>0.000000</td>\n",
       "      <td>0.000000</td>\n",
       "      <td>0.000000</td>\n",
       "      <td>2.000000</td>\n",
       "      <td>12.000000</td>\n",
       "      <td>33.000000</td>\n",
       "      <td>3.000000</td>\n",
       "      <td>0.000000</td>\n",
       "    </tr>\n",
       "    <tr>\n",
       "      <th>50%</th>\n",
       "      <td>5.079004e+06</td>\n",
       "      <td>0.000000</td>\n",
       "      <td>1.800000e+05</td>\n",
       "      <td>1.0</td>\n",
       "      <td>0.000000</td>\n",
       "      <td>0.000000</td>\n",
       "      <td>0.000000</td>\n",
       "      <td>2.000000</td>\n",
       "      <td>24.000000</td>\n",
       "      <td>40.000000</td>\n",
       "      <td>5.000000</td>\n",
       "      <td>0.000000</td>\n",
       "    </tr>\n",
       "    <tr>\n",
       "      <th>75%</th>\n",
       "      <td>5.115604e+06</td>\n",
       "      <td>1.000000</td>\n",
       "      <td>2.250000e+05</td>\n",
       "      <td>1.0</td>\n",
       "      <td>1.000000</td>\n",
       "      <td>1.000000</td>\n",
       "      <td>0.000000</td>\n",
       "      <td>3.000000</td>\n",
       "      <td>39.000000</td>\n",
       "      <td>48.000000</td>\n",
       "      <td>10.000000</td>\n",
       "      <td>0.000000</td>\n",
       "    </tr>\n",
       "    <tr>\n",
       "      <th>max</th>\n",
       "      <td>5.150487e+06</td>\n",
       "      <td>19.000000</td>\n",
       "      <td>1.575000e+06</td>\n",
       "      <td>1.0</td>\n",
       "      <td>1.000000</td>\n",
       "      <td>1.000000</td>\n",
       "      <td>1.000000</td>\n",
       "      <td>20.000000</td>\n",
       "      <td>60.000000</td>\n",
       "      <td>67.000000</td>\n",
       "      <td>43.000000</td>\n",
       "      <td>1.000000</td>\n",
       "    </tr>\n",
       "  </tbody>\n",
       "</table>\n",
       "</div>"
      ],
      "text/plain": [
       "                 ID   NO_OF_CHILD        INCOME  FLAG_MOBIL    WORK_PHONE  \\\n",
       "count  2.513400e+04  25134.000000  2.513400e+04     25134.0  25134.000000   \n",
       "mean   5.078838e+06      0.512334  1.948339e+05         1.0      0.273812   \n",
       "std    4.194102e+04      0.787785  1.045110e+05         0.0      0.445923   \n",
       "min    5.008806e+06      0.000000  2.700000e+04         1.0      0.000000   \n",
       "25%    5.042228e+06      0.000000  1.350000e+05         1.0      0.000000   \n",
       "50%    5.079004e+06      0.000000  1.800000e+05         1.0      0.000000   \n",
       "75%    5.115604e+06      1.000000  2.250000e+05         1.0      1.000000   \n",
       "max    5.150487e+06     19.000000  1.575000e+06         1.0      1.000000   \n",
       "\n",
       "              PHONE        E_MAIL   FAMILY SIZE   BEGIN_MONTH           AGE  \\\n",
       "count  25134.000000  25134.000000  25134.000000  25134.000000  25134.000000   \n",
       "mean       0.292791      0.100660      2.294064     26.120594     40.536166   \n",
       "std        0.455052      0.300885      0.947590     16.439658      9.559474   \n",
       "min        0.000000      0.000000      1.000000      0.000000     21.000000   \n",
       "25%        0.000000      0.000000      2.000000     12.000000     33.000000   \n",
       "50%        0.000000      0.000000      2.000000     24.000000     40.000000   \n",
       "75%        1.000000      0.000000      3.000000     39.000000     48.000000   \n",
       "max        1.000000      1.000000     20.000000     60.000000     67.000000   \n",
       "\n",
       "       YEARS_EMPLOYED        TARGET  \n",
       "count    25134.000000  25134.000000  \n",
       "mean         7.204106      0.016790  \n",
       "std          6.414231      0.128486  \n",
       "min          0.000000      0.000000  \n",
       "25%          3.000000      0.000000  \n",
       "50%          5.000000      0.000000  \n",
       "75%         10.000000      0.000000  \n",
       "max         43.000000      1.000000  "
      ]
     },
     "execution_count": 4,
     "metadata": {},
     "output_type": "execute_result"
    }
   ],
   "source": [
    "# Show statistical information\n",
    "df.describe()"
   ]
  },
  {
   "cell_type": "markdown",
   "id": "fe8611ac",
   "metadata": {},
   "source": [
    "Set lại type của các cột sau thành kiểu 'object'"
   ]
  },
  {
   "cell_type": "code",
   "execution_count": 5,
   "id": "a363b837",
   "metadata": {
    "execution": {
     "iopub.execute_input": "2024-06-05T17:24:29.142959Z",
     "iopub.status.busy": "2024-06-05T17:24:29.142535Z",
     "iopub.status.idle": "2024-06-05T17:24:29.157631Z",
     "shell.execute_reply": "2024-06-05T17:24:29.156148Z"
    },
    "executionInfo": {
     "elapsed": 9,
     "status": "ok",
     "timestamp": 1717575090147,
     "user": {
      "displayName": "Huy Quoc",
      "userId": "08351271106189983839"
     },
     "user_tz": -420
    },
    "id": "FMBg-VxcY2ro",
    "papermill": {
     "duration": 0.038605,
     "end_time": "2024-06-05T17:24:29.160249",
     "exception": false,
     "start_time": "2024-06-05T17:24:29.121644",
     "status": "completed"
    },
    "tags": []
   },
   "outputs": [],
   "source": [
    "for col in [\"WORK_PHONE\", \"PHONE\", \"E_MAIL\", \"NO_OF_CHILD\", 'FLAG_MOBIL']:\n",
    "    df[col] = df[col].astype(\"object\")"
   ]
  },
  {
   "cell_type": "markdown",
   "id": "856e8a40",
   "metadata": {},
   "source": [
    "Chọn ra các cột thuộc categorical và numerical"
   ]
  },
  {
   "cell_type": "code",
   "execution_count": 6,
   "id": "4f424a7b",
   "metadata": {
    "execution": {
     "iopub.execute_input": "2024-06-05T17:24:29.199904Z",
     "iopub.status.busy": "2024-06-05T17:24:29.199483Z",
     "iopub.status.idle": "2024-06-05T17:24:29.221117Z",
     "shell.execute_reply": "2024-06-05T17:24:29.219654Z"
    },
    "executionInfo": {
     "elapsed": 8,
     "status": "ok",
     "timestamp": 1717575090147,
     "user": {
      "displayName": "Huy Quoc",
      "userId": "08351271106189983839"
     },
     "user_tz": -420
    },
    "id": "UTnnRs1ECR5t",
    "outputId": "37a7f404-ff70-445d-fca6-d374da5e9d3d",
    "papermill": {
     "duration": 0.04468,
     "end_time": "2024-06-05T17:24:29.224015",
     "exception": false,
     "start_time": "2024-06-05T17:24:29.179335",
     "status": "completed"
    },
    "tags": []
   },
   "outputs": [
    {
     "name": "stdout",
     "output_type": "stream",
     "text": [
      "Categorical columns:  ['GENDER', 'CAR', 'REALITY', 'NO_OF_CHILD', 'INCOME_TYPE', 'EDUCATION_TYPE', 'FAMILY_TYPE', 'HOUSE_TYPE', 'FLAG_MOBIL', 'WORK_PHONE', 'PHONE', 'E_MAIL']\n",
      "Numerical columns:  ['ID', 'INCOME', 'FAMILY SIZE', 'BEGIN_MONTH', 'AGE', 'YEARS_EMPLOYED', 'TARGET']\n"
     ]
    }
   ],
   "source": [
    "categorical_col = list(df.select_dtypes(include=[\"object\"]).columns)\n",
    "print(\"Categorical columns: \", categorical_col)\n",
    "numerical_col = list(df.select_dtypes(exclude=[\"object\"]).columns)\n",
    "print(\"Numerical columns: \", numerical_col)"
   ]
  },
  {
   "cell_type": "markdown",
   "id": "9a23ebe2",
   "metadata": {},
   "source": [
    "Vẽ histogram của các cột numerical"
   ]
  },
  {
   "cell_type": "code",
   "execution_count": 7,
   "id": "b20bae16",
   "metadata": {
    "execution": {
     "iopub.execute_input": "2024-06-05T17:24:29.265985Z",
     "iopub.status.busy": "2024-06-05T17:24:29.265569Z",
     "iopub.status.idle": "2024-06-05T17:24:30.941571Z",
     "shell.execute_reply": "2024-06-05T17:24:30.940384Z"
    },
    "executionInfo": {
     "elapsed": 2115,
     "status": "ok",
     "timestamp": 1717575092256,
     "user": {
      "displayName": "Huy Quoc",
      "userId": "08351271106189983839"
     },
     "user_tz": -420
    },
    "id": "BTHfRz1HAnw-",
    "outputId": "3f904c16-6d95-4dd9-bd0c-21064e01a284",
    "papermill": {
     "duration": 1.70065,
     "end_time": "2024-06-05T17:24:30.944901",
     "exception": false,
     "start_time": "2024-06-05T17:24:29.244251",
     "status": "completed"
    },
    "tags": []
   },
   "outputs": [
    {
     "data": {
      "image/png": "[encoded data removed]",
      "text/plain": [
       "<Figure size 2000x2000 with 6 Axes>"
      ]
     },
     "metadata": {},
     "output_type": "display_data"
    }
   ],
   "source": [
    "# Kiểm tra phân phối của dữ liệu\n",
    "df[numerical_col].drop(columns=[\"ID\"]).hist(figsize=(20, 20))\n",
    "plt.show()"
   ]
  },
  {
   "cell_type": "markdown",
   "id": "5de4e026",
   "metadata": {
    "id": "tjwnEVAXBauU",
    "papermill": {
     "duration": 0.025832,
     "end_time": "2024-06-05T17:24:30.992548",
     "exception": false,
     "start_time": "2024-06-05T17:24:30.966716",
     "status": "completed"
    },
    "tags": []
   },
   "source": [
    "Dựa vào hình vẽ, ta có thể thấy cột TARGET bị lệch hẳn về phía label 0\n"
   ]
  },
  {
   "cell_type": "code",
   "execution_count": 8,
   "id": "168c3315",
   "metadata": {
    "execution": {
     "iopub.execute_input": "2024-06-05T17:24:31.060486Z",
     "iopub.status.busy": "2024-06-05T17:24:31.059268Z",
     "iopub.status.idle": "2024-06-05T17:24:31.072904Z",
     "shell.execute_reply": "2024-06-05T17:24:31.071712Z"
    },
    "executionInfo": {
     "elapsed": 6,
     "status": "ok",
     "timestamp": 1717575092256,
     "user": {
      "displayName": "Huy Quoc",
      "userId": "08351271106189983839"
     },
     "user_tz": -420
    },
    "id": "Re-mEe8PBkRz",
    "outputId": "bcd799d3-a0b3-404d-dc64-bc9e7c40c931",
    "papermill": {
     "duration": 0.053712,
     "end_time": "2024-06-05T17:24:31.076082",
     "exception": false,
     "start_time": "2024-06-05T17:24:31.022370",
     "status": "completed"
    },
    "tags": []
   },
   "outputs": [
    {
     "data": {
      "text/plain": [
       "1.6790005570144029"
      ]
     },
     "execution_count": 8,
     "metadata": {},
     "output_type": "execute_result"
    }
   ],
   "source": [
    "len(df[df[\"TARGET\"] == 1]) / len(df) * 100"
   ]
  },
  {
   "cell_type": "markdown",
   "id": "b4fc3738",
   "metadata": {
    "id": "sJipE5DCBuWu",
    "papermill": {
     "duration": 0.020436,
     "end_time": "2024-06-05T17:24:31.124801",
     "exception": false,
     "start_time": "2024-06-05T17:24:31.104365",
     "status": "completed"
    },
    "tags": []
   },
   "source": [
    "Chỉ có 1.68% data sample có label 1\n"
   ]
  },
  {
   "cell_type": "markdown",
   "id": "c00ef89d",
   "metadata": {},
   "source": [
    "Xuất ra các unique value của các cột categorical"
   ]
  },
  {
   "cell_type": "code",
   "execution_count": 9,
   "id": "e5cbd104",
   "metadata": {
    "execution": {
     "iopub.execute_input": "2024-06-05T17:24:31.169501Z",
     "iopub.status.busy": "2024-06-05T17:24:31.168018Z",
     "iopub.status.idle": "2024-06-05T17:24:31.206637Z",
     "shell.execute_reply": "2024-06-05T17:24:31.205537Z"
    },
    "executionInfo": {
     "elapsed": 5,
     "status": "ok",
     "timestamp": 1717575092256,
     "user": {
      "displayName": "Huy Quoc",
      "userId": "08351271106189983839"
     },
     "user_tz": -420
    },
    "id": "bwFW8RGdB44q",
    "outputId": "17f65d53-a602-4d95-a602-58c2f11113fa",
    "papermill": {
     "duration": 0.064545,
     "end_time": "2024-06-05T17:24:31.210055",
     "exception": false,
     "start_time": "2024-06-05T17:24:31.145510",
     "status": "completed"
    },
    "tags": []
   },
   "outputs": [
    {
     "name": "stdout",
     "output_type": "stream",
     "text": [
      "GENDER: ['M' 'F']\n",
      "\n",
      "CAR: ['Y' 'N']\n",
      "\n",
      "REALITY: ['Y' 'N']\n",
      "\n",
      "NO_OF_CHILD: [0 3 1 2 4 14 5 19 7]\n",
      "\n",
      "INCOME_TYPE: ['Working' 'Commercial associate' 'State servant' 'Student' 'Pensioner']\n",
      "\n",
      "EDUCATION_TYPE: ['Secondary / secondary special' 'Higher education' 'Incomplete higher'\n",
      " 'Lower secondary' 'Academic degree']\n",
      "\n",
      "FAMILY_TYPE: ['Married' 'Single / not married' 'Civil marriage' 'Separated' 'Widow']\n",
      "\n",
      "HOUSE_TYPE: ['House / apartment' 'Rented apartment' 'Municipal apartment'\n",
      " 'With parents' 'Co-op apartment' 'Office apartment']\n",
      "\n",
      "FLAG_MOBIL: [1]\n",
      "\n",
      "WORK_PHONE: [0 1]\n",
      "\n",
      "PHONE: [0 1]\n",
      "\n",
      "E_MAIL: [0 1]\n",
      "\n"
     ]
    }
   ],
   "source": [
    "for col in categorical_col:\n",
    "    print(f\"{col}: {df[col].unique()}\\n\")"
   ]
  },
  {
   "cell_type": "markdown",
   "id": "2d9771b5",
   "metadata": {},
   "source": [
    "Trực quan hóa các cột categorical bằng countplot để so sánh số lượng mỗi data sample thuộc một label trên tổng thể "
   ]
  },
  {
   "cell_type": "code",
   "execution_count": 10,
   "id": "58d1e249",
   "metadata": {
    "execution": {
     "iopub.execute_input": "2024-06-05T17:24:31.257316Z",
     "iopub.status.busy": "2024-06-05T17:24:31.256916Z",
     "iopub.status.idle": "2024-06-05T17:24:34.143355Z",
     "shell.execute_reply": "2024-06-05T17:24:34.141513Z"
    },
    "executionInfo": {
     "elapsed": 3909,
     "status": "ok",
     "timestamp": 1717575096163,
     "user": {
      "displayName": "Huy Quoc",
      "userId": "08351271106189983839"
     },
     "user_tz": -420
    },
    "id": "dSZG55qJEwt8",
    "outputId": "10626b6e-120b-4d45-e0e4-4e7d457bc9a7",
    "papermill": {
     "duration": 2.918868,
     "end_time": "2024-06-05T17:24:34.150202",
     "exception": false,
     "start_time": "2024-06-05T17:24:31.231334",
     "status": "completed"
    },
    "tags": []
   },
   "outputs": [
    {
     "data": {
      "image/png": "[encoded data removed]",
      "text/plain": [
       "<Figure size 2000x2000 with 12 Axes>"
      ]
     },
     "metadata": {},
     "output_type": "display_data"
    }
   ],
   "source": [
    "target = \"TARGET\"\n",
    "\n",
    "fig = plt.figure(figsize=(20, 20))\n",
    "fig.subplots_adjust(wspace=0.2, hspace=0.5)\n",
    "\n",
    "for i, col in enumerate(categorical_col):\n",
    "    ax = plt.subplot(3, 4, i+1)\n",
    "    sns.countplot(data=df, x=col, hue=target, ax=ax)\n",
    "    ax.tick_params(axis=\"x\", labelrotation=-30)\n",
    "plt.show()"
   ]
  },
  {
   "cell_type": "markdown",
   "id": "20373ab1",
   "metadata": {},
   "source": [
    "Dựa vào hình vẽ ta thấy các cột của label 0 lớn hơn rất nhiều label 1"
   ]
  },
  {
   "cell_type": "markdown",
   "id": "e8d1af6c",
   "metadata": {},
   "source": [
    "Xuất ra số liệu cụ thể"
   ]
  },
  {
   "cell_type": "code",
   "execution_count": 11,
   "id": "9cdf091c",
   "metadata": {
    "execution": {
     "iopub.execute_input": "2024-06-05T17:24:34.211099Z",
     "iopub.status.busy": "2024-06-05T17:24:34.210680Z",
     "iopub.status.idle": "2024-06-05T17:24:34.401836Z",
     "shell.execute_reply": "2024-06-05T17:24:34.400520Z"
    },
    "executionInfo": {
     "elapsed": 703,
     "status": "ok",
     "timestamp": 1717575096859,
     "user": {
      "displayName": "Huy Quoc",
      "userId": "08351271106189983839"
     },
     "user_tz": -420
    },
    "id": "EPSIQL4vNb3s",
    "outputId": "6fa176a1-d386-4ec8-e467-25a75299c888",
    "papermill": {
     "duration": 0.224328,
     "end_time": "2024-06-05T17:24:34.404818",
     "exception": false,
     "start_time": "2024-06-05T17:24:34.180490",
     "status": "completed"
    },
    "tags": []
   },
   "outputs": [
    {
     "data": {
      "text/html": [
       "<div>\n",
       "<style scoped>\n",
       "    .dataframe tbody tr th:only-of-type {\n",
       "        vertical-align: middle;\n",
       "    }\n",
       "\n",
       "    .dataframe tbody tr th {\n",
       "        vertical-align: top;\n",
       "    }\n",
       "\n",
       "    .dataframe thead th {\n",
       "        text-align: right;\n",
       "    }\n",
       "</style>\n",
       "<table border=\"1\" class=\"dataframe\">\n",
       "  <thead>\n",
       "    <tr style=\"text-align: right;\">\n",
       "      <th></th>\n",
       "      <th></th>\n",
       "      <th>GENDER</th>\n",
       "    </tr>\n",
       "    <tr>\n",
       "      <th>TARGET</th>\n",
       "      <th>GENDER</th>\n",
       "      <th></th>\n",
       "    </tr>\n",
       "  </thead>\n",
       "  <tbody>\n",
       "    <tr>\n",
       "      <th rowspan=\"2\" valign=\"top\">0</th>\n",
       "      <th>F</th>\n",
       "      <td>15400</td>\n",
       "    </tr>\n",
       "    <tr>\n",
       "      <th>M</th>\n",
       "      <td>9312</td>\n",
       "    </tr>\n",
       "    <tr>\n",
       "      <th rowspan=\"2\" valign=\"top\">1</th>\n",
       "      <th>F</th>\n",
       "      <td>230</td>\n",
       "    </tr>\n",
       "    <tr>\n",
       "      <th>M</th>\n",
       "      <td>192</td>\n",
       "    </tr>\n",
       "  </tbody>\n",
       "</table>\n",
       "</div>"
      ],
      "text/plain": [
       "               GENDER\n",
       "TARGET GENDER        \n",
       "0      F        15400\n",
       "       M         9312\n",
       "1      F          230\n",
       "       M          192"
      ]
     },
     "metadata": {},
     "output_type": "display_data"
    },
    {
     "data": {
      "text/html": [
       "<div>\n",
       "<style scoped>\n",
       "    .dataframe tbody tr th:only-of-type {\n",
       "        vertical-align: middle;\n",
       "    }\n",
       "\n",
       "    .dataframe tbody tr th {\n",
       "        vertical-align: top;\n",
       "    }\n",
       "\n",
       "    .dataframe thead th {\n",
       "        text-align: right;\n",
       "    }\n",
       "</style>\n",
       "<table border=\"1\" class=\"dataframe\">\n",
       "  <thead>\n",
       "    <tr style=\"text-align: right;\">\n",
       "      <th></th>\n",
       "      <th></th>\n",
       "      <th>CAR</th>\n",
       "    </tr>\n",
       "    <tr>\n",
       "      <th>TARGET</th>\n",
       "      <th>CAR</th>\n",
       "      <th></th>\n",
       "    </tr>\n",
       "  </thead>\n",
       "  <tbody>\n",
       "    <tr>\n",
       "      <th rowspan=\"2\" valign=\"top\">0</th>\n",
       "      <th>N</th>\n",
       "      <td>14373</td>\n",
       "    </tr>\n",
       "    <tr>\n",
       "      <th>Y</th>\n",
       "      <td>10339</td>\n",
       "    </tr>\n",
       "    <tr>\n",
       "      <th rowspan=\"2\" valign=\"top\">1</th>\n",
       "      <th>N</th>\n",
       "      <td>245</td>\n",
       "    </tr>\n",
       "    <tr>\n",
       "      <th>Y</th>\n",
       "      <td>177</td>\n",
       "    </tr>\n",
       "  </tbody>\n",
       "</table>\n",
       "</div>"
      ],
      "text/plain": [
       "              CAR\n",
       "TARGET CAR       \n",
       "0      N    14373\n",
       "       Y    10339\n",
       "1      N      245\n",
       "       Y      177"
      ]
     },
     "metadata": {},
     "output_type": "display_data"
    },
    {
     "data": {
      "text/html": [
       "<div>\n",
       "<style scoped>\n",
       "    .dataframe tbody tr th:only-of-type {\n",
       "        vertical-align: middle;\n",
       "    }\n",
       "\n",
       "    .dataframe tbody tr th {\n",
       "        vertical-align: top;\n",
       "    }\n",
       "\n",
       "    .dataframe thead th {\n",
       "        text-align: right;\n",
       "    }\n",
       "</style>\n",
       "<table border=\"1\" class=\"dataframe\">\n",
       "  <thead>\n",
       "    <tr style=\"text-align: right;\">\n",
       "      <th></th>\n",
       "      <th></th>\n",
       "      <th>REALITY</th>\n",
       "    </tr>\n",
       "    <tr>\n",
       "      <th>TARGET</th>\n",
       "      <th>REALITY</th>\n",
       "      <th></th>\n",
       "    </tr>\n",
       "  </thead>\n",
       "  <tbody>\n",
       "    <tr>\n",
       "      <th rowspan=\"2\" valign=\"top\">0</th>\n",
       "      <th>N</th>\n",
       "      <td>8494</td>\n",
       "    </tr>\n",
       "    <tr>\n",
       "      <th>Y</th>\n",
       "      <td>16218</td>\n",
       "    </tr>\n",
       "    <tr>\n",
       "      <th rowspan=\"2\" valign=\"top\">1</th>\n",
       "      <th>N</th>\n",
       "      <td>179</td>\n",
       "    </tr>\n",
       "    <tr>\n",
       "      <th>Y</th>\n",
       "      <td>243</td>\n",
       "    </tr>\n",
       "  </tbody>\n",
       "</table>\n",
       "</div>"
      ],
      "text/plain": [
       "                REALITY\n",
       "TARGET REALITY         \n",
       "0      N           8494\n",
       "       Y          16218\n",
       "1      N            179\n",
       "       Y            243"
      ]
     },
     "metadata": {},
     "output_type": "display_data"
    },
    {
     "data": {
      "text/html": [
       "<div>\n",
       "<style scoped>\n",
       "    .dataframe tbody tr th:only-of-type {\n",
       "        vertical-align: middle;\n",
       "    }\n",
       "\n",
       "    .dataframe tbody tr th {\n",
       "        vertical-align: top;\n",
       "    }\n",
       "\n",
       "    .dataframe thead th {\n",
       "        text-align: right;\n",
       "    }\n",
       "</style>\n",
       "<table border=\"1\" class=\"dataframe\">\n",
       "  <thead>\n",
       "    <tr style=\"text-align: right;\">\n",
       "      <th></th>\n",
       "      <th></th>\n",
       "      <th>NO_OF_CHILD</th>\n",
       "    </tr>\n",
       "    <tr>\n",
       "      <th>TARGET</th>\n",
       "      <th>NO_OF_CHILD</th>\n",
       "      <th></th>\n",
       "    </tr>\n",
       "  </thead>\n",
       "  <tbody>\n",
       "    <tr>\n",
       "      <th rowspan=\"9\" valign=\"top\">0</th>\n",
       "      <th>0</th>\n",
       "      <td>15635</td>\n",
       "    </tr>\n",
       "    <tr>\n",
       "      <th>1</th>\n",
       "      <td>6021</td>\n",
       "    </tr>\n",
       "    <tr>\n",
       "      <th>2</th>\n",
       "      <td>2675</td>\n",
       "    </tr>\n",
       "    <tr>\n",
       "      <th>3</th>\n",
       "      <td>301</td>\n",
       "    </tr>\n",
       "    <tr>\n",
       "      <th>4</th>\n",
       "      <td>56</td>\n",
       "    </tr>\n",
       "    <tr>\n",
       "      <th>5</th>\n",
       "      <td>18</td>\n",
       "    </tr>\n",
       "    <tr>\n",
       "      <th>7</th>\n",
       "      <td>2</td>\n",
       "    </tr>\n",
       "    <tr>\n",
       "      <th>14</th>\n",
       "      <td>3</td>\n",
       "    </tr>\n",
       "    <tr>\n",
       "      <th>19</th>\n",
       "      <td>1</td>\n",
       "    </tr>\n",
       "    <tr>\n",
       "      <th rowspan=\"5\" valign=\"top\">1</th>\n",
       "      <th>0</th>\n",
       "      <td>273</td>\n",
       "    </tr>\n",
       "    <tr>\n",
       "      <th>1</th>\n",
       "      <td>97</td>\n",
       "    </tr>\n",
       "    <tr>\n",
       "      <th>2</th>\n",
       "      <td>40</td>\n",
       "    </tr>\n",
       "    <tr>\n",
       "      <th>3</th>\n",
       "      <td>11</td>\n",
       "    </tr>\n",
       "    <tr>\n",
       "      <th>4</th>\n",
       "      <td>1</td>\n",
       "    </tr>\n",
       "  </tbody>\n",
       "</table>\n",
       "</div>"
      ],
      "text/plain": [
       "                    NO_OF_CHILD\n",
       "TARGET NO_OF_CHILD             \n",
       "0      0                  15635\n",
       "       1                   6021\n",
       "       2                   2675\n",
       "       3                    301\n",
       "       4                     56\n",
       "       5                     18\n",
       "       7                      2\n",
       "       14                     3\n",
       "       19                     1\n",
       "1      0                    273\n",
       "       1                     97\n",
       "       2                     40\n",
       "       3                     11\n",
       "       4                      1"
      ]
     },
     "metadata": {},
     "output_type": "display_data"
    },
    {
     "data": {
      "text/html": [
       "<div>\n",
       "<style scoped>\n",
       "    .dataframe tbody tr th:only-of-type {\n",
       "        vertical-align: middle;\n",
       "    }\n",
       "\n",
       "    .dataframe tbody tr th {\n",
       "        vertical-align: top;\n",
       "    }\n",
       "\n",
       "    .dataframe thead th {\n",
       "        text-align: right;\n",
       "    }\n",
       "</style>\n",
       "<table border=\"1\" class=\"dataframe\">\n",
       "  <thead>\n",
       "    <tr style=\"text-align: right;\">\n",
       "      <th></th>\n",
       "      <th></th>\n",
       "      <th>INCOME_TYPE</th>\n",
       "    </tr>\n",
       "    <tr>\n",
       "      <th>TARGET</th>\n",
       "      <th>INCOME_TYPE</th>\n",
       "      <th></th>\n",
       "    </tr>\n",
       "  </thead>\n",
       "  <tbody>\n",
       "    <tr>\n",
       "      <th rowspan=\"4\" valign=\"top\">0</th>\n",
       "      <th>Commercial associate</th>\n",
       "      <td>6933</td>\n",
       "    </tr>\n",
       "    <tr>\n",
       "      <th>State servant</th>\n",
       "      <td>2408</td>\n",
       "    </tr>\n",
       "    <tr>\n",
       "      <th>Student</th>\n",
       "      <td>10</td>\n",
       "    </tr>\n",
       "    <tr>\n",
       "      <th>Working</th>\n",
       "      <td>15361</td>\n",
       "    </tr>\n",
       "    <tr>\n",
       "      <th rowspan=\"4\" valign=\"top\">1</th>\n",
       "      <th>Commercial associate</th>\n",
       "      <td>119</td>\n",
       "    </tr>\n",
       "    <tr>\n",
       "      <th>Pensioner</th>\n",
       "      <td>13</td>\n",
       "    </tr>\n",
       "    <tr>\n",
       "      <th>State servant</th>\n",
       "      <td>29</td>\n",
       "    </tr>\n",
       "    <tr>\n",
       "      <th>Working</th>\n",
       "      <td>261</td>\n",
       "    </tr>\n",
       "  </tbody>\n",
       "</table>\n",
       "</div>"
      ],
      "text/plain": [
       "                             INCOME_TYPE\n",
       "TARGET INCOME_TYPE                      \n",
       "0      Commercial associate         6933\n",
       "       State servant                2408\n",
       "       Student                        10\n",
       "       Working                     15361\n",
       "1      Commercial associate          119\n",
       "       Pensioner                      13\n",
       "       State servant                  29\n",
       "       Working                       261"
      ]
     },
     "metadata": {},
     "output_type": "display_data"
    },
    {
     "data": {
      "text/html": [
       "<div>\n",
       "<style scoped>\n",
       "    .dataframe tbody tr th:only-of-type {\n",
       "        vertical-align: middle;\n",
       "    }\n",
       "\n",
       "    .dataframe tbody tr th {\n",
       "        vertical-align: top;\n",
       "    }\n",
       "\n",
       "    .dataframe thead th {\n",
       "        text-align: right;\n",
       "    }\n",
       "</style>\n",
       "<table border=\"1\" class=\"dataframe\">\n",
       "  <thead>\n",
       "    <tr style=\"text-align: right;\">\n",
       "      <th></th>\n",
       "      <th></th>\n",
       "      <th>EDUCATION_TYPE</th>\n",
       "    </tr>\n",
       "    <tr>\n",
       "      <th>TARGET</th>\n",
       "      <th>EDUCATION_TYPE</th>\n",
       "      <th></th>\n",
       "    </tr>\n",
       "  </thead>\n",
       "  <tbody>\n",
       "    <tr>\n",
       "      <th rowspan=\"5\" valign=\"top\">0</th>\n",
       "      <th>Academic degree</th>\n",
       "      <td>14</td>\n",
       "    </tr>\n",
       "    <tr>\n",
       "      <th>Higher education</th>\n",
       "      <td>7004</td>\n",
       "    </tr>\n",
       "    <tr>\n",
       "      <th>Incomplete higher</th>\n",
       "      <td>972</td>\n",
       "    </tr>\n",
       "    <tr>\n",
       "      <th>Lower secondary</th>\n",
       "      <td>181</td>\n",
       "    </tr>\n",
       "    <tr>\n",
       "      <th>Secondary / secondary special</th>\n",
       "      <td>16541</td>\n",
       "    </tr>\n",
       "    <tr>\n",
       "      <th rowspan=\"4\" valign=\"top\">1</th>\n",
       "      <th>Higher education</th>\n",
       "      <td>128</td>\n",
       "    </tr>\n",
       "    <tr>\n",
       "      <th>Incomplete higher</th>\n",
       "      <td>21</td>\n",
       "    </tr>\n",
       "    <tr>\n",
       "      <th>Lower secondary</th>\n",
       "      <td>6</td>\n",
       "    </tr>\n",
       "    <tr>\n",
       "      <th>Secondary / secondary special</th>\n",
       "      <td>267</td>\n",
       "    </tr>\n",
       "  </tbody>\n",
       "</table>\n",
       "</div>"
      ],
      "text/plain": [
       "                                      EDUCATION_TYPE\n",
       "TARGET EDUCATION_TYPE                               \n",
       "0      Academic degree                            14\n",
       "       Higher education                         7004\n",
       "       Incomplete higher                         972\n",
       "       Lower secondary                           181\n",
       "       Secondary / secondary special           16541\n",
       "1      Higher education                          128\n",
       "       Incomplete higher                          21\n",
       "       Lower secondary                             6\n",
       "       Secondary / secondary special             267"
      ]
     },
     "metadata": {},
     "output_type": "display_data"
    },
    {
     "data": {
      "text/html": [
       "<div>\n",
       "<style scoped>\n",
       "    .dataframe tbody tr th:only-of-type {\n",
       "        vertical-align: middle;\n",
       "    }\n",
       "\n",
       "    .dataframe tbody tr th {\n",
       "        vertical-align: top;\n",
       "    }\n",
       "\n",
       "    .dataframe thead th {\n",
       "        text-align: right;\n",
       "    }\n",
       "</style>\n",
       "<table border=\"1\" class=\"dataframe\">\n",
       "  <thead>\n",
       "    <tr style=\"text-align: right;\">\n",
       "      <th></th>\n",
       "      <th></th>\n",
       "      <th>FAMILY_TYPE</th>\n",
       "    </tr>\n",
       "    <tr>\n",
       "      <th>TARGET</th>\n",
       "      <th>FAMILY_TYPE</th>\n",
       "      <th></th>\n",
       "    </tr>\n",
       "  </thead>\n",
       "  <tbody>\n",
       "    <tr>\n",
       "      <th rowspan=\"5\" valign=\"top\">0</th>\n",
       "      <th>Civil marriage</th>\n",
       "      <td>2101</td>\n",
       "    </tr>\n",
       "    <tr>\n",
       "      <th>Married</th>\n",
       "      <td>17232</td>\n",
       "    </tr>\n",
       "    <tr>\n",
       "      <th>Separated</th>\n",
       "      <td>1452</td>\n",
       "    </tr>\n",
       "    <tr>\n",
       "      <th>Single / not married</th>\n",
       "      <td>3362</td>\n",
       "    </tr>\n",
       "    <tr>\n",
       "      <th>Widow</th>\n",
       "      <td>565</td>\n",
       "    </tr>\n",
       "    <tr>\n",
       "      <th rowspan=\"5\" valign=\"top\">1</th>\n",
       "      <th>Civil marriage</th>\n",
       "      <td>32</td>\n",
       "    </tr>\n",
       "    <tr>\n",
       "      <th>Married</th>\n",
       "      <td>277</td>\n",
       "    </tr>\n",
       "    <tr>\n",
       "      <th>Separated</th>\n",
       "      <td>15</td>\n",
       "    </tr>\n",
       "    <tr>\n",
       "      <th>Single / not married</th>\n",
       "      <td>83</td>\n",
       "    </tr>\n",
       "    <tr>\n",
       "      <th>Widow</th>\n",
       "      <td>15</td>\n",
       "    </tr>\n",
       "  </tbody>\n",
       "</table>\n",
       "</div>"
      ],
      "text/plain": [
       "                             FAMILY_TYPE\n",
       "TARGET FAMILY_TYPE                      \n",
       "0      Civil marriage               2101\n",
       "       Married                     17232\n",
       "       Separated                    1452\n",
       "       Single / not married         3362\n",
       "       Widow                         565\n",
       "1      Civil marriage                 32\n",
       "       Married                       277\n",
       "       Separated                      15\n",
       "       Single / not married           83\n",
       "       Widow                          15"
      ]
     },
     "metadata": {},
     "output_type": "display_data"
    },
    {
     "data": {
      "text/html": [
       "<div>\n",
       "<style scoped>\n",
       "    .dataframe tbody tr th:only-of-type {\n",
       "        vertical-align: middle;\n",
       "    }\n",
       "\n",
       "    .dataframe tbody tr th {\n",
       "        vertical-align: top;\n",
       "    }\n",
       "\n",
       "    .dataframe thead th {\n",
       "        text-align: right;\n",
       "    }\n",
       "</style>\n",
       "<table border=\"1\" class=\"dataframe\">\n",
       "  <thead>\n",
       "    <tr style=\"text-align: right;\">\n",
       "      <th></th>\n",
       "      <th></th>\n",
       "      <th>HOUSE_TYPE</th>\n",
       "    </tr>\n",
       "    <tr>\n",
       "      <th>TARGET</th>\n",
       "      <th>HOUSE_TYPE</th>\n",
       "      <th></th>\n",
       "    </tr>\n",
       "  </thead>\n",
       "  <tbody>\n",
       "    <tr>\n",
       "      <th rowspan=\"6\" valign=\"top\">0</th>\n",
       "      <th>Co-op apartment</th>\n",
       "      <td>149</td>\n",
       "    </tr>\n",
       "    <tr>\n",
       "      <th>House / apartment</th>\n",
       "      <td>21738</td>\n",
       "    </tr>\n",
       "    <tr>\n",
       "      <th>Municipal apartment</th>\n",
       "      <td>793</td>\n",
       "    </tr>\n",
       "    <tr>\n",
       "      <th>Office apartment</th>\n",
       "      <td>194</td>\n",
       "    </tr>\n",
       "    <tr>\n",
       "      <th>Rented apartment</th>\n",
       "      <td>433</td>\n",
       "    </tr>\n",
       "    <tr>\n",
       "      <th>With parents</th>\n",
       "      <td>1405</td>\n",
       "    </tr>\n",
       "    <tr>\n",
       "      <th rowspan=\"6\" valign=\"top\">1</th>\n",
       "      <th>Co-op apartment</th>\n",
       "      <td>3</td>\n",
       "    </tr>\n",
       "    <tr>\n",
       "      <th>House / apartment</th>\n",
       "      <td>364</td>\n",
       "    </tr>\n",
       "    <tr>\n",
       "      <th>Municipal apartment</th>\n",
       "      <td>19</td>\n",
       "    </tr>\n",
       "    <tr>\n",
       "      <th>Office apartment</th>\n",
       "      <td>5</td>\n",
       "    </tr>\n",
       "    <tr>\n",
       "      <th>Rented apartment</th>\n",
       "      <td>6</td>\n",
       "    </tr>\n",
       "    <tr>\n",
       "      <th>With parents</th>\n",
       "      <td>25</td>\n",
       "    </tr>\n",
       "  </tbody>\n",
       "</table>\n",
       "</div>"
      ],
      "text/plain": [
       "                            HOUSE_TYPE\n",
       "TARGET HOUSE_TYPE                     \n",
       "0      Co-op apartment             149\n",
       "       House / apartment         21738\n",
       "       Municipal apartment         793\n",
       "       Office apartment            194\n",
       "       Rented apartment            433\n",
       "       With parents               1405\n",
       "1      Co-op apartment               3\n",
       "       House / apartment           364\n",
       "       Municipal apartment          19\n",
       "       Office apartment              5\n",
       "       Rented apartment              6\n",
       "       With parents                 25"
      ]
     },
     "metadata": {},
     "output_type": "display_data"
    },
    {
     "data": {
      "text/html": [
       "<div>\n",
       "<style scoped>\n",
       "    .dataframe tbody tr th:only-of-type {\n",
       "        vertical-align: middle;\n",
       "    }\n",
       "\n",
       "    .dataframe tbody tr th {\n",
       "        vertical-align: top;\n",
       "    }\n",
       "\n",
       "    .dataframe thead th {\n",
       "        text-align: right;\n",
       "    }\n",
       "</style>\n",
       "<table border=\"1\" class=\"dataframe\">\n",
       "  <thead>\n",
       "    <tr style=\"text-align: right;\">\n",
       "      <th></th>\n",
       "      <th></th>\n",
       "      <th>FLAG_MOBIL</th>\n",
       "    </tr>\n",
       "    <tr>\n",
       "      <th>TARGET</th>\n",
       "      <th>FLAG_MOBIL</th>\n",
       "      <th></th>\n",
       "    </tr>\n",
       "  </thead>\n",
       "  <tbody>\n",
       "    <tr>\n",
       "      <th>0</th>\n",
       "      <th>1</th>\n",
       "      <td>24712</td>\n",
       "    </tr>\n",
       "    <tr>\n",
       "      <th>1</th>\n",
       "      <th>1</th>\n",
       "      <td>422</td>\n",
       "    </tr>\n",
       "  </tbody>\n",
       "</table>\n",
       "</div>"
      ],
      "text/plain": [
       "                   FLAG_MOBIL\n",
       "TARGET FLAG_MOBIL            \n",
       "0      1                24712\n",
       "1      1                  422"
      ]
     },
     "metadata": {},
     "output_type": "display_data"
    },
    {
     "data": {
      "text/html": [
       "<div>\n",
       "<style scoped>\n",
       "    .dataframe tbody tr th:only-of-type {\n",
       "        vertical-align: middle;\n",
       "    }\n",
       "\n",
       "    .dataframe tbody tr th {\n",
       "        vertical-align: top;\n",
       "    }\n",
       "\n",
       "    .dataframe thead th {\n",
       "        text-align: right;\n",
       "    }\n",
       "</style>\n",
       "<table border=\"1\" class=\"dataframe\">\n",
       "  <thead>\n",
       "    <tr style=\"text-align: right;\">\n",
       "      <th></th>\n",
       "      <th></th>\n",
       "      <th>WORK_PHONE</th>\n",
       "    </tr>\n",
       "    <tr>\n",
       "      <th>TARGET</th>\n",
       "      <th>WORK_PHONE</th>\n",
       "      <th></th>\n",
       "    </tr>\n",
       "  </thead>\n",
       "  <tbody>\n",
       "    <tr>\n",
       "      <th rowspan=\"2\" valign=\"top\">0</th>\n",
       "      <th>0</th>\n",
       "      <td>17954</td>\n",
       "    </tr>\n",
       "    <tr>\n",
       "      <th>1</th>\n",
       "      <td>6758</td>\n",
       "    </tr>\n",
       "    <tr>\n",
       "      <th rowspan=\"2\" valign=\"top\">1</th>\n",
       "      <th>0</th>\n",
       "      <td>298</td>\n",
       "    </tr>\n",
       "    <tr>\n",
       "      <th>1</th>\n",
       "      <td>124</td>\n",
       "    </tr>\n",
       "  </tbody>\n",
       "</table>\n",
       "</div>"
      ],
      "text/plain": [
       "                   WORK_PHONE\n",
       "TARGET WORK_PHONE            \n",
       "0      0                17954\n",
       "       1                 6758\n",
       "1      0                  298\n",
       "       1                  124"
      ]
     },
     "metadata": {},
     "output_type": "display_data"
    },
    {
     "data": {
      "text/html": [
       "<div>\n",
       "<style scoped>\n",
       "    .dataframe tbody tr th:only-of-type {\n",
       "        vertical-align: middle;\n",
       "    }\n",
       "\n",
       "    .dataframe tbody tr th {\n",
       "        vertical-align: top;\n",
       "    }\n",
       "\n",
       "    .dataframe thead th {\n",
       "        text-align: right;\n",
       "    }\n",
       "</style>\n",
       "<table border=\"1\" class=\"dataframe\">\n",
       "  <thead>\n",
       "    <tr style=\"text-align: right;\">\n",
       "      <th></th>\n",
       "      <th></th>\n",
       "      <th>PHONE</th>\n",
       "    </tr>\n",
       "    <tr>\n",
       "      <th>TARGET</th>\n",
       "      <th>PHONE</th>\n",
       "      <th></th>\n",
       "    </tr>\n",
       "  </thead>\n",
       "  <tbody>\n",
       "    <tr>\n",
       "      <th rowspan=\"2\" valign=\"top\">0</th>\n",
       "      <th>0</th>\n",
       "      <td>17481</td>\n",
       "    </tr>\n",
       "    <tr>\n",
       "      <th>1</th>\n",
       "      <td>7231</td>\n",
       "    </tr>\n",
       "    <tr>\n",
       "      <th rowspan=\"2\" valign=\"top\">1</th>\n",
       "      <th>0</th>\n",
       "      <td>294</td>\n",
       "    </tr>\n",
       "    <tr>\n",
       "      <th>1</th>\n",
       "      <td>128</td>\n",
       "    </tr>\n",
       "  </tbody>\n",
       "</table>\n",
       "</div>"
      ],
      "text/plain": [
       "              PHONE\n",
       "TARGET PHONE       \n",
       "0      0      17481\n",
       "       1       7231\n",
       "1      0        294\n",
       "       1        128"
      ]
     },
     "metadata": {},
     "output_type": "display_data"
    },
    {
     "data": {
      "text/html": [
       "<div>\n",
       "<style scoped>\n",
       "    .dataframe tbody tr th:only-of-type {\n",
       "        vertical-align: middle;\n",
       "    }\n",
       "\n",
       "    .dataframe tbody tr th {\n",
       "        vertical-align: top;\n",
       "    }\n",
       "\n",
       "    .dataframe thead th {\n",
       "        text-align: right;\n",
       "    }\n",
       "</style>\n",
       "<table border=\"1\" class=\"dataframe\">\n",
       "  <thead>\n",
       "    <tr style=\"text-align: right;\">\n",
       "      <th></th>\n",
       "      <th></th>\n",
       "      <th>E_MAIL</th>\n",
       "    </tr>\n",
       "    <tr>\n",
       "      <th>TARGET</th>\n",
       "      <th>E_MAIL</th>\n",
       "      <th></th>\n",
       "    </tr>\n",
       "  </thead>\n",
       "  <tbody>\n",
       "    <tr>\n",
       "      <th rowspan=\"2\" valign=\"top\">0</th>\n",
       "      <th>0</th>\n",
       "      <td>22225</td>\n",
       "    </tr>\n",
       "    <tr>\n",
       "      <th>1</th>\n",
       "      <td>2487</td>\n",
       "    </tr>\n",
       "    <tr>\n",
       "      <th rowspan=\"2\" valign=\"top\">1</th>\n",
       "      <th>0</th>\n",
       "      <td>379</td>\n",
       "    </tr>\n",
       "    <tr>\n",
       "      <th>1</th>\n",
       "      <td>43</td>\n",
       "    </tr>\n",
       "  </tbody>\n",
       "</table>\n",
       "</div>"
      ],
      "text/plain": [
       "               E_MAIL\n",
       "TARGET E_MAIL        \n",
       "0      0        22225\n",
       "       1         2487\n",
       "1      0          379\n",
       "       1           43"
      ]
     },
     "metadata": {},
     "output_type": "display_data"
    }
   ],
   "source": [
    "for col in categorical_col:\n",
    "    display(pd.DataFrame(df.groupby([target, col])[col].count()))"
   ]
  },
  {
   "cell_type": "markdown",
   "id": "51076951",
   "metadata": {},
   "source": [
    "Drop đi cell ở cột 'NO_OF_CHILD' có giá trị bằng 19 vì đây là outlier"
   ]
  },
  {
   "cell_type": "code",
   "execution_count": 12,
   "id": "5ffaad76",
   "metadata": {
    "execution": {
     "iopub.execute_input": "2024-06-05T17:24:34.471337Z",
     "iopub.status.busy": "2024-06-05T17:24:34.470243Z",
     "iopub.status.idle": "2024-06-05T17:24:34.490330Z",
     "shell.execute_reply": "2024-06-05T17:24:34.489175Z"
    },
    "papermill": {
     "duration": 0.055037,
     "end_time": "2024-06-05T17:24:34.493514",
     "exception": false,
     "start_time": "2024-06-05T17:24:34.438477",
     "status": "completed"
    },
    "tags": []
   },
   "outputs": [],
   "source": [
    "df.drop(index=df[df[\"NO_OF_CHILD\"] == 19].index, inplace=True)"
   ]
  },
  {
   "cell_type": "markdown",
   "id": "49454d8e",
   "metadata": {
    "id": "VMp52yjFRazN",
    "papermill": {
     "duration": 0.026849,
     "end_time": "2024-06-05T17:24:34.552167",
     "exception": false,
     "start_time": "2024-06-05T17:24:34.525318",
     "status": "completed"
    },
    "tags": []
   },
   "source": [
    "## Feature Creation\n"
   ]
  },
  {
   "cell_type": "markdown",
   "id": "83f9e005",
   "metadata": {},
   "source": [
    "Ở phần này ta tiến hành thêm các feature từ các feature hiện có"
   ]
  },
  {
   "cell_type": "code",
   "execution_count": 13,
   "id": "5cbb6082",
   "metadata": {
    "execution": {
     "iopub.execute_input": "2024-06-05T17:24:34.608289Z",
     "iopub.status.busy": "2024-06-05T17:24:34.607902Z",
     "iopub.status.idle": "2024-06-05T17:24:34.630782Z",
     "shell.execute_reply": "2024-06-05T17:24:34.629581Z"
    },
    "executionInfo": {
     "elapsed": 13,
     "status": "ok",
     "timestamp": 1717575096859,
     "user": {
      "displayName": "Huy Quoc",
      "userId": "08351271106189983839"
     },
     "user_tz": -420
    },
    "id": "7CBbqjkHRrNL",
    "outputId": "29f570ab-4c63-4ecd-a777-adbc3750ecc5",
    "papermill": {
     "duration": 0.053869,
     "end_time": "2024-06-05T17:24:34.633233",
     "exception": false,
     "start_time": "2024-06-05T17:24:34.579364",
     "status": "completed"
    },
    "tags": []
   },
   "outputs": [
    {
     "data": {
      "text/html": [
       "<div>\n",
       "<style scoped>\n",
       "    .dataframe tbody tr th:only-of-type {\n",
       "        vertical-align: middle;\n",
       "    }\n",
       "\n",
       "    .dataframe tbody tr th {\n",
       "        vertical-align: top;\n",
       "    }\n",
       "\n",
       "    .dataframe thead th {\n",
       "        text-align: right;\n",
       "    }\n",
       "</style>\n",
       "<table border=\"1\" class=\"dataframe\">\n",
       "  <thead>\n",
       "    <tr style=\"text-align: right;\">\n",
       "      <th></th>\n",
       "      <th>ID</th>\n",
       "      <th>GENDER</th>\n",
       "      <th>CAR</th>\n",
       "      <th>REALITY</th>\n",
       "      <th>NO_OF_CHILD</th>\n",
       "      <th>INCOME</th>\n",
       "      <th>INCOME_TYPE</th>\n",
       "      <th>EDUCATION_TYPE</th>\n",
       "      <th>FAMILY_TYPE</th>\n",
       "      <th>HOUSE_TYPE</th>\n",
       "      <th>FLAG_MOBIL</th>\n",
       "      <th>WORK_PHONE</th>\n",
       "      <th>PHONE</th>\n",
       "      <th>E_MAIL</th>\n",
       "      <th>FAMILY SIZE</th>\n",
       "      <th>BEGIN_MONTH</th>\n",
       "      <th>AGE</th>\n",
       "      <th>YEARS_EMPLOYED</th>\n",
       "      <th>TARGET</th>\n",
       "    </tr>\n",
       "  </thead>\n",
       "  <tbody>\n",
       "    <tr>\n",
       "      <th>0</th>\n",
       "      <td>5008806</td>\n",
       "      <td>M</td>\n",
       "      <td>Y</td>\n",
       "      <td>Y</td>\n",
       "      <td>0</td>\n",
       "      <td>112500.0</td>\n",
       "      <td>Working</td>\n",
       "      <td>Secondary / secondary special</td>\n",
       "      <td>Married</td>\n",
       "      <td>House / apartment</td>\n",
       "      <td>1</td>\n",
       "      <td>0</td>\n",
       "      <td>0</td>\n",
       "      <td>0</td>\n",
       "      <td>2.0</td>\n",
       "      <td>29</td>\n",
       "      <td>59</td>\n",
       "      <td>3</td>\n",
       "      <td>0</td>\n",
       "    </tr>\n",
       "    <tr>\n",
       "      <th>1</th>\n",
       "      <td>5008808</td>\n",
       "      <td>F</td>\n",
       "      <td>N</td>\n",
       "      <td>Y</td>\n",
       "      <td>0</td>\n",
       "      <td>270000.0</td>\n",
       "      <td>Commercial associate</td>\n",
       "      <td>Secondary / secondary special</td>\n",
       "      <td>Single / not married</td>\n",
       "      <td>House / apartment</td>\n",
       "      <td>1</td>\n",
       "      <td>0</td>\n",
       "      <td>1</td>\n",
       "      <td>1</td>\n",
       "      <td>1.0</td>\n",
       "      <td>4</td>\n",
       "      <td>52</td>\n",
       "      <td>8</td>\n",
       "      <td>0</td>\n",
       "    </tr>\n",
       "    <tr>\n",
       "      <th>2</th>\n",
       "      <td>5008809</td>\n",
       "      <td>F</td>\n",
       "      <td>N</td>\n",
       "      <td>Y</td>\n",
       "      <td>0</td>\n",
       "      <td>270000.0</td>\n",
       "      <td>Commercial associate</td>\n",
       "      <td>Secondary / secondary special</td>\n",
       "      <td>Single / not married</td>\n",
       "      <td>House / apartment</td>\n",
       "      <td>1</td>\n",
       "      <td>0</td>\n",
       "      <td>1</td>\n",
       "      <td>1</td>\n",
       "      <td>1.0</td>\n",
       "      <td>26</td>\n",
       "      <td>52</td>\n",
       "      <td>8</td>\n",
       "      <td>0</td>\n",
       "    </tr>\n",
       "    <tr>\n",
       "      <th>3</th>\n",
       "      <td>5008810</td>\n",
       "      <td>F</td>\n",
       "      <td>N</td>\n",
       "      <td>Y</td>\n",
       "      <td>0</td>\n",
       "      <td>270000.0</td>\n",
       "      <td>Commercial associate</td>\n",
       "      <td>Secondary / secondary special</td>\n",
       "      <td>Single / not married</td>\n",
       "      <td>House / apartment</td>\n",
       "      <td>1</td>\n",
       "      <td>0</td>\n",
       "      <td>1</td>\n",
       "      <td>1</td>\n",
       "      <td>1.0</td>\n",
       "      <td>26</td>\n",
       "      <td>52</td>\n",
       "      <td>8</td>\n",
       "      <td>0</td>\n",
       "    </tr>\n",
       "    <tr>\n",
       "      <th>4</th>\n",
       "      <td>5008811</td>\n",
       "      <td>F</td>\n",
       "      <td>N</td>\n",
       "      <td>Y</td>\n",
       "      <td>0</td>\n",
       "      <td>270000.0</td>\n",
       "      <td>Commercial associate</td>\n",
       "      <td>Secondary / secondary special</td>\n",
       "      <td>Single / not married</td>\n",
       "      <td>House / apartment</td>\n",
       "      <td>1</td>\n",
       "      <td>0</td>\n",
       "      <td>1</td>\n",
       "      <td>1</td>\n",
       "      <td>1.0</td>\n",
       "      <td>38</td>\n",
       "      <td>52</td>\n",
       "      <td>8</td>\n",
       "      <td>0</td>\n",
       "    </tr>\n",
       "  </tbody>\n",
       "</table>\n",
       "</div>"
      ],
      "text/plain": [
       "        ID GENDER CAR REALITY NO_OF_CHILD    INCOME           INCOME_TYPE  \\\n",
       "0  5008806      M   Y       Y           0  112500.0               Working   \n",
       "1  5008808      F   N       Y           0  270000.0  Commercial associate   \n",
       "2  5008809      F   N       Y           0  270000.0  Commercial associate   \n",
       "3  5008810      F   N       Y           0  270000.0  Commercial associate   \n",
       "4  5008811      F   N       Y           0  270000.0  Commercial associate   \n",
       "\n",
       "                  EDUCATION_TYPE           FAMILY_TYPE         HOUSE_TYPE  \\\n",
       "0  Secondary / secondary special               Married  House / apartment   \n",
       "1  Secondary / secondary special  Single / not married  House / apartment   \n",
       "2  Secondary / secondary special  Single / not married  House / apartment   \n",
       "3  Secondary / secondary special  Single / not married  House / apartment   \n",
       "4  Secondary / secondary special  Single / not married  House / apartment   \n",
       "\n",
       "  FLAG_MOBIL WORK_PHONE PHONE E_MAIL  FAMILY SIZE  BEGIN_MONTH  AGE  \\\n",
       "0          1          0     0      0          2.0           29   59   \n",
       "1          1          0     1      1          1.0            4   52   \n",
       "2          1          0     1      1          1.0           26   52   \n",
       "3          1          0     1      1          1.0           26   52   \n",
       "4          1          0     1      1          1.0           38   52   \n",
       "\n",
       "   YEARS_EMPLOYED  TARGET  \n",
       "0               3       0  \n",
       "1               8       0  \n",
       "2               8       0  \n",
       "3               8       0  \n",
       "4               8       0  "
      ]
     },
     "execution_count": 13,
     "metadata": {},
     "output_type": "execute_result"
    }
   ],
   "source": [
    "df.head()"
   ]
  },
  {
   "cell_type": "code",
   "execution_count": 14,
   "id": "e468430d",
   "metadata": {
    "execution": {
     "iopub.execute_input": "2024-06-05T17:24:34.690730Z",
     "iopub.status.busy": "2024-06-05T17:24:34.690217Z",
     "iopub.status.idle": "2024-06-05T17:24:34.734884Z",
     "shell.execute_reply": "2024-06-05T17:24:34.733754Z"
    },
    "executionInfo": {
     "elapsed": 13,
     "status": "ok",
     "timestamp": 1717575096860,
     "user": {
      "displayName": "Huy Quoc",
      "userId": "08351271106189983839"
     },
     "user_tz": -420
    },
    "id": "s57ARP2uU6Lc",
    "outputId": "3ab68a5f-2613-4f3d-aa10-5900f3edf3e4",
    "papermill": {
     "duration": 0.076973,
     "end_time": "2024-06-05T17:24:34.737946",
     "exception": false,
     "start_time": "2024-06-05T17:24:34.660973",
     "status": "completed"
    },
    "tags": []
   },
   "outputs": [
    {
     "data": {
      "text/html": [
       "<div>\n",
       "<style scoped>\n",
       "    .dataframe tbody tr th:only-of-type {\n",
       "        vertical-align: middle;\n",
       "    }\n",
       "\n",
       "    .dataframe tbody tr th {\n",
       "        vertical-align: top;\n",
       "    }\n",
       "\n",
       "    .dataframe thead th {\n",
       "        text-align: right;\n",
       "    }\n",
       "</style>\n",
       "<table border=\"1\" class=\"dataframe\">\n",
       "  <thead>\n",
       "    <tr style=\"text-align: right;\">\n",
       "      <th></th>\n",
       "      <th>ID</th>\n",
       "      <th>GENDER</th>\n",
       "      <th>CAR</th>\n",
       "      <th>REALITY</th>\n",
       "      <th>NO_OF_CHILD</th>\n",
       "      <th>INCOME</th>\n",
       "      <th>INCOME_TYPE</th>\n",
       "      <th>EDUCATION_TYPE</th>\n",
       "      <th>FAMILY_TYPE</th>\n",
       "      <th>HOUSE_TYPE</th>\n",
       "      <th>FLAG_MOBIL</th>\n",
       "      <th>WORK_PHONE</th>\n",
       "      <th>PHONE</th>\n",
       "      <th>E_MAIL</th>\n",
       "      <th>FAMILY SIZE</th>\n",
       "      <th>BEGIN_MONTH</th>\n",
       "      <th>AGE</th>\n",
       "      <th>YEARS_EMPLOYED</th>\n",
       "      <th>TARGET</th>\n",
       "      <th>SEASON</th>\n",
       "    </tr>\n",
       "  </thead>\n",
       "  <tbody>\n",
       "    <tr>\n",
       "      <th>0</th>\n",
       "      <td>5008806</td>\n",
       "      <td>M</td>\n",
       "      <td>Y</td>\n",
       "      <td>Y</td>\n",
       "      <td>0</td>\n",
       "      <td>112500.0</td>\n",
       "      <td>Working</td>\n",
       "      <td>Secondary / secondary special</td>\n",
       "      <td>Married</td>\n",
       "      <td>House / apartment</td>\n",
       "      <td>1</td>\n",
       "      <td>0</td>\n",
       "      <td>0</td>\n",
       "      <td>0</td>\n",
       "      <td>2.0</td>\n",
       "      <td>29</td>\n",
       "      <td>59</td>\n",
       "      <td>3</td>\n",
       "      <td>0</td>\n",
       "      <td>Spring</td>\n",
       "    </tr>\n",
       "    <tr>\n",
       "      <th>1</th>\n",
       "      <td>5008808</td>\n",
       "      <td>F</td>\n",
       "      <td>N</td>\n",
       "      <td>Y</td>\n",
       "      <td>0</td>\n",
       "      <td>270000.0</td>\n",
       "      <td>Commercial associate</td>\n",
       "      <td>Secondary / secondary special</td>\n",
       "      <td>Single / not married</td>\n",
       "      <td>House / apartment</td>\n",
       "      <td>1</td>\n",
       "      <td>0</td>\n",
       "      <td>1</td>\n",
       "      <td>1</td>\n",
       "      <td>1.0</td>\n",
       "      <td>4</td>\n",
       "      <td>52</td>\n",
       "      <td>8</td>\n",
       "      <td>0</td>\n",
       "      <td>Spring</td>\n",
       "    </tr>\n",
       "    <tr>\n",
       "      <th>2</th>\n",
       "      <td>5008809</td>\n",
       "      <td>F</td>\n",
       "      <td>N</td>\n",
       "      <td>Y</td>\n",
       "      <td>0</td>\n",
       "      <td>270000.0</td>\n",
       "      <td>Commercial associate</td>\n",
       "      <td>Secondary / secondary special</td>\n",
       "      <td>Single / not married</td>\n",
       "      <td>House / apartment</td>\n",
       "      <td>1</td>\n",
       "      <td>0</td>\n",
       "      <td>1</td>\n",
       "      <td>1</td>\n",
       "      <td>1.0</td>\n",
       "      <td>26</td>\n",
       "      <td>52</td>\n",
       "      <td>8</td>\n",
       "      <td>0</td>\n",
       "      <td>Winter</td>\n",
       "    </tr>\n",
       "    <tr>\n",
       "      <th>3</th>\n",
       "      <td>5008810</td>\n",
       "      <td>F</td>\n",
       "      <td>N</td>\n",
       "      <td>Y</td>\n",
       "      <td>0</td>\n",
       "      <td>270000.0</td>\n",
       "      <td>Commercial associate</td>\n",
       "      <td>Secondary / secondary special</td>\n",
       "      <td>Single / not married</td>\n",
       "      <td>House / apartment</td>\n",
       "      <td>1</td>\n",
       "      <td>0</td>\n",
       "      <td>1</td>\n",
       "      <td>1</td>\n",
       "      <td>1.0</td>\n",
       "      <td>26</td>\n",
       "      <td>52</td>\n",
       "      <td>8</td>\n",
       "      <td>0</td>\n",
       "      <td>Winter</td>\n",
       "    </tr>\n",
       "    <tr>\n",
       "      <th>4</th>\n",
       "      <td>5008811</td>\n",
       "      <td>F</td>\n",
       "      <td>N</td>\n",
       "      <td>Y</td>\n",
       "      <td>0</td>\n",
       "      <td>270000.0</td>\n",
       "      <td>Commercial associate</td>\n",
       "      <td>Secondary / secondary special</td>\n",
       "      <td>Single / not married</td>\n",
       "      <td>House / apartment</td>\n",
       "      <td>1</td>\n",
       "      <td>0</td>\n",
       "      <td>1</td>\n",
       "      <td>1</td>\n",
       "      <td>1.0</td>\n",
       "      <td>38</td>\n",
       "      <td>52</td>\n",
       "      <td>8</td>\n",
       "      <td>0</td>\n",
       "      <td>Winter</td>\n",
       "    </tr>\n",
       "  </tbody>\n",
       "</table>\n",
       "</div>"
      ],
      "text/plain": [
       "        ID GENDER CAR REALITY NO_OF_CHILD    INCOME           INCOME_TYPE  \\\n",
       "0  5008806      M   Y       Y           0  112500.0               Working   \n",
       "1  5008808      F   N       Y           0  270000.0  Commercial associate   \n",
       "2  5008809      F   N       Y           0  270000.0  Commercial associate   \n",
       "3  5008810      F   N       Y           0  270000.0  Commercial associate   \n",
       "4  5008811      F   N       Y           0  270000.0  Commercial associate   \n",
       "\n",
       "                  EDUCATION_TYPE           FAMILY_TYPE         HOUSE_TYPE  \\\n",
       "0  Secondary / secondary special               Married  House / apartment   \n",
       "1  Secondary / secondary special  Single / not married  House / apartment   \n",
       "2  Secondary / secondary special  Single / not married  House / apartment   \n",
       "3  Secondary / secondary special  Single / not married  House / apartment   \n",
       "4  Secondary / secondary special  Single / not married  House / apartment   \n",
       "\n",
       "  FLAG_MOBIL WORK_PHONE PHONE E_MAIL  FAMILY SIZE  BEGIN_MONTH  AGE  \\\n",
       "0          1          0     0      0          2.0           29   59   \n",
       "1          1          0     1      1          1.0            4   52   \n",
       "2          1          0     1      1          1.0           26   52   \n",
       "3          1          0     1      1          1.0           26   52   \n",
       "4          1          0     1      1          1.0           38   52   \n",
       "\n",
       "   YEARS_EMPLOYED  TARGET  SEASON  \n",
       "0               3       0  Spring  \n",
       "1               8       0  Spring  \n",
       "2               8       0  Winter  \n",
       "3               8       0  Winter  \n",
       "4               8       0  Winter  "
      ]
     },
     "execution_count": 14,
     "metadata": {},
     "output_type": "execute_result"
    }
   ],
   "source": [
    "def season(month):\n",
    "    month = month % 12\n",
    "    if month in [3, 4, 5]:\n",
    "        return \"Spring\"\n",
    "    elif month in [6, 7, 8]:\n",
    "        return \"Summer\"\n",
    "    elif month in [9, 10, 11]:\n",
    "        return \"Autumn\"\n",
    "    return \"Winter\"\n",
    "\n",
    "\n",
    "df[\"SEASON\"] = df[\"BEGIN_MONTH\"].apply(season)\n",
    "df.head()"
   ]
  },
  {
   "cell_type": "code",
   "execution_count": 15,
   "id": "108fd541",
   "metadata": {
    "execution": {
     "iopub.execute_input": "2024-06-05T17:24:34.798806Z",
     "iopub.status.busy": "2024-06-05T17:24:34.798358Z",
     "iopub.status.idle": "2024-06-05T17:24:34.830054Z",
     "shell.execute_reply": "2024-06-05T17:24:34.828658Z"
    },
    "executionInfo": {
     "elapsed": 12,
     "status": "ok",
     "timestamp": 1717575096860,
     "user": {
      "displayName": "Huy Quoc",
      "userId": "08351271106189983839"
     },
     "user_tz": -420
    },
    "id": "1KH39VBwRf9H",
    "outputId": "9cc3e1db-9a41-4d92-b457-3a001b091f57",
    "papermill": {
     "duration": 0.06497,
     "end_time": "2024-06-05T17:24:34.832788",
     "exception": false,
     "start_time": "2024-06-05T17:24:34.767818",
     "status": "completed"
    },
    "tags": []
   },
   "outputs": [
    {
     "data": {
      "text/html": [
       "<div>\n",
       "<style scoped>\n",
       "    .dataframe tbody tr th:only-of-type {\n",
       "        vertical-align: middle;\n",
       "    }\n",
       "\n",
       "    .dataframe tbody tr th {\n",
       "        vertical-align: top;\n",
       "    }\n",
       "\n",
       "    .dataframe thead th {\n",
       "        text-align: right;\n",
       "    }\n",
       "</style>\n",
       "<table border=\"1\" class=\"dataframe\">\n",
       "  <thead>\n",
       "    <tr style=\"text-align: right;\">\n",
       "      <th></th>\n",
       "      <th>ID</th>\n",
       "      <th>GENDER</th>\n",
       "      <th>CAR</th>\n",
       "      <th>REALITY</th>\n",
       "      <th>NO_OF_CHILD</th>\n",
       "      <th>INCOME</th>\n",
       "      <th>INCOME_TYPE</th>\n",
       "      <th>EDUCATION_TYPE</th>\n",
       "      <th>FAMILY_TYPE</th>\n",
       "      <th>HOUSE_TYPE</th>\n",
       "      <th>...</th>\n",
       "      <th>WORK_PHONE</th>\n",
       "      <th>PHONE</th>\n",
       "      <th>E_MAIL</th>\n",
       "      <th>FAMILY SIZE</th>\n",
       "      <th>BEGIN_MONTH</th>\n",
       "      <th>AGE</th>\n",
       "      <th>YEARS_EMPLOYED</th>\n",
       "      <th>TARGET</th>\n",
       "      <th>SEASON</th>\n",
       "      <th>BEGIN_YEARS</th>\n",
       "    </tr>\n",
       "  </thead>\n",
       "  <tbody>\n",
       "    <tr>\n",
       "      <th>0</th>\n",
       "      <td>5008806</td>\n",
       "      <td>M</td>\n",
       "      <td>Y</td>\n",
       "      <td>Y</td>\n",
       "      <td>0</td>\n",
       "      <td>112500.0</td>\n",
       "      <td>Working</td>\n",
       "      <td>Secondary / secondary special</td>\n",
       "      <td>Married</td>\n",
       "      <td>House / apartment</td>\n",
       "      <td>...</td>\n",
       "      <td>0</td>\n",
       "      <td>0</td>\n",
       "      <td>0</td>\n",
       "      <td>2.0</td>\n",
       "      <td>29</td>\n",
       "      <td>59</td>\n",
       "      <td>3</td>\n",
       "      <td>0</td>\n",
       "      <td>Spring</td>\n",
       "      <td>2022</td>\n",
       "    </tr>\n",
       "    <tr>\n",
       "      <th>1</th>\n",
       "      <td>5008808</td>\n",
       "      <td>F</td>\n",
       "      <td>N</td>\n",
       "      <td>Y</td>\n",
       "      <td>0</td>\n",
       "      <td>270000.0</td>\n",
       "      <td>Commercial associate</td>\n",
       "      <td>Secondary / secondary special</td>\n",
       "      <td>Single / not married</td>\n",
       "      <td>House / apartment</td>\n",
       "      <td>...</td>\n",
       "      <td>0</td>\n",
       "      <td>1</td>\n",
       "      <td>1</td>\n",
       "      <td>1.0</td>\n",
       "      <td>4</td>\n",
       "      <td>52</td>\n",
       "      <td>8</td>\n",
       "      <td>0</td>\n",
       "      <td>Spring</td>\n",
       "      <td>2024</td>\n",
       "    </tr>\n",
       "    <tr>\n",
       "      <th>2</th>\n",
       "      <td>5008809</td>\n",
       "      <td>F</td>\n",
       "      <td>N</td>\n",
       "      <td>Y</td>\n",
       "      <td>0</td>\n",
       "      <td>270000.0</td>\n",
       "      <td>Commercial associate</td>\n",
       "      <td>Secondary / secondary special</td>\n",
       "      <td>Single / not married</td>\n",
       "      <td>House / apartment</td>\n",
       "      <td>...</td>\n",
       "      <td>0</td>\n",
       "      <td>1</td>\n",
       "      <td>1</td>\n",
       "      <td>1.0</td>\n",
       "      <td>26</td>\n",
       "      <td>52</td>\n",
       "      <td>8</td>\n",
       "      <td>0</td>\n",
       "      <td>Winter</td>\n",
       "      <td>2022</td>\n",
       "    </tr>\n",
       "    <tr>\n",
       "      <th>3</th>\n",
       "      <td>5008810</td>\n",
       "      <td>F</td>\n",
       "      <td>N</td>\n",
       "      <td>Y</td>\n",
       "      <td>0</td>\n",
       "      <td>270000.0</td>\n",
       "      <td>Commercial associate</td>\n",
       "      <td>Secondary / secondary special</td>\n",
       "      <td>Single / not married</td>\n",
       "      <td>House / apartment</td>\n",
       "      <td>...</td>\n",
       "      <td>0</td>\n",
       "      <td>1</td>\n",
       "      <td>1</td>\n",
       "      <td>1.0</td>\n",
       "      <td>26</td>\n",
       "      <td>52</td>\n",
       "      <td>8</td>\n",
       "      <td>0</td>\n",
       "      <td>Winter</td>\n",
       "      <td>2022</td>\n",
       "    </tr>\n",
       "    <tr>\n",
       "      <th>4</th>\n",
       "      <td>5008811</td>\n",
       "      <td>F</td>\n",
       "      <td>N</td>\n",
       "      <td>Y</td>\n",
       "      <td>0</td>\n",
       "      <td>270000.0</td>\n",
       "      <td>Commercial associate</td>\n",
       "      <td>Secondary / secondary special</td>\n",
       "      <td>Single / not married</td>\n",
       "      <td>House / apartment</td>\n",
       "      <td>...</td>\n",
       "      <td>0</td>\n",
       "      <td>1</td>\n",
       "      <td>1</td>\n",
       "      <td>1.0</td>\n",
       "      <td>38</td>\n",
       "      <td>52</td>\n",
       "      <td>8</td>\n",
       "      <td>0</td>\n",
       "      <td>Winter</td>\n",
       "      <td>2021</td>\n",
       "    </tr>\n",
       "  </tbody>\n",
       "</table>\n",
       "<p>5 rows × 21 columns</p>\n",
       "</div>"
      ],
      "text/plain": [
       "        ID GENDER CAR REALITY NO_OF_CHILD    INCOME           INCOME_TYPE  \\\n",
       "0  5008806      M   Y       Y           0  112500.0               Working   \n",
       "1  5008808      F   N       Y           0  270000.0  Commercial associate   \n",
       "2  5008809      F   N       Y           0  270000.0  Commercial associate   \n",
       "3  5008810      F   N       Y           0  270000.0  Commercial associate   \n",
       "4  5008811      F   N       Y           0  270000.0  Commercial associate   \n",
       "\n",
       "                  EDUCATION_TYPE           FAMILY_TYPE         HOUSE_TYPE  \\\n",
       "0  Secondary / secondary special               Married  House / apartment   \n",
       "1  Secondary / secondary special  Single / not married  House / apartment   \n",
       "2  Secondary / secondary special  Single / not married  House / apartment   \n",
       "3  Secondary / secondary special  Single / not married  House / apartment   \n",
       "4  Secondary / secondary special  Single / not married  House / apartment   \n",
       "\n",
       "   ... WORK_PHONE PHONE E_MAIL FAMILY SIZE  BEGIN_MONTH  AGE  YEARS_EMPLOYED  \\\n",
       "0  ...          0     0      0         2.0           29   59               3   \n",
       "1  ...          0     1      1         1.0            4   52               8   \n",
       "2  ...          0     1      1         1.0           26   52               8   \n",
       "3  ...          0     1      1         1.0           26   52               8   \n",
       "4  ...          0     1      1         1.0           38   52               8   \n",
       "\n",
       "   TARGET  SEASON BEGIN_YEARS  \n",
       "0       0  Spring        2022  \n",
       "1       0  Spring        2024  \n",
       "2       0  Winter        2022  \n",
       "3       0  Winter        2022  \n",
       "4       0  Winter        2021  \n",
       "\n",
       "[5 rows x 21 columns]"
      ]
     },
     "execution_count": 15,
     "metadata": {},
     "output_type": "execute_result"
    }
   ],
   "source": [
    "df[\"BEGIN_YEARS\"] = 2024 - df[\"BEGIN_MONTH\"] // 12\n",
    "df.head()"
   ]
  },
  {
   "cell_type": "code",
   "execution_count": 16,
   "id": "839ee928",
   "metadata": {
    "execution": {
     "iopub.execute_input": "2024-06-05T17:24:34.955770Z",
     "iopub.status.busy": "2024-06-05T17:24:34.955245Z",
     "iopub.status.idle": "2024-06-05T17:24:34.999826Z",
     "shell.execute_reply": "2024-06-05T17:24:34.998432Z"
    },
    "executionInfo": {
     "elapsed": 11,
     "status": "ok",
     "timestamp": 1717575096860,
     "user": {
      "displayName": "Huy Quoc",
      "userId": "08351271106189983839"
     },
     "user_tz": -420
    },
    "id": "OTRvK6YcSDJ5",
    "outputId": "f8e55606-98f5-4711-ae34-17d70a258de8",
    "papermill": {
     "duration": 0.141202,
     "end_time": "2024-06-05T17:24:35.002755",
     "exception": false,
     "start_time": "2024-06-05T17:24:34.861553",
     "status": "completed"
    },
    "tags": []
   },
   "outputs": [
    {
     "data": {
      "text/html": [
       "<div>\n",
       "<style scoped>\n",
       "    .dataframe tbody tr th:only-of-type {\n",
       "        vertical-align: middle;\n",
       "    }\n",
       "\n",
       "    .dataframe tbody tr th {\n",
       "        vertical-align: top;\n",
       "    }\n",
       "\n",
       "    .dataframe thead th {\n",
       "        text-align: right;\n",
       "    }\n",
       "</style>\n",
       "<table border=\"1\" class=\"dataframe\">\n",
       "  <thead>\n",
       "    <tr style=\"text-align: right;\">\n",
       "      <th></th>\n",
       "      <th>ID</th>\n",
       "      <th>GENDER</th>\n",
       "      <th>CAR</th>\n",
       "      <th>REALITY</th>\n",
       "      <th>NO_OF_CHILD</th>\n",
       "      <th>INCOME</th>\n",
       "      <th>INCOME_TYPE</th>\n",
       "      <th>EDUCATION_TYPE</th>\n",
       "      <th>FAMILY_TYPE</th>\n",
       "      <th>HOUSE_TYPE</th>\n",
       "      <th>...</th>\n",
       "      <th>PHONE</th>\n",
       "      <th>E_MAIL</th>\n",
       "      <th>FAMILY SIZE</th>\n",
       "      <th>BEGIN_MONTH</th>\n",
       "      <th>AGE</th>\n",
       "      <th>YEARS_EMPLOYED</th>\n",
       "      <th>TARGET</th>\n",
       "      <th>SEASON</th>\n",
       "      <th>BEGIN_YEARS</th>\n",
       "      <th>ENCODE_AGE</th>\n",
       "    </tr>\n",
       "  </thead>\n",
       "  <tbody>\n",
       "    <tr>\n",
       "      <th>0</th>\n",
       "      <td>5008806</td>\n",
       "      <td>M</td>\n",
       "      <td>Y</td>\n",
       "      <td>Y</td>\n",
       "      <td>0</td>\n",
       "      <td>112500.0</td>\n",
       "      <td>Working</td>\n",
       "      <td>Secondary / secondary special</td>\n",
       "      <td>Married</td>\n",
       "      <td>House / apartment</td>\n",
       "      <td>...</td>\n",
       "      <td>0</td>\n",
       "      <td>0</td>\n",
       "      <td>2.0</td>\n",
       "      <td>29</td>\n",
       "      <td>59</td>\n",
       "      <td>3</td>\n",
       "      <td>0</td>\n",
       "      <td>Spring</td>\n",
       "      <td>2022</td>\n",
       "      <td>Senior</td>\n",
       "    </tr>\n",
       "    <tr>\n",
       "      <th>1</th>\n",
       "      <td>5008808</td>\n",
       "      <td>F</td>\n",
       "      <td>N</td>\n",
       "      <td>Y</td>\n",
       "      <td>0</td>\n",
       "      <td>270000.0</td>\n",
       "      <td>Commercial associate</td>\n",
       "      <td>Secondary / secondary special</td>\n",
       "      <td>Single / not married</td>\n",
       "      <td>House / apartment</td>\n",
       "      <td>...</td>\n",
       "      <td>1</td>\n",
       "      <td>1</td>\n",
       "      <td>1.0</td>\n",
       "      <td>4</td>\n",
       "      <td>52</td>\n",
       "      <td>8</td>\n",
       "      <td>0</td>\n",
       "      <td>Spring</td>\n",
       "      <td>2024</td>\n",
       "      <td>Adult</td>\n",
       "    </tr>\n",
       "    <tr>\n",
       "      <th>2</th>\n",
       "      <td>5008809</td>\n",
       "      <td>F</td>\n",
       "      <td>N</td>\n",
       "      <td>Y</td>\n",
       "      <td>0</td>\n",
       "      <td>270000.0</td>\n",
       "      <td>Commercial associate</td>\n",
       "      <td>Secondary / secondary special</td>\n",
       "      <td>Single / not married</td>\n",
       "      <td>House / apartment</td>\n",
       "      <td>...</td>\n",
       "      <td>1</td>\n",
       "      <td>1</td>\n",
       "      <td>1.0</td>\n",
       "      <td>26</td>\n",
       "      <td>52</td>\n",
       "      <td>8</td>\n",
       "      <td>0</td>\n",
       "      <td>Winter</td>\n",
       "      <td>2022</td>\n",
       "      <td>Adult</td>\n",
       "    </tr>\n",
       "    <tr>\n",
       "      <th>3</th>\n",
       "      <td>5008810</td>\n",
       "      <td>F</td>\n",
       "      <td>N</td>\n",
       "      <td>Y</td>\n",
       "      <td>0</td>\n",
       "      <td>270000.0</td>\n",
       "      <td>Commercial associate</td>\n",
       "      <td>Secondary / secondary special</td>\n",
       "      <td>Single / not married</td>\n",
       "      <td>House / apartment</td>\n",
       "      <td>...</td>\n",
       "      <td>1</td>\n",
       "      <td>1</td>\n",
       "      <td>1.0</td>\n",
       "      <td>26</td>\n",
       "      <td>52</td>\n",
       "      <td>8</td>\n",
       "      <td>0</td>\n",
       "      <td>Winter</td>\n",
       "      <td>2022</td>\n",
       "      <td>Adult</td>\n",
       "    </tr>\n",
       "    <tr>\n",
       "      <th>4</th>\n",
       "      <td>5008811</td>\n",
       "      <td>F</td>\n",
       "      <td>N</td>\n",
       "      <td>Y</td>\n",
       "      <td>0</td>\n",
       "      <td>270000.0</td>\n",
       "      <td>Commercial associate</td>\n",
       "      <td>Secondary / secondary special</td>\n",
       "      <td>Single / not married</td>\n",
       "      <td>House / apartment</td>\n",
       "      <td>...</td>\n",
       "      <td>1</td>\n",
       "      <td>1</td>\n",
       "      <td>1.0</td>\n",
       "      <td>38</td>\n",
       "      <td>52</td>\n",
       "      <td>8</td>\n",
       "      <td>0</td>\n",
       "      <td>Winter</td>\n",
       "      <td>2021</td>\n",
       "      <td>Adult</td>\n",
       "    </tr>\n",
       "  </tbody>\n",
       "</table>\n",
       "<p>5 rows × 22 columns</p>\n",
       "</div>"
      ],
      "text/plain": [
       "        ID GENDER CAR REALITY NO_OF_CHILD    INCOME           INCOME_TYPE  \\\n",
       "0  5008806      M   Y       Y           0  112500.0               Working   \n",
       "1  5008808      F   N       Y           0  270000.0  Commercial associate   \n",
       "2  5008809      F   N       Y           0  270000.0  Commercial associate   \n",
       "3  5008810      F   N       Y           0  270000.0  Commercial associate   \n",
       "4  5008811      F   N       Y           0  270000.0  Commercial associate   \n",
       "\n",
       "                  EDUCATION_TYPE           FAMILY_TYPE         HOUSE_TYPE  \\\n",
       "0  Secondary / secondary special               Married  House / apartment   \n",
       "1  Secondary / secondary special  Single / not married  House / apartment   \n",
       "2  Secondary / secondary special  Single / not married  House / apartment   \n",
       "3  Secondary / secondary special  Single / not married  House / apartment   \n",
       "4  Secondary / secondary special  Single / not married  House / apartment   \n",
       "\n",
       "   ... PHONE E_MAIL FAMILY SIZE BEGIN_MONTH  AGE  YEARS_EMPLOYED  TARGET  \\\n",
       "0  ...     0      0         2.0          29   59               3       0   \n",
       "1  ...     1      1         1.0           4   52               8       0   \n",
       "2  ...     1      1         1.0          26   52               8       0   \n",
       "3  ...     1      1         1.0          26   52               8       0   \n",
       "4  ...     1      1         1.0          38   52               8       0   \n",
       "\n",
       "   SEASON  BEGIN_YEARS ENCODE_AGE  \n",
       "0  Spring         2022     Senior  \n",
       "1  Spring         2024      Adult  \n",
       "2  Winter         2022      Adult  \n",
       "3  Winter         2022      Adult  \n",
       "4  Winter         2021      Adult  \n",
       "\n",
       "[5 rows x 22 columns]"
      ]
     },
     "execution_count": 16,
     "metadata": {},
     "output_type": "execute_result"
    }
   ],
   "source": [
    "def encode_age(age):\n",
    "    if age < 18:\n",
    "        return \"Child\"\n",
    "    elif age < 59:\n",
    "        return \"Adult\"\n",
    "    else:\n",
    "        return \"Senior\"\n",
    "\n",
    "\n",
    "df[\"ENCODE_AGE\"] = df[\"AGE\"].apply(encode_age)\n",
    "df.head()"
   ]
  },
  {
   "cell_type": "code",
   "execution_count": 17,
   "id": "322df966",
   "metadata": {
    "execution": {
     "iopub.execute_input": "2024-06-05T17:24:35.063310Z",
     "iopub.status.busy": "2024-06-05T17:24:35.062925Z",
     "iopub.status.idle": "2024-06-05T17:24:35.517295Z",
     "shell.execute_reply": "2024-06-05T17:24:35.516049Z"
    },
    "executionInfo": {
     "elapsed": 764,
     "status": "ok",
     "timestamp": 1717575097614,
     "user": {
      "displayName": "Huy Quoc",
      "userId": "08351271106189983839"
     },
     "user_tz": -420
    },
    "id": "vR3UWzSwS8S4",
    "outputId": "09585214-0107-491f-aae0-ee6e2f51cd0f",
    "papermill": {
     "duration": 0.487379,
     "end_time": "2024-06-05T17:24:35.520174",
     "exception": false,
     "start_time": "2024-06-05T17:24:35.032795",
     "status": "completed"
    },
    "tags": []
   },
   "outputs": [
    {
     "data": {
      "text/html": [
       "<div>\n",
       "<style scoped>\n",
       "    .dataframe tbody tr th:only-of-type {\n",
       "        vertical-align: middle;\n",
       "    }\n",
       "\n",
       "    .dataframe tbody tr th {\n",
       "        vertical-align: top;\n",
       "    }\n",
       "\n",
       "    .dataframe thead th {\n",
       "        text-align: right;\n",
       "    }\n",
       "</style>\n",
       "<table border=\"1\" class=\"dataframe\">\n",
       "  <thead>\n",
       "    <tr style=\"text-align: right;\">\n",
       "      <th></th>\n",
       "      <th>ID</th>\n",
       "      <th>GENDER</th>\n",
       "      <th>CAR</th>\n",
       "      <th>REALITY</th>\n",
       "      <th>NO_OF_CHILD</th>\n",
       "      <th>INCOME</th>\n",
       "      <th>INCOME_TYPE</th>\n",
       "      <th>EDUCATION_TYPE</th>\n",
       "      <th>FAMILY_TYPE</th>\n",
       "      <th>HOUSE_TYPE</th>\n",
       "      <th>...</th>\n",
       "      <th>E_MAIL</th>\n",
       "      <th>FAMILY SIZE</th>\n",
       "      <th>BEGIN_MONTH</th>\n",
       "      <th>AGE</th>\n",
       "      <th>YEARS_EMPLOYED</th>\n",
       "      <th>TARGET</th>\n",
       "      <th>SEASON</th>\n",
       "      <th>BEGIN_YEARS</th>\n",
       "      <th>ENCODE_AGE</th>\n",
       "      <th>INCOME_PER_CHILD</th>\n",
       "    </tr>\n",
       "  </thead>\n",
       "  <tbody>\n",
       "    <tr>\n",
       "      <th>0</th>\n",
       "      <td>5008806</td>\n",
       "      <td>M</td>\n",
       "      <td>Y</td>\n",
       "      <td>Y</td>\n",
       "      <td>0</td>\n",
       "      <td>112500.0</td>\n",
       "      <td>Working</td>\n",
       "      <td>Secondary / secondary special</td>\n",
       "      <td>Married</td>\n",
       "      <td>House / apartment</td>\n",
       "      <td>...</td>\n",
       "      <td>0</td>\n",
       "      <td>2.0</td>\n",
       "      <td>29</td>\n",
       "      <td>59</td>\n",
       "      <td>3</td>\n",
       "      <td>0</td>\n",
       "      <td>Spring</td>\n",
       "      <td>2022</td>\n",
       "      <td>Senior</td>\n",
       "      <td>0.0</td>\n",
       "    </tr>\n",
       "    <tr>\n",
       "      <th>1</th>\n",
       "      <td>5008808</td>\n",
       "      <td>F</td>\n",
       "      <td>N</td>\n",
       "      <td>Y</td>\n",
       "      <td>0</td>\n",
       "      <td>270000.0</td>\n",
       "      <td>Commercial associate</td>\n",
       "      <td>Secondary / secondary special</td>\n",
       "      <td>Single / not married</td>\n",
       "      <td>House / apartment</td>\n",
       "      <td>...</td>\n",
       "      <td>1</td>\n",
       "      <td>1.0</td>\n",
       "      <td>4</td>\n",
       "      <td>52</td>\n",
       "      <td>8</td>\n",
       "      <td>0</td>\n",
       "      <td>Spring</td>\n",
       "      <td>2024</td>\n",
       "      <td>Adult</td>\n",
       "      <td>0.0</td>\n",
       "    </tr>\n",
       "    <tr>\n",
       "      <th>2</th>\n",
       "      <td>5008809</td>\n",
       "      <td>F</td>\n",
       "      <td>N</td>\n",
       "      <td>Y</td>\n",
       "      <td>0</td>\n",
       "      <td>270000.0</td>\n",
       "      <td>Commercial associate</td>\n",
       "      <td>Secondary / secondary special</td>\n",
       "      <td>Single / not married</td>\n",
       "      <td>House / apartment</td>\n",
       "      <td>...</td>\n",
       "      <td>1</td>\n",
       "      <td>1.0</td>\n",
       "      <td>26</td>\n",
       "      <td>52</td>\n",
       "      <td>8</td>\n",
       "      <td>0</td>\n",
       "      <td>Winter</td>\n",
       "      <td>2022</td>\n",
       "      <td>Adult</td>\n",
       "      <td>0.0</td>\n",
       "    </tr>\n",
       "    <tr>\n",
       "      <th>3</th>\n",
       "      <td>5008810</td>\n",
       "      <td>F</td>\n",
       "      <td>N</td>\n",
       "      <td>Y</td>\n",
       "      <td>0</td>\n",
       "      <td>270000.0</td>\n",
       "      <td>Commercial associate</td>\n",
       "      <td>Secondary / secondary special</td>\n",
       "      <td>Single / not married</td>\n",
       "      <td>House / apartment</td>\n",
       "      <td>...</td>\n",
       "      <td>1</td>\n",
       "      <td>1.0</td>\n",
       "      <td>26</td>\n",
       "      <td>52</td>\n",
       "      <td>8</td>\n",
       "      <td>0</td>\n",
       "      <td>Winter</td>\n",
       "      <td>2022</td>\n",
       "      <td>Adult</td>\n",
       "      <td>0.0</td>\n",
       "    </tr>\n",
       "    <tr>\n",
       "      <th>4</th>\n",
       "      <td>5008811</td>\n",
       "      <td>F</td>\n",
       "      <td>N</td>\n",
       "      <td>Y</td>\n",
       "      <td>0</td>\n",
       "      <td>270000.0</td>\n",
       "      <td>Commercial associate</td>\n",
       "      <td>Secondary / secondary special</td>\n",
       "      <td>Single / not married</td>\n",
       "      <td>House / apartment</td>\n",
       "      <td>...</td>\n",
       "      <td>1</td>\n",
       "      <td>1.0</td>\n",
       "      <td>38</td>\n",
       "      <td>52</td>\n",
       "      <td>8</td>\n",
       "      <td>0</td>\n",
       "      <td>Winter</td>\n",
       "      <td>2021</td>\n",
       "      <td>Adult</td>\n",
       "      <td>0.0</td>\n",
       "    </tr>\n",
       "  </tbody>\n",
       "</table>\n",
       "<p>5 rows × 23 columns</p>\n",
       "</div>"
      ],
      "text/plain": [
       "        ID GENDER CAR REALITY NO_OF_CHILD    INCOME           INCOME_TYPE  \\\n",
       "0  5008806      M   Y       Y           0  112500.0               Working   \n",
       "1  5008808      F   N       Y           0  270000.0  Commercial associate   \n",
       "2  5008809      F   N       Y           0  270000.0  Commercial associate   \n",
       "3  5008810      F   N       Y           0  270000.0  Commercial associate   \n",
       "4  5008811      F   N       Y           0  270000.0  Commercial associate   \n",
       "\n",
       "                  EDUCATION_TYPE           FAMILY_TYPE         HOUSE_TYPE  \\\n",
       "0  Secondary / secondary special               Married  House / apartment   \n",
       "1  Secondary / secondary special  Single / not married  House / apartment   \n",
       "2  Secondary / secondary special  Single / not married  House / apartment   \n",
       "3  Secondary / secondary special  Single / not married  House / apartment   \n",
       "4  Secondary / secondary special  Single / not married  House / apartment   \n",
       "\n",
       "   ... E_MAIL FAMILY SIZE BEGIN_MONTH AGE  YEARS_EMPLOYED  TARGET  SEASON  \\\n",
       "0  ...      0         2.0          29  59               3       0  Spring   \n",
       "1  ...      1         1.0           4  52               8       0  Spring   \n",
       "2  ...      1         1.0          26  52               8       0  Winter   \n",
       "3  ...      1         1.0          26  52               8       0  Winter   \n",
       "4  ...      1         1.0          38  52               8       0  Winter   \n",
       "\n",
       "   BEGIN_YEARS  ENCODE_AGE INCOME_PER_CHILD  \n",
       "0         2022      Senior              0.0  \n",
       "1         2024       Adult              0.0  \n",
       "2         2022       Adult              0.0  \n",
       "3         2022       Adult              0.0  \n",
       "4         2021       Adult              0.0  \n",
       "\n",
       "[5 rows x 23 columns]"
      ]
     },
     "execution_count": 17,
     "metadata": {},
     "output_type": "execute_result"
    }
   ],
   "source": [
    "def income_per_child(row):\n",
    "    if row[\"NO_OF_CHILD\"] == 0:\n",
    "        return 0  # Hoặc giá trị mặc định khác tùy thuộc vào yêu cầu của bạn\n",
    "    else:\n",
    "        return row[\"INCOME\"] / row[\"NO_OF_CHILD\"]\n",
    "\n",
    "\n",
    "df[\"INCOME_PER_CHILD\"] = df.apply(income_per_child, axis=1)\n",
    "df.head()"
   ]
  },
  {
   "cell_type": "markdown",
   "id": "dc65ad4b",
   "metadata": {},
   "source": [
    "Check lại data lần nữa trước khi qua phần tiếp theo"
   ]
  },
  {
   "cell_type": "code",
   "execution_count": 18,
   "id": "a3d1daac",
   "metadata": {
    "execution": {
     "iopub.execute_input": "2024-06-05T17:24:35.580708Z",
     "iopub.status.busy": "2024-06-05T17:24:35.580284Z",
     "iopub.status.idle": "2024-06-05T17:24:35.629646Z",
     "shell.execute_reply": "2024-06-05T17:24:35.628598Z"
    },
    "executionInfo": {
     "elapsed": 12,
     "status": "ok",
     "timestamp": 1717575097614,
     "user": {
      "displayName": "Huy Quoc",
      "userId": "08351271106189983839"
     },
     "user_tz": -420
    },
    "id": "OrbiL_2sbhwi",
    "outputId": "f51d575f-b84b-4bc7-b3fb-f68988eda242",
    "papermill": {
     "duration": 0.082668,
     "end_time": "2024-06-05T17:24:35.632273",
     "exception": false,
     "start_time": "2024-06-05T17:24:35.549605",
     "status": "completed"
    },
    "tags": []
   },
   "outputs": [
    {
     "data": {
      "text/plain": [
       "ID                  0\n",
       "GENDER              0\n",
       "CAR                 0\n",
       "REALITY             0\n",
       "NO_OF_CHILD         0\n",
       "INCOME              0\n",
       "INCOME_TYPE         0\n",
       "EDUCATION_TYPE      0\n",
       "FAMILY_TYPE         0\n",
       "HOUSE_TYPE          0\n",
       "FLAG_MOBIL          0\n",
       "WORK_PHONE          0\n",
       "PHONE               0\n",
       "E_MAIL              0\n",
       "FAMILY SIZE         0\n",
       "BEGIN_MONTH         0\n",
       "AGE                 0\n",
       "YEARS_EMPLOYED      0\n",
       "TARGET              0\n",
       "SEASON              0\n",
       "BEGIN_YEARS         0\n",
       "ENCODE_AGE          0\n",
       "INCOME_PER_CHILD    0\n",
       "dtype: int64"
      ]
     },
     "execution_count": 18,
     "metadata": {},
     "output_type": "execute_result"
    }
   ],
   "source": [
    "df.isna().sum()"
   ]
  },
  {
   "cell_type": "code",
   "execution_count": 19,
   "id": "5ad58ae4",
   "metadata": {
    "execution": {
     "iopub.execute_input": "2024-06-05T17:24:35.694900Z",
     "iopub.status.busy": "2024-06-05T17:24:35.694470Z",
     "iopub.status.idle": "2024-06-05T17:24:35.747386Z",
     "shell.execute_reply": "2024-06-05T17:24:35.745934Z"
    },
    "executionInfo": {
     "elapsed": 10,
     "status": "ok",
     "timestamp": 1717575097614,
     "user": {
      "displayName": "Huy Quoc",
      "userId": "08351271106189983839"
     },
     "user_tz": -420
    },
    "id": "8FrnfYiscOJ4",
    "outputId": "1f2113f5-15a8-40e0-9582-880f48a54d81",
    "papermill": {
     "duration": 0.088206,
     "end_time": "2024-06-05T17:24:35.750241",
     "exception": false,
     "start_time": "2024-06-05T17:24:35.662035",
     "status": "completed"
    },
    "tags": []
   },
   "outputs": [
    {
     "name": "stdout",
     "output_type": "stream",
     "text": [
      "<class 'pandas.core.frame.DataFrame'>\n",
      "Index: 25133 entries, 0 to 25133\n",
      "Data columns (total 23 columns):\n",
      " #   Column            Non-Null Count  Dtype  \n",
      "---  ------            --------------  -----  \n",
      " 0   ID                25133 non-null  int64  \n",
      " 1   GENDER            25133 non-null  object \n",
      " 2   CAR               25133 non-null  object \n",
      " 3   REALITY           25133 non-null  object \n",
      " 4   NO_OF_CHILD       25133 non-null  object \n",
      " 5   INCOME            25133 non-null  float64\n",
      " 6   INCOME_TYPE       25133 non-null  object \n",
      " 7   EDUCATION_TYPE    25133 non-null  object \n",
      " 8   FAMILY_TYPE       25133 non-null  object \n",
      " 9   HOUSE_TYPE        25133 non-null  object \n",
      " 10  FLAG_MOBIL        25133 non-null  object \n",
      " 11  WORK_PHONE        25133 non-null  object \n",
      " 12  PHONE             25133 non-null  object \n",
      " 13  E_MAIL            25133 non-null  object \n",
      " 14  FAMILY SIZE       25133 non-null  float64\n",
      " 15  BEGIN_MONTH       25133 non-null  int64  \n",
      " 16  AGE               25133 non-null  int64  \n",
      " 17  YEARS_EMPLOYED    25133 non-null  int64  \n",
      " 18  TARGET            25133 non-null  int64  \n",
      " 19  SEASON            25133 non-null  object \n",
      " 20  BEGIN_YEARS       25133 non-null  int64  \n",
      " 21  ENCODE_AGE        25133 non-null  object \n",
      " 22  INCOME_PER_CHILD  25133 non-null  float64\n",
      "dtypes: float64(3), int64(6), object(14)\n",
      "memory usage: 4.6+ MB\n"
     ]
    }
   ],
   "source": [
    "df.info()"
   ]
  },
  {
   "cell_type": "markdown",
   "id": "7897a619",
   "metadata": {
    "id": "flqsM83K8Kox",
    "papermill": {
     "duration": 0.03038,
     "end_time": "2024-06-05T17:24:35.810544",
     "exception": false,
     "start_time": "2024-06-05T17:24:35.780164",
     "status": "completed"
    },
    "tags": []
   },
   "source": [
    "## Preprocessing\n"
   ]
  },
  {
   "cell_type": "code",
   "execution_count": 20,
   "id": "4dd6f19b",
   "metadata": {
    "execution": {
     "iopub.execute_input": "2024-06-05T17:24:35.872532Z",
     "iopub.status.busy": "2024-06-05T17:24:35.871256Z",
     "iopub.status.idle": "2024-06-05T17:24:36.449316Z",
     "shell.execute_reply": "2024-06-05T17:24:36.447724Z"
    },
    "executionInfo": {
     "elapsed": 8,
     "status": "ok",
     "timestamp": 1717575097614,
     "user": {
      "displayName": "Huy Quoc",
      "userId": "08351271106189983839"
     },
     "user_tz": -420
    },
    "id": "SLzkn-RcSv-k",
    "papermill": {
     "duration": 0.612658,
     "end_time": "2024-06-05T17:24:36.452944",
     "exception": false,
     "start_time": "2024-06-05T17:24:35.840286",
     "status": "completed"
    },
    "tags": []
   },
   "outputs": [],
   "source": [
    "from sklearn.preprocessing import StandardScaler\n",
    "from sklearn.decomposition import PCA"
   ]
  },
  {
   "cell_type": "code",
   "execution_count": 21,
   "id": "53b39cb9",
   "metadata": {
    "execution": {
     "iopub.execute_input": "2024-06-05T17:24:36.523626Z",
     "iopub.status.busy": "2024-06-05T17:24:36.523108Z",
     "iopub.status.idle": "2024-06-05T17:24:36.536170Z",
     "shell.execute_reply": "2024-06-05T17:24:36.534878Z"
    },
    "papermill": {
     "duration": 0.053371,
     "end_time": "2024-06-05T17:24:36.539214",
     "exception": false,
     "start_time": "2024-06-05T17:24:36.485843",
     "status": "completed"
    },
    "tags": []
   },
   "outputs": [],
   "source": [
    "target = df[\"TARGET\"]\n",
    "data = df.drop(columns=[\"ID\", \"TARGET\", \"FLAG_MOBIL\"])"
   ]
  },
  {
   "cell_type": "code",
   "execution_count": 22,
   "id": "ffb0c473",
   "metadata": {
    "execution": {
     "iopub.execute_input": "2024-06-05T17:24:36.604575Z",
     "iopub.status.busy": "2024-06-05T17:24:36.604098Z",
     "iopub.status.idle": "2024-06-05T17:24:36.623046Z",
     "shell.execute_reply": "2024-06-05T17:24:36.621739Z"
    },
    "executionInfo": {
     "elapsed": 8,
     "status": "ok",
     "timestamp": 1717575097614,
     "user": {
      "displayName": "Huy Quoc",
      "userId": "08351271106189983839"
     },
     "user_tz": -420
    },
    "id": "nq6IhQ73ZcV_",
    "outputId": "7a099271-2371-4c78-c441-82e850710bed",
    "papermill": {
     "duration": 0.055245,
     "end_time": "2024-06-05T17:24:36.626021",
     "exception": false,
     "start_time": "2024-06-05T17:24:36.570776",
     "status": "completed"
    },
    "tags": []
   },
   "outputs": [
    {
     "name": "stdout",
     "output_type": "stream",
     "text": [
      "Categorical columns:  ['GENDER', 'CAR', 'REALITY', 'NO_OF_CHILD', 'INCOME_TYPE', 'EDUCATION_TYPE', 'FAMILY_TYPE', 'HOUSE_TYPE', 'WORK_PHONE', 'PHONE', 'E_MAIL', 'SEASON', 'ENCODE_AGE']\n",
      "Numerical columns:  ['INCOME', 'FAMILY SIZE', 'BEGIN_MONTH', 'AGE', 'YEARS_EMPLOYED', 'BEGIN_YEARS', 'INCOME_PER_CHILD']\n"
     ]
    }
   ],
   "source": [
    "categorical_col = list(data.select_dtypes(include=[\"object\"]).columns)\n",
    "print(\"Categorical columns: \", categorical_col)\n",
    "numerical_col = list(data.select_dtypes(exclude=[\"object\"]).columns)\n",
    "print(\"Numerical columns: \", numerical_col)"
   ]
  },
  {
   "cell_type": "markdown",
   "id": "37a3feb7",
   "metadata": {},
   "source": [
    "Dummy các cột categorical"
   ]
  },
  {
   "cell_type": "code",
   "execution_count": 23,
   "id": "e3f5d5f0",
   "metadata": {
    "execution": {
     "iopub.execute_input": "2024-06-05T17:24:36.690278Z",
     "iopub.status.busy": "2024-06-05T17:24:36.689858Z",
     "iopub.status.idle": "2024-06-05T17:24:36.788277Z",
     "shell.execute_reply": "2024-06-05T17:24:36.786532Z"
    },
    "executionInfo": {
     "elapsed": 6,
     "status": "ok",
     "timestamp": 1717575097614,
     "user": {
      "displayName": "Huy Quoc",
      "userId": "08351271106189983839"
     },
     "user_tz": -420
    },
    "id": "Pez6b5F5gGOF",
    "outputId": "ddef1b38-1374-4461-841b-97abad37284a",
    "papermill": {
     "duration": 0.13401,
     "end_time": "2024-06-05T17:24:36.791350",
     "exception": false,
     "start_time": "2024-06-05T17:24:36.657340",
     "status": "completed"
    },
    "tags": []
   },
   "outputs": [
    {
     "data": {
      "text/html": [
       "<div>\n",
       "<style scoped>\n",
       "    .dataframe tbody tr th:only-of-type {\n",
       "        vertical-align: middle;\n",
       "    }\n",
       "\n",
       "    .dataframe tbody tr th {\n",
       "        vertical-align: top;\n",
       "    }\n",
       "\n",
       "    .dataframe thead th {\n",
       "        text-align: right;\n",
       "    }\n",
       "</style>\n",
       "<table border=\"1\" class=\"dataframe\">\n",
       "  <thead>\n",
       "    <tr style=\"text-align: right;\">\n",
       "      <th></th>\n",
       "      <th>INCOME</th>\n",
       "      <th>FAMILY SIZE</th>\n",
       "      <th>BEGIN_MONTH</th>\n",
       "      <th>AGE</th>\n",
       "      <th>YEARS_EMPLOYED</th>\n",
       "      <th>BEGIN_YEARS</th>\n",
       "      <th>INCOME_PER_CHILD</th>\n",
       "      <th>GENDER_M</th>\n",
       "      <th>CAR_Y</th>\n",
       "      <th>REALITY_Y</th>\n",
       "      <th>...</th>\n",
       "      <th>HOUSE_TYPE_Office apartment</th>\n",
       "      <th>HOUSE_TYPE_Rented apartment</th>\n",
       "      <th>HOUSE_TYPE_With parents</th>\n",
       "      <th>WORK_PHONE_1</th>\n",
       "      <th>PHONE_1</th>\n",
       "      <th>E_MAIL_1</th>\n",
       "      <th>SEASON_Spring</th>\n",
       "      <th>SEASON_Summer</th>\n",
       "      <th>SEASON_Winter</th>\n",
       "      <th>ENCODE_AGE_Senior</th>\n",
       "    </tr>\n",
       "  </thead>\n",
       "  <tbody>\n",
       "    <tr>\n",
       "      <th>0</th>\n",
       "      <td>112500.0</td>\n",
       "      <td>2.0</td>\n",
       "      <td>29</td>\n",
       "      <td>59</td>\n",
       "      <td>3</td>\n",
       "      <td>2022</td>\n",
       "      <td>0.0</td>\n",
       "      <td>1</td>\n",
       "      <td>1</td>\n",
       "      <td>1</td>\n",
       "      <td>...</td>\n",
       "      <td>0</td>\n",
       "      <td>0</td>\n",
       "      <td>0</td>\n",
       "      <td>0</td>\n",
       "      <td>0</td>\n",
       "      <td>0</td>\n",
       "      <td>1</td>\n",
       "      <td>0</td>\n",
       "      <td>0</td>\n",
       "      <td>1</td>\n",
       "    </tr>\n",
       "    <tr>\n",
       "      <th>1</th>\n",
       "      <td>270000.0</td>\n",
       "      <td>1.0</td>\n",
       "      <td>4</td>\n",
       "      <td>52</td>\n",
       "      <td>8</td>\n",
       "      <td>2024</td>\n",
       "      <td>0.0</td>\n",
       "      <td>0</td>\n",
       "      <td>0</td>\n",
       "      <td>1</td>\n",
       "      <td>...</td>\n",
       "      <td>0</td>\n",
       "      <td>0</td>\n",
       "      <td>0</td>\n",
       "      <td>0</td>\n",
       "      <td>1</td>\n",
       "      <td>1</td>\n",
       "      <td>1</td>\n",
       "      <td>0</td>\n",
       "      <td>0</td>\n",
       "      <td>0</td>\n",
       "    </tr>\n",
       "    <tr>\n",
       "      <th>2</th>\n",
       "      <td>270000.0</td>\n",
       "      <td>1.0</td>\n",
       "      <td>26</td>\n",
       "      <td>52</td>\n",
       "      <td>8</td>\n",
       "      <td>2022</td>\n",
       "      <td>0.0</td>\n",
       "      <td>0</td>\n",
       "      <td>0</td>\n",
       "      <td>1</td>\n",
       "      <td>...</td>\n",
       "      <td>0</td>\n",
       "      <td>0</td>\n",
       "      <td>0</td>\n",
       "      <td>0</td>\n",
       "      <td>1</td>\n",
       "      <td>1</td>\n",
       "      <td>0</td>\n",
       "      <td>0</td>\n",
       "      <td>1</td>\n",
       "      <td>0</td>\n",
       "    </tr>\n",
       "    <tr>\n",
       "      <th>3</th>\n",
       "      <td>270000.0</td>\n",
       "      <td>1.0</td>\n",
       "      <td>26</td>\n",
       "      <td>52</td>\n",
       "      <td>8</td>\n",
       "      <td>2022</td>\n",
       "      <td>0.0</td>\n",
       "      <td>0</td>\n",
       "      <td>0</td>\n",
       "      <td>1</td>\n",
       "      <td>...</td>\n",
       "      <td>0</td>\n",
       "      <td>0</td>\n",
       "      <td>0</td>\n",
       "      <td>0</td>\n",
       "      <td>1</td>\n",
       "      <td>1</td>\n",
       "      <td>0</td>\n",
       "      <td>0</td>\n",
       "      <td>1</td>\n",
       "      <td>0</td>\n",
       "    </tr>\n",
       "    <tr>\n",
       "      <th>4</th>\n",
       "      <td>270000.0</td>\n",
       "      <td>1.0</td>\n",
       "      <td>38</td>\n",
       "      <td>52</td>\n",
       "      <td>8</td>\n",
       "      <td>2021</td>\n",
       "      <td>0.0</td>\n",
       "      <td>0</td>\n",
       "      <td>0</td>\n",
       "      <td>1</td>\n",
       "      <td>...</td>\n",
       "      <td>0</td>\n",
       "      <td>0</td>\n",
       "      <td>0</td>\n",
       "      <td>0</td>\n",
       "      <td>1</td>\n",
       "      <td>1</td>\n",
       "      <td>0</td>\n",
       "      <td>0</td>\n",
       "      <td>1</td>\n",
       "      <td>0</td>\n",
       "    </tr>\n",
       "  </tbody>\n",
       "</table>\n",
       "<p>5 rows × 41 columns</p>\n",
       "</div>"
      ],
      "text/plain": [
       "     INCOME  FAMILY SIZE  BEGIN_MONTH  AGE  YEARS_EMPLOYED  BEGIN_YEARS  \\\n",
       "0  112500.0          2.0           29   59               3         2022   \n",
       "1  270000.0          1.0            4   52               8         2024   \n",
       "2  270000.0          1.0           26   52               8         2022   \n",
       "3  270000.0          1.0           26   52               8         2022   \n",
       "4  270000.0          1.0           38   52               8         2021   \n",
       "\n",
       "   INCOME_PER_CHILD  GENDER_M  CAR_Y  REALITY_Y  ...  \\\n",
       "0               0.0         1      1          1  ...   \n",
       "1               0.0         0      0          1  ...   \n",
       "2               0.0         0      0          1  ...   \n",
       "3               0.0         0      0          1  ...   \n",
       "4               0.0         0      0          1  ...   \n",
       "\n",
       "   HOUSE_TYPE_Office apartment  HOUSE_TYPE_Rented apartment  \\\n",
       "0                            0                            0   \n",
       "1                            0                            0   \n",
       "2                            0                            0   \n",
       "3                            0                            0   \n",
       "4                            0                            0   \n",
       "\n",
       "   HOUSE_TYPE_With parents  WORK_PHONE_1  PHONE_1  E_MAIL_1  SEASON_Spring  \\\n",
       "0                        0             0        0         0              1   \n",
       "1                        0             0        1         1              1   \n",
       "2                        0             0        1         1              0   \n",
       "3                        0             0        1         1              0   \n",
       "4                        0             0        1         1              0   \n",
       "\n",
       "   SEASON_Summer  SEASON_Winter  ENCODE_AGE_Senior  \n",
       "0              0              0                  1  \n",
       "1              0              0                  0  \n",
       "2              0              1                  0  \n",
       "3              0              1                  0  \n",
       "4              0              1                  0  \n",
       "\n",
       "[5 rows x 41 columns]"
      ]
     },
     "execution_count": 23,
     "metadata": {},
     "output_type": "execute_result"
    }
   ],
   "source": [
    "data = pd.get_dummies(data, columns=categorical_col, drop_first=True, dtype=int)\n",
    "data.head()"
   ]
  },
  {
   "cell_type": "markdown",
   "id": "f4eb3a11",
   "metadata": {},
   "source": [
    "Chuẩn hóa dữ liệu"
   ]
  },
  {
   "cell_type": "code",
   "execution_count": 24,
   "id": "a1cd8305",
   "metadata": {
    "execution": {
     "iopub.execute_input": "2024-06-05T17:24:36.862107Z",
     "iopub.status.busy": "2024-06-05T17:24:36.861620Z",
     "iopub.status.idle": "2024-06-05T17:24:36.892304Z",
     "shell.execute_reply": "2024-06-05T17:24:36.891063Z"
    },
    "executionInfo": {
     "elapsed": 799,
     "status": "ok",
     "timestamp": 1717575098408,
     "user": {
      "displayName": "Huy Quoc",
      "userId": "08351271106189983839"
     },
     "user_tz": -420
    },
    "id": "NKmadza2gKkh",
    "papermill": {
     "duration": 0.070673,
     "end_time": "2024-06-05T17:24:36.896066",
     "exception": false,
     "start_time": "2024-06-05T17:24:36.825393",
     "status": "completed"
    },
    "tags": []
   },
   "outputs": [],
   "source": [
    "# Standard Scaler data\n",
    "scaler = StandardScaler()\n",
    "scaled_data = scaler.fit_transform(data)"
   ]
  },
  {
   "cell_type": "markdown",
   "id": "990defdb",
   "metadata": {},
   "source": [
    "Xác định outlier bằng trực quan hóa"
   ]
  },
  {
   "cell_type": "code",
   "execution_count": 25,
   "id": "0543f37c",
   "metadata": {
    "execution": {
     "iopub.execute_input": "2024-06-05T17:24:36.965735Z",
     "iopub.status.busy": "2024-06-05T17:24:36.964653Z",
     "iopub.status.idle": "2024-06-05T17:24:38.614077Z",
     "shell.execute_reply": "2024-06-05T17:24:38.612689Z"
    },
    "executionInfo": {
     "elapsed": 12,
     "status": "ok",
     "timestamp": 1717575098409,
     "user": {
      "displayName": "Huy Quoc",
      "userId": "08351271106189983839"
     },
     "user_tz": -420
    },
    "id": "YnEiHdlYgMuJ",
    "outputId": "54b6fd38-75f2-40a2-f0cc-51a5893eccfa",
    "papermill": {
     "duration": 1.687939,
     "end_time": "2024-06-05T17:24:38.619306",
     "exception": false,
     "start_time": "2024-06-05T17:24:36.931367",
     "status": "completed"
    },
    "tags": []
   },
   "outputs": [
    {
     "data": {
      "image/png": "[encoded data removed]",
      "text/plain": [
       "<Figure size 800x550 with 1 Axes>"
      ]
     },
     "metadata": {},
     "output_type": "display_data"
    }
   ],
   "source": [
    "# Detect outlier by visulizing data\n",
    "pca = PCA(n_components=2)\n",
    "pca_data = pca.fit_transform(scaled_data)\n",
    "sns.scatterplot(x=pca_data[:, 0], y=pca_data[:, 1], hue=target)\n",
    "plt.xlabel(\"PC1\")\n",
    "plt.ylabel(\"PC2\")\n",
    "plt.axvline(x=7.5, color=\"black\", linestyle=\"--\")\n",
    "plt.axhline(y=6, color=\"black\", linestyle=\"--\")\n",
    "plt.show()"
   ]
  },
  {
   "cell_type": "markdown",
   "id": "dcbee0ad",
   "metadata": {},
   "source": [
    "Dựa vào hình vẽ, ta sẽ loại bỏ các data sample có PC1 lớn hơn 7.5"
   ]
  },
  {
   "cell_type": "code",
   "execution_count": 26,
   "id": "a733e039",
   "metadata": {
    "execution": {
     "iopub.execute_input": "2024-06-05T17:24:38.691074Z",
     "iopub.status.busy": "2024-06-05T17:24:38.690670Z",
     "iopub.status.idle": "2024-06-05T17:24:38.698053Z",
     "shell.execute_reply": "2024-06-05T17:24:38.696872Z"
    },
    "executionInfo": {
     "elapsed": 11,
     "status": "ok",
     "timestamp": 1717575098409,
     "user": {
      "displayName": "Huy Quoc",
      "userId": "08351271106189983839"
     },
     "user_tz": -420
    },
    "id": "ggQPI_E9fiRk",
    "outputId": "a84d1b52-8238-4687-c8e2-fa947fad2e03",
    "papermill": {
     "duration": 0.046975,
     "end_time": "2024-06-05T17:24:38.701252",
     "exception": false,
     "start_time": "2024-06-05T17:24:38.654277",
     "status": "completed"
    },
    "tags": []
   },
   "outputs": [
    {
     "name": "stdout",
     "output_type": "stream",
     "text": [
      "[ 9938  9939  9940 23432 23433 23434 23435 23436 23437 23438 23439]\n"
     ]
    }
   ],
   "source": [
    "outlier_indexes = np.where(pca_data[:, 0] > 7.5)[0]\n",
    "print(outlier_indexes)"
   ]
  },
  {
   "cell_type": "code",
   "execution_count": 27,
   "id": "952e7285",
   "metadata": {
    "execution": {
     "iopub.execute_input": "2024-06-05T17:24:38.772844Z",
     "iopub.status.busy": "2024-06-05T17:24:38.772405Z",
     "iopub.status.idle": "2024-06-05T17:24:38.786004Z",
     "shell.execute_reply": "2024-06-05T17:24:38.784794Z"
    },
    "executionInfo": {
     "elapsed": 10,
     "status": "ok",
     "timestamp": 1717575098409,
     "user": {
      "displayName": "Huy Quoc",
      "userId": "08351271106189983839"
     },
     "user_tz": -420
    },
    "id": "HXKgprHlizBE",
    "outputId": "2a46897a-9606-4405-9174-0d4ab913d77f",
    "papermill": {
     "duration": 0.052388,
     "end_time": "2024-06-05T17:24:38.788649",
     "exception": false,
     "start_time": "2024-06-05T17:24:38.736261",
     "status": "completed"
    },
    "tags": []
   },
   "outputs": [
    {
     "name": "stdout",
     "output_type": "stream",
     "text": [
      "Shape of data before removing outliers: (25133, 41)\n",
      "Shape of target before removing outliers: (25133,)\n",
      "Shape of data after removing outliers: (25122, 41)\n",
      "Shape of target after removing outliers: (25122,)\n"
     ]
    }
   ],
   "source": [
    "print(f\"Shape of data before removing outliers: {scaled_data.shape}\")\n",
    "print(f\"Shape of target before removing outliers: {target.shape}\")\n",
    "\n",
    "cleaned_data = pd.DataFrame(scaled_data, columns=data.columns).drop(\n",
    "    outlier_indexes, errors=\"ignore\"\n",
    ")\n",
    "target = target.drop(outlier_indexes, errors=\"ignore\")\n",
    "\n",
    "print(f\"Shape of data after removing outliers: {cleaned_data.shape}\")\n",
    "print(f\"Shape of target after removing outliers: {target.shape}\")"
   ]
  },
  {
   "cell_type": "markdown",
   "id": "e8f7a9d5",
   "metadata": {
    "id": "Zi5s_ZP48Koy",
    "papermill": {
     "duration": 0.034357,
     "end_time": "2024-06-05T17:24:38.858937",
     "exception": false,
     "start_time": "2024-06-05T17:24:38.824580",
     "status": "completed"
    },
    "tags": []
   },
   "source": [
    "## Feature Engineering\n"
   ]
  },
  {
   "cell_type": "code",
   "execution_count": 28,
   "id": "4ea86991",
   "metadata": {
    "execution": {
     "iopub.execute_input": "2024-06-05T17:24:38.932926Z",
     "iopub.status.busy": "2024-06-05T17:24:38.932495Z",
     "iopub.status.idle": "2024-06-05T17:24:38.971490Z",
     "shell.execute_reply": "2024-06-05T17:24:38.970080Z"
    },
    "executionInfo": {
     "elapsed": 8,
     "status": "ok",
     "timestamp": 1717575098409,
     "user": {
      "displayName": "Huy Quoc",
      "userId": "08351271106189983839"
     },
     "user_tz": -420
    },
    "id": "sYZrzT2nOsE4",
    "outputId": "8ca2b6e9-a3e6-4c56-dede-7fc824dd0b1d",
    "papermill": {
     "duration": 0.080399,
     "end_time": "2024-06-05T17:24:38.974148",
     "exception": false,
     "start_time": "2024-06-05T17:24:38.893749",
     "status": "completed"
    },
    "tags": []
   },
   "outputs": [
    {
     "data": {
      "text/html": [
       "<div>\n",
       "<style scoped>\n",
       "    .dataframe tbody tr th:only-of-type {\n",
       "        vertical-align: middle;\n",
       "    }\n",
       "\n",
       "    .dataframe tbody tr th {\n",
       "        vertical-align: top;\n",
       "    }\n",
       "\n",
       "    .dataframe thead th {\n",
       "        text-align: right;\n",
       "    }\n",
       "</style>\n",
       "<table border=\"1\" class=\"dataframe\">\n",
       "  <thead>\n",
       "    <tr style=\"text-align: right;\">\n",
       "      <th></th>\n",
       "      <th>INCOME</th>\n",
       "      <th>FAMILY SIZE</th>\n",
       "      <th>BEGIN_MONTH</th>\n",
       "      <th>AGE</th>\n",
       "      <th>YEARS_EMPLOYED</th>\n",
       "      <th>BEGIN_YEARS</th>\n",
       "      <th>INCOME_PER_CHILD</th>\n",
       "      <th>GENDER_M</th>\n",
       "      <th>CAR_Y</th>\n",
       "      <th>REALITY_Y</th>\n",
       "      <th>...</th>\n",
       "      <th>HOUSE_TYPE_Rented apartment</th>\n",
       "      <th>HOUSE_TYPE_With parents</th>\n",
       "      <th>WORK_PHONE_1</th>\n",
       "      <th>PHONE_1</th>\n",
       "      <th>E_MAIL_1</th>\n",
       "      <th>SEASON_Spring</th>\n",
       "      <th>SEASON_Summer</th>\n",
       "      <th>SEASON_Winter</th>\n",
       "      <th>ENCODE_AGE_Senior</th>\n",
       "      <th>TARGET</th>\n",
       "    </tr>\n",
       "  </thead>\n",
       "  <tbody>\n",
       "    <tr>\n",
       "      <th>0</th>\n",
       "      <td>-0.787842</td>\n",
       "      <td>-0.311758</td>\n",
       "      <td>0.175105</td>\n",
       "      <td>1.931472</td>\n",
       "      <td>-0.655449</td>\n",
       "      <td>-0.198146</td>\n",
       "      <td>-0.577418</td>\n",
       "      <td>1.282367</td>\n",
       "      <td>1.178973</td>\n",
       "      <td>0.725888</td>\n",
       "      <td>...</td>\n",
       "      <td>-0.133333</td>\n",
       "      <td>-0.245621</td>\n",
       "      <td>-0.614003</td>\n",
       "      <td>-0.643391</td>\n",
       "      <td>-0.334562</td>\n",
       "      <td>1.670740</td>\n",
       "      <td>-0.57464</td>\n",
       "      <td>-0.583032</td>\n",
       "      <td>5.231330</td>\n",
       "      <td>0.0</td>\n",
       "    </tr>\n",
       "    <tr>\n",
       "      <th>1</th>\n",
       "      <td>0.719195</td>\n",
       "      <td>-1.374475</td>\n",
       "      <td>-1.345658</td>\n",
       "      <td>1.199197</td>\n",
       "      <td>0.124069</td>\n",
       "      <td>1.257781</td>\n",
       "      <td>-0.577418</td>\n",
       "      <td>-0.779808</td>\n",
       "      <td>-0.848196</td>\n",
       "      <td>0.725888</td>\n",
       "      <td>...</td>\n",
       "      <td>-0.133333</td>\n",
       "      <td>-0.245621</td>\n",
       "      <td>-0.614003</td>\n",
       "      <td>1.554264</td>\n",
       "      <td>2.988978</td>\n",
       "      <td>1.670740</td>\n",
       "      <td>-0.57464</td>\n",
       "      <td>-0.583032</td>\n",
       "      <td>-0.191156</td>\n",
       "      <td>0.0</td>\n",
       "    </tr>\n",
       "    <tr>\n",
       "      <th>2</th>\n",
       "      <td>0.719195</td>\n",
       "      <td>-1.374475</td>\n",
       "      <td>-0.007387</td>\n",
       "      <td>1.199197</td>\n",
       "      <td>0.124069</td>\n",
       "      <td>-0.198146</td>\n",
       "      <td>-0.577418</td>\n",
       "      <td>-0.779808</td>\n",
       "      <td>-0.848196</td>\n",
       "      <td>0.725888</td>\n",
       "      <td>...</td>\n",
       "      <td>-0.133333</td>\n",
       "      <td>-0.245621</td>\n",
       "      <td>-0.614003</td>\n",
       "      <td>1.554264</td>\n",
       "      <td>2.988978</td>\n",
       "      <td>-0.598537</td>\n",
       "      <td>-0.57464</td>\n",
       "      <td>1.715171</td>\n",
       "      <td>-0.191156</td>\n",
       "      <td>0.0</td>\n",
       "    </tr>\n",
       "    <tr>\n",
       "      <th>3</th>\n",
       "      <td>0.719195</td>\n",
       "      <td>-1.374475</td>\n",
       "      <td>-0.007387</td>\n",
       "      <td>1.199197</td>\n",
       "      <td>0.124069</td>\n",
       "      <td>-0.198146</td>\n",
       "      <td>-0.577418</td>\n",
       "      <td>-0.779808</td>\n",
       "      <td>-0.848196</td>\n",
       "      <td>0.725888</td>\n",
       "      <td>...</td>\n",
       "      <td>-0.133333</td>\n",
       "      <td>-0.245621</td>\n",
       "      <td>-0.614003</td>\n",
       "      <td>1.554264</td>\n",
       "      <td>2.988978</td>\n",
       "      <td>-0.598537</td>\n",
       "      <td>-0.57464</td>\n",
       "      <td>1.715171</td>\n",
       "      <td>-0.191156</td>\n",
       "      <td>0.0</td>\n",
       "    </tr>\n",
       "    <tr>\n",
       "      <th>4</th>\n",
       "      <td>0.719195</td>\n",
       "      <td>-1.374475</td>\n",
       "      <td>0.722579</td>\n",
       "      <td>1.199197</td>\n",
       "      <td>0.124069</td>\n",
       "      <td>-0.926109</td>\n",
       "      <td>-0.577418</td>\n",
       "      <td>-0.779808</td>\n",
       "      <td>-0.848196</td>\n",
       "      <td>0.725888</td>\n",
       "      <td>...</td>\n",
       "      <td>-0.133333</td>\n",
       "      <td>-0.245621</td>\n",
       "      <td>-0.614003</td>\n",
       "      <td>1.554264</td>\n",
       "      <td>2.988978</td>\n",
       "      <td>-0.598537</td>\n",
       "      <td>-0.57464</td>\n",
       "      <td>1.715171</td>\n",
       "      <td>-0.191156</td>\n",
       "      <td>0.0</td>\n",
       "    </tr>\n",
       "  </tbody>\n",
       "</table>\n",
       "<p>5 rows × 42 columns</p>\n",
       "</div>"
      ],
      "text/plain": [
       "     INCOME  FAMILY SIZE  BEGIN_MONTH       AGE  YEARS_EMPLOYED  BEGIN_YEARS  \\\n",
       "0 -0.787842    -0.311758     0.175105  1.931472       -0.655449    -0.198146   \n",
       "1  0.719195    -1.374475    -1.345658  1.199197        0.124069     1.257781   \n",
       "2  0.719195    -1.374475    -0.007387  1.199197        0.124069    -0.198146   \n",
       "3  0.719195    -1.374475    -0.007387  1.199197        0.124069    -0.198146   \n",
       "4  0.719195    -1.374475     0.722579  1.199197        0.124069    -0.926109   \n",
       "\n",
       "   INCOME_PER_CHILD  GENDER_M     CAR_Y  REALITY_Y  ...  \\\n",
       "0         -0.577418  1.282367  1.178973   0.725888  ...   \n",
       "1         -0.577418 -0.779808 -0.848196   0.725888  ...   \n",
       "2         -0.577418 -0.779808 -0.848196   0.725888  ...   \n",
       "3         -0.577418 -0.779808 -0.848196   0.725888  ...   \n",
       "4         -0.577418 -0.779808 -0.848196   0.725888  ...   \n",
       "\n",
       "   HOUSE_TYPE_Rented apartment  HOUSE_TYPE_With parents  WORK_PHONE_1  \\\n",
       "0                    -0.133333                -0.245621     -0.614003   \n",
       "1                    -0.133333                -0.245621     -0.614003   \n",
       "2                    -0.133333                -0.245621     -0.614003   \n",
       "3                    -0.133333                -0.245621     -0.614003   \n",
       "4                    -0.133333                -0.245621     -0.614003   \n",
       "\n",
       "    PHONE_1  E_MAIL_1  SEASON_Spring  SEASON_Summer  SEASON_Winter  \\\n",
       "0 -0.643391 -0.334562       1.670740       -0.57464      -0.583032   \n",
       "1  1.554264  2.988978       1.670740       -0.57464      -0.583032   \n",
       "2  1.554264  2.988978      -0.598537       -0.57464       1.715171   \n",
       "3  1.554264  2.988978      -0.598537       -0.57464       1.715171   \n",
       "4  1.554264  2.988978      -0.598537       -0.57464       1.715171   \n",
       "\n",
       "   ENCODE_AGE_Senior  TARGET  \n",
       "0           5.231330     0.0  \n",
       "1          -0.191156     0.0  \n",
       "2          -0.191156     0.0  \n",
       "3          -0.191156     0.0  \n",
       "4          -0.191156     0.0  \n",
       "\n",
       "[5 rows x 42 columns]"
      ]
     },
     "execution_count": 28,
     "metadata": {},
     "output_type": "execute_result"
    }
   ],
   "source": [
    "data = pd.DataFrame(cleaned_data, columns=data.columns)\n",
    "df = pd.concat([data, target], axis=1)\n",
    "df.head()"
   ]
  },
  {
   "cell_type": "markdown",
   "id": "80f68e66",
   "metadata": {},
   "source": [
    "Xuất ra heatmap của correlation của dữ liệu (chỉ các cột là numerical)"
   ]
  },
  {
   "cell_type": "code",
   "execution_count": 29,
   "id": "62faa400",
   "metadata": {
    "execution": {
     "iopub.execute_input": "2024-06-05T17:24:39.046676Z",
     "iopub.status.busy": "2024-06-05T17:24:39.046263Z",
     "iopub.status.idle": "2024-06-05T17:24:39.459957Z",
     "shell.execute_reply": "2024-06-05T17:24:39.458667Z"
    },
    "executionInfo": {
     "elapsed": 1454,
     "status": "ok",
     "timestamp": 1717575140598,
     "user": {
      "displayName": "Huy Quoc",
      "userId": "08351271106189983839"
     },
     "user_tz": -420
    },
    "id": "6VQVAmTx8Koy",
    "outputId": "71bc957c-a70c-4c24-c7a0-3e7caebe4c6d",
    "papermill": {
     "duration": 0.453371,
     "end_time": "2024-06-05T17:24:39.462907",
     "exception": false,
     "start_time": "2024-06-05T17:24:39.009536",
     "status": "completed"
    },
    "tags": []
   },
   "outputs": [
    {
     "data": {
      "image/png": "[encoded data removed]",
      "text/plain": [
       "<Figure size 800x550 with 2 Axes>"
      ]
     },
     "metadata": {},
     "output_type": "display_data"
    }
   ],
   "source": [
    "# Heatmap\n",
    "corr_col = numerical_col.copy()\n",
    "corr_col.append('TARGET')\n",
    "sns.heatmap(df[corr_col].corr(), cmap=\"viridis\")\n",
    "plt.show()"
   ]
  },
  {
   "cell_type": "markdown",
   "id": "51cda0e5",
   "metadata": {},
   "source": [
    "Sử dụng PCA để xuất ra explained_variance_ratio. Từ đó, giúp xác định việc bỏ đi bao nhiêu chiều là hợp lí"
   ]
  },
  {
   "cell_type": "code",
   "execution_count": 30,
   "id": "e14bef94",
   "metadata": {
    "execution": {
     "iopub.execute_input": "2024-06-05T17:24:39.538137Z",
     "iopub.status.busy": "2024-06-05T17:24:39.537722Z",
     "iopub.status.idle": "2024-06-05T17:24:39.606152Z",
     "shell.execute_reply": "2024-06-05T17:24:39.604444Z"
    },
    "executionInfo": {
     "elapsed": 396,
     "status": "ok",
     "timestamp": 1717575357007,
     "user": {
      "displayName": "Huy Quoc",
      "userId": "08351271106189983839"
     },
     "user_tz": -420
    },
    "id": "ysmAOhlwP1je",
    "outputId": "1d9906b5-2624-4ab5-baba-ed57aa263d2e",
    "papermill": {
     "duration": 0.111891,
     "end_time": "2024-06-05T17:24:39.611664",
     "exception": false,
     "start_time": "2024-06-05T17:24:39.499773",
     "status": "completed"
    },
    "tags": []
   },
   "outputs": [
    {
     "name": "stdout",
     "output_type": "stream",
     "text": [
      "[7.0317e+00 5.8089e+00 5.3205e+00 4.9347e+00 4.2533e+00 4.0395e+00\n",
      " 3.7800e+00 3.5879e+00 3.3949e+00 3.3529e+00 3.1908e+00 2.8551e+00\n",
      " 2.6982e+00 2.6772e+00 2.6281e+00 2.5845e+00 2.5771e+00 2.5454e+00\n",
      " 2.5259e+00 2.5119e+00 2.5065e+00 2.4770e+00 2.4683e+00 2.4546e+00\n",
      " 2.3661e+00 2.2999e+00 2.1378e+00 2.1100e+00 1.8429e+00 1.5677e+00\n",
      " 1.4380e+00 1.3109e+00 1.0888e+00 8.1790e-01 4.8750e-01 2.5210e-01\n",
      " 6.6700e-02 3.0000e-03 2.9000e-03 2.8000e-03 0.0000e+00]\n"
     ]
    }
   ],
   "source": [
    "pca = PCA(n_components=len(df.columns) - 1)\n",
    "pca_result = pca.fit_transform(data)\n",
    "\n",
    "print(np.round(pca.explained_variance_ratio_ * 100, decimals=4))"
   ]
  },
  {
   "cell_type": "markdown",
   "id": "99e886fb",
   "metadata": {},
   "source": [
    "Ở đây ta sẽ quyết định giữ lại 98% thông tin nên số chiều còn lại chỉ là 33"
   ]
  },
  {
   "cell_type": "code",
   "execution_count": 31,
   "id": "9f090e64",
   "metadata": {
    "execution": {
     "iopub.execute_input": "2024-06-05T17:24:39.741345Z",
     "iopub.status.busy": "2024-06-05T17:24:39.740957Z",
     "iopub.status.idle": "2024-06-05T17:24:39.747939Z",
     "shell.execute_reply": "2024-06-05T17:24:39.746775Z"
    },
    "executionInfo": {
     "elapsed": 619,
     "status": "ok",
     "timestamp": 1717575366339,
     "user": {
      "displayName": "Huy Quoc",
      "userId": "08351271106189983839"
     },
     "user_tz": -420
    },
    "id": "HeHl32Q6d-fF",
    "outputId": "08a5eb9a-645e-4d8e-d3c0-db5212046a0b",
    "papermill": {
     "duration": 0.06081,
     "end_time": "2024-06-05T17:24:39.750604",
     "exception": false,
     "start_time": "2024-06-05T17:24:39.689794",
     "status": "completed"
    },
    "tags": []
   },
   "outputs": [
    {
     "name": "stdout",
     "output_type": "stream",
     "text": [
      "Number of components to explain 98.0% variance: 33\n"
     ]
    }
   ],
   "source": [
    "explained_variance_ratio = np.cumsum(pca.explained_variance_ratio_)\n",
    "threshold = 0.98\n",
    "\n",
    "n_components = np.argmax(explained_variance_ratio >= threshold) + 1\n",
    "print(f\"Number of components to explain {threshold * 100}% variance: {n_components}\")"
   ]
  },
  {
   "cell_type": "code",
   "execution_count": 32,
   "id": "7c872739",
   "metadata": {
    "execution": {
     "iopub.execute_input": "2024-06-05T17:24:39.825228Z",
     "iopub.status.busy": "2024-06-05T17:24:39.824854Z",
     "iopub.status.idle": "2024-06-05T17:24:39.881702Z",
     "shell.execute_reply": "2024-06-05T17:24:39.879468Z"
    },
    "executionInfo": {
     "elapsed": 1237,
     "status": "ok",
     "timestamp": 1717575397220,
     "user": {
      "displayName": "Huy Quoc",
      "userId": "08351271106189983839"
     },
     "user_tz": -420
    },
    "id": "_2ZViF_xeANP",
    "papermill": {
     "duration": 0.099629,
     "end_time": "2024-06-05T17:24:39.886505",
     "exception": false,
     "start_time": "2024-06-05T17:24:39.786876",
     "status": "completed"
    },
    "tags": []
   },
   "outputs": [],
   "source": [
    "pca = PCA(n_components=n_components)\n",
    "reduced_data = pca.fit_transform(data)"
   ]
  },
  {
   "cell_type": "markdown",
   "id": "c2b51776",
   "metadata": {
    "id": "prlZ55S68Koz",
    "papermill": {
     "duration": 0.049393,
     "end_time": "2024-06-05T17:24:40.017934",
     "exception": false,
     "start_time": "2024-06-05T17:24:39.968541",
     "status": "completed"
    },
    "tags": []
   },
   "source": [
    "# Apply machine learning model\n"
   ]
  },
  {
   "cell_type": "code",
   "execution_count": 33,
   "id": "80d11864",
   "metadata": {
    "execution": {
     "iopub.execute_input": "2024-06-05T17:24:40.094616Z",
     "iopub.status.busy": "2024-06-05T17:24:40.094190Z",
     "iopub.status.idle": "2024-06-05T17:24:40.419971Z",
     "shell.execute_reply": "2024-06-05T17:24:40.418750Z"
    },
    "executionInfo": {
     "elapsed": 355,
     "status": "ok",
     "timestamp": 1717577688019,
     "user": {
      "displayName": "Huy Quoc",
      "userId": "08351271106189983839"
     },
     "user_tz": -420
    },
    "id": "6EVe-wGcjs3D",
    "papermill": {
     "duration": 0.367756,
     "end_time": "2024-06-05T17:24:40.422870",
     "exception": false,
     "start_time": "2024-06-05T17:24:40.055114",
     "status": "completed"
    },
    "tags": []
   },
   "outputs": [],
   "source": [
    "from sklearn.metrics import accuracy_score, precision_score, recall_score, f1_score\n",
    "from sklearn.metrics import classification_report, confusion_matrix, ConfusionMatrixDisplay\n",
    "from sklearn.model_selection import GridSearchCV, train_test_split\n",
    "from sklearn.svm import SVC\n",
    "from sklearn.neural_network import MLPClassifier\n",
    "from imblearn.pipeline import Pipeline\n",
    "from imblearn.combine import SMOTEENN"
   ]
  },
  {
   "cell_type": "markdown",
   "id": "44f7d318",
   "metadata": {},
   "source": [
    "Tiến hành xây dựng pipeline để training dữ liệu"
   ]
  },
  {
   "cell_type": "markdown",
   "id": "8685c4ff",
   "metadata": {},
   "source": [
    "### SVM"
   ]
  },
  {
   "cell_type": "code",
   "execution_count": 34,
   "id": "1f98b43a",
   "metadata": {
    "execution": {
     "iopub.execute_input": "2024-06-05T17:24:40.498355Z",
     "iopub.status.busy": "2024-06-05T17:24:40.497734Z",
     "iopub.status.idle": "2024-06-05T17:45:38.793397Z",
     "shell.execute_reply": "2024-06-05T17:45:38.791856Z"
    },
    "papermill": {
     "duration": 1258.372905,
     "end_time": "2024-06-05T17:45:38.832316",
     "exception": false,
     "start_time": "2024-06-05T17:24:40.459411",
     "status": "completed"
    },
    "tags": []
   },
   "outputs": [
    {
     "name": "stdout",
     "output_type": "stream",
     "text": [
      "Fitting 5 folds for each of 48 candidates, totalling 240 fits\n",
      "Best parameters: {'smote__sampling_strategy': 0.15, 'svc__C': 1, 'svc__gamma': 'scale'}\n",
      "Best score:  0.15935352503058176\n"
     ]
    }
   ],
   "source": [
    "RANDOM_STATE = 21110308\n",
    "TRAIN_SIZE = 0.8\n",
    "N_SPLITS = 5\n",
    "\n",
    "X = reduced_data\n",
    "y = target\n",
    "\n",
    "X_train, X_test, y_train, y_test = train_test_split(\n",
    "    X, y, train_size=TRAIN_SIZE, random_state=RANDOM_STATE\n",
    ")\n",
    "\n",
    "svm_pipeline = Pipeline(\n",
    "    [\n",
    "        (\"smote\", SMOTEENN(random_state=RANDOM_STATE)),\n",
    "        (\"svc\", SVC(random_state=RANDOM_STATE)),\n",
    "    ]\n",
    ")\n",
    "\n",
    "\n",
    "svm_param_grid = {\n",
    "    \"svc__C\": [0.1, 1, 10, 100],\n",
    "    \"svc__gamma\": [\"scale\", 0.001, 0.005],\n",
    "    \"smote__sampling_strategy\": [0.5, 0.25, 0.15, 0],\n",
    "}\n",
    "\n",
    "svm_grid_search = GridSearchCV(\n",
    "    estimator=svm_pipeline,\n",
    "    param_grid=svm_param_grid,\n",
    "    cv=N_SPLITS,\n",
    "    n_jobs=-1,\n",
    "    scoring=\"f1\",\n",
    "    verbose=1,\n",
    ")\n",
    "svm_grid_search.fit(X_train, y_train)\n",
    "\n",
    "print(\"Best parameters:\", svm_grid_search.best_params_)\n",
    "print(\"Best score: \", svm_grid_search.best_score_)"
   ]
  },
  {
   "cell_type": "markdown",
   "id": "4c4dd487",
   "metadata": {},
   "source": [
    "Do GridSearchCV đã lưu lại thông số của model tốt nhất nên ta lấy trực tiếp Grid Search vừa train đi predicting "
   ]
  },
  {
   "cell_type": "code",
   "execution_count": 35,
   "id": "d5b7cf1f",
   "metadata": {
    "execution": {
     "iopub.execute_input": "2024-06-05T17:45:38.908231Z",
     "iopub.status.busy": "2024-06-05T17:45:38.907769Z",
     "iopub.status.idle": "2024-06-05T17:45:40.704059Z",
     "shell.execute_reply": "2024-06-05T17:45:40.702227Z"
    },
    "papermill": {
     "duration": 1.837683,
     "end_time": "2024-06-05T17:45:40.706913",
     "exception": false,
     "start_time": "2024-06-05T17:45:38.869230",
     "status": "completed"
    },
    "tags": []
   },
   "outputs": [
    {
     "name": "stdout",
     "output_type": "stream",
     "text": [
      "              precision    recall  f1-score   support\n",
      "\n",
      "           0       0.98      0.99      0.99      4933\n",
      "           1       0.32      0.13      0.19        92\n",
      "\n",
      "    accuracy                           0.98      5025\n",
      "   macro avg       0.65      0.56      0.59      5025\n",
      "weighted avg       0.97      0.98      0.97      5025\n",
      "\n",
      "Accuracy Score: 0.9791044776119403\n",
      "Precision Score: 0.32432432432432434\n",
      "Recall Score: 0.13043478260869565\n",
      "F1 Score: 0.18604651162790697\n"
     ]
    }
   ],
   "source": [
    "preds = svm_grid_search.predict(X_test)\n",
    "\n",
    "print(classification_report(y_test, preds))\n",
    "print(f'Accuracy Score: {accuracy_score(y_test, preds)}')\n",
    "print(f'Precision Score: {precision_score(y_test, preds)}')\n",
    "print(f'Recall Score: {recall_score(y_test, preds)}')\n",
    "print(f'F1 Score: {f1_score(y_test, preds)}')"
   ]
  },
  {
   "cell_type": "markdown",
   "id": "e1ceae5b",
   "metadata": {},
   "source": [
    "Tiến hành xuất Confusion matrix"
   ]
  },
  {
   "cell_type": "code",
   "execution_count": 36,
   "id": "9e4c8e43",
   "metadata": {
    "execution": {
     "iopub.execute_input": "2024-06-05T17:45:40.782406Z",
     "iopub.status.busy": "2024-06-05T17:45:40.781897Z",
     "iopub.status.idle": "2024-06-05T17:45:41.104683Z",
     "shell.execute_reply": "2024-06-05T17:45:41.103372Z"
    },
    "papermill": {
     "duration": 0.363373,
     "end_time": "2024-06-05T17:45:41.107192",
     "exception": false,
     "start_time": "2024-06-05T17:45:40.743819",
     "status": "completed"
    },
    "tags": []
   },
   "outputs": [
    {
     "data": {
      "text/plain": [
       "<sklearn.metrics._plot.confusion_matrix.ConfusionMatrixDisplay at 0x78ba94a34ca0>"
      ]
     },
     "execution_count": 36,
     "metadata": {},
     "output_type": "execute_result"
    },
    {
     "data": {
      "image/png": "[encoded data removed]",
      "text/plain": [
       "<Figure size 800x550 with 2 Axes>"
      ]
     },
     "metadata": {},
     "output_type": "display_data"
    }
   ],
   "source": [
    "ConfusionMatrixDisplay(confusion_matrix=confusion_matrix(y_test, preds), \n",
    "                       display_labels=svm_grid_search.classes_).plot()"
   ]
  },
  {
   "cell_type": "markdown",
   "id": "b4bbd990",
   "metadata": {},
   "source": [
    "### Tương tự với MLP"
   ]
  },
  {
   "cell_type": "code",
   "execution_count": 37,
   "id": "bcd99ce8",
   "metadata": {
    "execution": {
     "iopub.execute_input": "2024-06-05T17:45:41.185008Z",
     "iopub.status.busy": "2024-06-05T17:45:41.184603Z",
     "iopub.status.idle": "2024-06-05T19:08:59.800997Z",
     "shell.execute_reply": "2024-06-05T19:08:59.799773Z"
    },
    "papermill": {
     "duration": 4998.749395,
     "end_time": "2024-06-05T19:08:59.894095",
     "exception": false,
     "start_time": "2024-06-05T17:45:41.144700",
     "status": "completed"
    },
    "tags": []
   },
   "outputs": [
    {
     "name": "stdout",
     "output_type": "stream",
     "text": [
      "Fitting 5 folds for each of 128 candidates, totalling 640 fits\n",
      "Best parameters: {'mlp__activation': 'relu', 'mlp__alpha': 0.001, 'mlp__hidden_layer_sizes': (200,), 'mlp__learning_rate': 'constant', 'mlp__max_iter': 500, 'smote__sampling_strategy': 0.15}\n",
      "Best score:  0.17759669481293344\n"
     ]
    }
   ],
   "source": [
    "mlp_pipeline = Pipeline([\n",
    "    ('smote', SMOTEENN(random_state=RANDOM_STATE)),\n",
    "    ('mlp', MLPClassifier(random_state=RANDOM_STATE))\n",
    "])\n",
    "\n",
    "\n",
    "mlp_param_grid = {\n",
    "    'mlp__hidden_layer_sizes': [(100,), (200,)],\n",
    "    'mlp__activation': ['relu', 'logistic'],\n",
    "    'mlp__alpha': [0.0001, 0.001],\n",
    "    'mlp__learning_rate': ['constant', 'adaptive'],\n",
    "    'mlp__max_iter': [500, 800],\n",
    "    'smote__sampling_strategy': [0, 0.15, 0.25, 0.5],\n",
    "}\n",
    "\n",
    "mlp_grid_search = GridSearchCV(\n",
    "    estimator=mlp_pipeline,\n",
    "    param_grid=mlp_param_grid,\n",
    "    cv=N_SPLITS,\n",
    "    n_jobs=-1,\n",
    "    scoring=\"f1\",\n",
    "    verbose=1,\n",
    ")\n",
    "mlp_grid_search.fit(X_train, y_train)\n",
    "\n",
    "print(\"Best parameters:\", mlp_grid_search.best_params_)\n",
    "print(\"Best score: \", mlp_grid_search.best_score_)"
   ]
  },
  {
   "cell_type": "code",
   "execution_count": 38,
   "id": "66f0966b",
   "metadata": {
    "execution": {
     "iopub.execute_input": "2024-06-05T19:08:59.984190Z",
     "iopub.status.busy": "2024-06-05T19:08:59.983776Z",
     "iopub.status.idle": "2024-06-05T19:09:00.057848Z",
     "shell.execute_reply": "2024-06-05T19:09:00.056697Z"
    },
    "papermill": {
     "duration": 0.117836,
     "end_time": "2024-06-05T19:09:00.062504",
     "exception": false,
     "start_time": "2024-06-05T19:08:59.944668",
     "status": "completed"
    },
    "tags": []
   },
   "outputs": [
    {
     "name": "stdout",
     "output_type": "stream",
     "text": [
      "              precision    recall  f1-score   support\n",
      "\n",
      "           0       0.98      0.98      0.98      4933\n",
      "           1       0.17      0.20      0.18        92\n",
      "\n",
      "    accuracy                           0.97      5025\n",
      "   macro avg       0.58      0.59      0.58      5025\n",
      "weighted avg       0.97      0.97      0.97      5025\n",
      "\n",
      "Accuracy Score: 0.9681592039800995\n",
      "Precision Score: 0.17307692307692307\n",
      "Recall Score: 0.1956521739130435\n",
      "F1 Score: 0.18367346938775508\n"
     ]
    }
   ],
   "source": [
    "preds = mlp_grid_search.predict(X_test)\n",
    "\n",
    "print(classification_report(y_test, preds))\n",
    "print(f'Accuracy Score: {accuracy_score(y_test, preds)}')\n",
    "print(f'Precision Score: {precision_score(y_test, preds)}')\n",
    "print(f'Recall Score: {recall_score(y_test, preds)}')\n",
    "print(f'F1 Score: {f1_score(y_test, preds)}')"
   ]
  },
  {
   "cell_type": "code",
   "execution_count": 39,
   "id": "24415a4b",
   "metadata": {
    "execution": {
     "iopub.execute_input": "2024-06-05T19:09:00.171731Z",
     "iopub.status.busy": "2024-06-05T19:09:00.171283Z",
     "iopub.status.idle": "2024-06-05T19:09:00.493765Z",
     "shell.execute_reply": "2024-06-05T19:09:00.492662Z"
    },
    "papermill": {
     "duration": 0.36532,
     "end_time": "2024-06-05T19:09:00.496449",
     "exception": false,
     "start_time": "2024-06-05T19:09:00.131129",
     "status": "completed"
    },
    "tags": []
   },
   "outputs": [
    {
     "data": {
      "text/plain": [
       "<sklearn.metrics._plot.confusion_matrix.ConfusionMatrixDisplay at 0x78ba95247b50>"
      ]
     },
     "execution_count": 39,
     "metadata": {},
     "output_type": "execute_result"
    },
    {
     "data": {
      "image/png": "[encoded data removed]",
      "text/plain": [
       "<Figure size 800x550 with 2 Axes>"
      ]
     },
     "metadata": {},
     "output_type": "display_data"
    }
   ],
   "source": [
    "ConfusionMatrixDisplay(confusion_matrix=confusion_matrix(y_test, preds), \n",
    "                       display_labels=mlp_grid_search.classes_).plot()"
   ]
  },
  {
   "cell_type": "markdown",
   "id": "398be0dd",
   "metadata": {},
   "source": [
    "## Conclusion\n",
    "\n",
    "Dựa vào quá trình analysis, ta có thể nhận ra dữ liệu bị lệch rất nặng về phía label 0 (lệch hơn 98%). Thế nên việc mô hình huấn luyện của chúng ta đạt độ chính xác cao là một thách thức quá lớn.\n",
    "\n",
    "Do đó, em đã tiến hành Over Sampling bằng SMOTEENN, thêm vào các đặc trưng mới nhằm giúp phân biệt tốt hơn giữa hai lớp.\n",
    "\n",
    "Về phần SMOTEENN, đây là thụât toán kết hợp giữa SMOTE (Synthetic Minority Over-sampling Technique) và ENN (Edited Nearest Neighbors). Quy trình bao gồm:\n",
    "\n",
    "1. SMOTE: tăng cường các mẫu của lớp thiểu số (trong bài lớp thiểu số tăng cường đến 15% tổng thể là tốt nhất, tìm được thông qua GridSearch)\n",
    "\n",
    "2. ENN: Loại bỏ các mẫu gây nhiễu, kể cả mẫu thiểu số lẫn đa số, để làm sạch dữ liệu\n",
    "\n",
    "Về phần main metric, em chọn F1-Score (Cả GridSearchCV và Predictions). F1-Score là thước đo lường cực kỳ hiệu quả đối với trường hợp dữ liệu bị mất cân bằng như dữ liệu của chúng ta. Xét riêng về trong trường hợp thực tế của dữ liệu thì việc Recall cao hơn là ưu tiên (giúp giảm thiểu rủi ro tài chính do gian lận không bị phát hiện) tuy nhiên việc Precision cao vẫn rất quan trọng (giảm thiểu số lượng báo động sai gây phiền toái cho người dùng). Đó là tất cả lí do em chọn F1-Score là main metric của bài.\n",
    "\n",
    "Cũng từ ý bên trên, giữa hai mô hình SVM và MLP, em sẽ ưu tiên chọn MLP,\n",
    "\n",
    "với các params tối ưu như: \n",
    "<pre>{\n",
    "    'mlp__activation': 'relu', \n",
    "    'mlp__alpha': 0.001, \n",
    "    'mlp__hidden_layer_sizes': (200,), \n",
    "    'mlp__learning_rate': 'constant', \n",
    "    'mlp__max_iter': 500\n",
    "}</pre>\n",
    " \n",
    "\n",
    ", hơn vì cả hai F1-Score khá tương đồng nhưng Recall của MLP nhỉn hơn tương đối."
   ]
  }
 ],
 "metadata": {
  "colab": {
   "provenance": []
  },
  "kaggle": {
   "accelerator": "none",
   "dataSources": [
    {
     "datasetId": 5153663,
     "sourceId": 8611682,
     "sourceType": "datasetVersion"
    }
   ],
   "dockerImageVersionId": 30732,
   "isGpuEnabled": false,
   "isInternetEnabled": true,
   "language": "python",
   "sourceType": "notebook"
  },
  "kernelspec": {
   "display_name": "Python 3",
   "language": "python",
   "name": "python3"
  },
  "language_info": {
   "codemirror_mode": {
    "name": "ipython",
    "version": 3
   },
   "file_extension": ".py",
   "mimetype": "text/x-python",
   "name": "python",
   "nbconvert_exporter": "python",
   "pygments_lexer": "ipython3",
   "version": "3.12.3"
  },
  "papermill": {
   "default_parameters": {},
   "duration": 6280.602037,
   "end_time": "2024-06-05T19:09:03.175212",
   "environment_variables": {},
   "exception": null,
   "input_path": "__notebook__.ipynb",
   "output_path": "__notebook__.ipynb",
   "parameters": {},
   "start_time": "2024-06-05T17:24:22.573175",
   "version": "2.5.0"
  }
 },
 "nbformat": 4,
 "nbformat_minor": 5
}
